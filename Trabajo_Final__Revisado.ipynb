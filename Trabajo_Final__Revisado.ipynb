{
  "cells": [
    {
      "cell_type": "markdown",
      "metadata": {
        "colab_type": "text",
        "id": "view-in-github"
      },
      "source": [
        "<a href=\"https://colab.research.google.com/github/gluoneros/greenPredEnergy/blob/main/Trabajo_Final__Revisado.ipynb\" target=\"_parent\"><img src=\"https://colab.research.google.com/assets/colab-badge.svg\" alt=\"Open In Colab\"/></a>"
      ]
    },
    {
      "cell_type": "markdown",
      "metadata": {
        "id": "Ll2Yz8QhhUQt"
      },
      "source": [
        "# **GreenPredEnergy - TalentoTech**\n",
        "\n",
        "Modelo de clasificación de viabilidad de proyectos de energia renovable en los municipios de Colombia\n",
        "\n",
        "## Descripcion 🚀\n",
        "\n",
        "A través del análisis de datos energéticos y meteorológicos, de los municipios, este modelo evalua y predice la viabilidad de un proyecto de energía renovable. Con la información que brinda este algoritmo de machine learning los inversores y los gobiernos locales tienen la oportunidad de evaluar y reducir los costos de un proyecto de energía solar o eólica basandose en un porcentaje de viabilidad predicho por el modelo.\n"
      ]
    },
    {
      "cell_type": "markdown",
      "metadata": {
        "id": "Dv9rYYm9rzzZ"
      },
      "source": [
        "# **Objetivo**\n",
        "Evaluar la viabilidad de un proyecto de energía eólica en los municipios de Colombia, por medio de datos meteorológicos y energéticos del año 2024, con el fin de impulsar el desarrollo municipal del país y salvaguardar las inversiones de aquellos interesados en crear un proyecto de energía renovable, tipo solar o eólico, a través de un porcentaje de viabilidad.\n"
      ]
    },
    {
      "cell_type": "markdown",
      "metadata": {
        "id": "S5LeU7GJrzza"
      },
      "source": [
        "# **1. Importaciones**"
      ]
    },
    {
      "cell_type": "markdown",
      "metadata": {
        "id": "WQdKhubzPxpr"
      },
      "source": [
        "**Requerimientos para consumo de API**"
      ]
    },
    {
      "cell_type": "code",
      "execution_count": 1,
      "metadata": {
        "colab": {
          "base_uri": "https://localhost:8080/"
        },
        "id": "i_ejQpXfhUQu",
        "outputId": "f9fa36f9-39eb-480c-a894-0e1ad37bd6a1"
      },
      "outputs": [
        {
          "name": "stdout",
          "output_type": "stream",
          "text": [
            "Requirement already satisfied: sodapy in ./.venv/lib/python3.13/site-packages (2.2.0)\n",
            "Requirement already satisfied: requests>=2.28.1 in ./.venv/lib/python3.13/site-packages (from sodapy) (2.32.3)\n",
            "Requirement already satisfied: charset-normalizer<4,>=2 in ./.venv/lib64/python3.13/site-packages (from requests>=2.28.1->sodapy) (3.4.1)\n",
            "Requirement already satisfied: idna<4,>=2.5 in ./.venv/lib/python3.13/site-packages (from requests>=2.28.1->sodapy) (3.10)\n",
            "Requirement already satisfied: urllib3<3,>=1.21.1 in ./.venv/lib/python3.13/site-packages (from requests>=2.28.1->sodapy) (2.4.0)\n",
            "Requirement already satisfied: certifi>=2017.4.17 in ./.venv/lib/python3.13/site-packages (from requests>=2.28.1->sodapy) (2025.1.31)\n"
          ]
        }
      ],
      "source": [
        "#Cliente de python para consumo de API\n",
        "!pip install sodapy #requerimientos para usar datos del gobierno"
      ]
    },
    {
      "cell_type": "markdown",
      "metadata": {
        "id": "8Z2vwfy5LBla"
      },
      "source": [
        "**Bibliotecas**\n"
      ]
    },
    {
      "cell_type": "code",
      "execution_count": 3,
      "metadata": {
        "id": "nhZ5DA58hUQt"
      },
      "outputs": [],
      "source": [
        "#Bibliotecas\n",
        "  # Manejo de datos\n",
        "import pandas as pd\n",
        "import numpy as np\n",
        "\n",
        "  # Visualización de datos\n",
        "import matplotlib.pyplot as plt\n",
        "import seaborn as sns\n",
        "\n",
        "  # Despliegue\n",
        "import pickle"
      ]
    },
    {
      "cell_type": "markdown",
      "metadata": {
        "id": "FczA0jyvLcDW"
      },
      "source": [
        "**Librerías**"
      ]
    },
    {
      "cell_type": "code",
      "execution_count": 4,
      "metadata": {
        "id": "RQ5TNk3SApjV"
      },
      "outputs": [],
      "source": [
        "#Librerías\n",
        "  #Modelo\n",
        "from sklearn.model_selection import train_test_split, KFold, cross_val_score\n",
        "from sklearn.linear_model import LogisticRegression\n",
        "from sklearn.naive_bayes import MultinomialNB, GaussianNB, BernoulliNB\n",
        "\n",
        "  #Métricas\n",
        "from sklearn.metrics import classification_report, accuracy_score, confusion_matrix, auc, roc_curve, roc_auc_score\n",
        "\n",
        "  #Preprocesamiento\n",
        "from sklearn.impute import KNNImputer\n",
        "from sklearn.preprocessing import RobustScaler\n",
        "\n",
        "  #Catálogo de datos abiertos\n",
        "from sodapy import Socrata"
      ]
    },
    {
      "cell_type": "code",
      "execution_count": 5,
      "metadata": {
        "colab": {
          "base_uri": "https://localhost:8080/"
        },
        "id": "5lBN0m-XhUQu",
        "outputId": "89600412-2cf2-4b17-dae2-48dbbe91ac37"
      },
      "outputs": [
        {
          "name": "stderr",
          "output_type": "stream",
          "text": [
            "WARNING:root:Requests made without an app_token will be subject to strict throttling limits.\n"
          ]
        }
      ],
      "source": [
        "#Clientes de API\n",
        "client = Socrata(\"www.datos.gov.co\", None)"
      ]
    },
    {
      "cell_type": "markdown",
      "metadata": {
        "id": "bau2fpYyrzzd"
      },
      "source": [
        "# **2. Carga y Procesamiento de datos**\n",
        "\n",
        "En esta sección se descargarán los datasets y se harán un preprocesamiento de los datos."
      ]
    },
    {
      "cell_type": "markdown",
      "metadata": {
        "id": "OLHTHurxRiLX"
      },
      "source": [
        "**Dataframe No. 1:**\n",
        "---\n",
        "Estado de la prestación del servicio de energía en Zonas No Interconectadas\n",
        "[enlace](https://www.datos.gov.co/Minas-y-Energ-a/Estado-de-la-prestaci-n-del-servicio-de-energ-a-en/3ebi-d83g/about_data)\n",
        "\n"
      ]
    },
    {
      "cell_type": "markdown",
      "metadata": {
        "id": "SGeIm0pVUwe5"
      },
      "source": [
        "**Descarga y agrupamiento de datos**"
      ]
    },
    {
      "cell_type": "code",
      "execution_count": 6,
      "metadata": {
        "id": "VAEXAD_LhUQv"
      },
      "outputs": [],
      "source": [
        "results1 = client.get(\"3ebi-d83g\", limit=5000) #Del cliente, pyhton va a descargar 5000 archivos"
      ]
    },
    {
      "cell_type": "code",
      "execution_count": 7,
      "metadata": {
        "colab": {
          "base_uri": "https://localhost:8080/",
          "height": 521
        },
        "id": "tM-RjbCwhUQv",
        "outputId": "76ad2007-6120-4d5e-b084-5409272bf984"
      },
      "outputs": [
        {
          "data": {
            "text/html": [
              "<div>\n",
              "<style scoped>\n",
              "    .dataframe tbody tr th:only-of-type {\n",
              "        vertical-align: middle;\n",
              "    }\n",
              "\n",
              "    .dataframe tbody tr th {\n",
              "        vertical-align: top;\n",
              "    }\n",
              "\n",
              "    .dataframe thead th {\n",
              "        text-align: right;\n",
              "    }\n",
              "</style>\n",
              "<table border=\"1\" class=\"dataframe\">\n",
              "  <thead>\n",
              "    <tr style=\"text-align: right;\">\n",
              "      <th></th>\n",
              "      <th>id_dpto</th>\n",
              "      <th>dpto</th>\n",
              "      <th>id_mpio</th>\n",
              "      <th>mpio</th>\n",
              "      <th>id_localidad</th>\n",
              "      <th>localidad</th>\n",
              "      <th>anio</th>\n",
              "      <th>mes</th>\n",
              "      <th>energia_activa</th>\n",
              "      <th>energia_reactiva</th>\n",
              "      <th>potencia_maxima</th>\n",
              "      <th>dia_demanda_maxima</th>\n",
              "      <th>fecha_demanda_maxima</th>\n",
              "      <th>prom_diario_horas</th>\n",
              "    </tr>\n",
              "  </thead>\n",
              "  <tbody>\n",
              "    <tr>\n",
              "      <th>0</th>\n",
              "      <td>91</td>\n",
              "      <td>AMAZONAS</td>\n",
              "      <td>91001</td>\n",
              "      <td>LETICIA</td>\n",
              "      <td>91001000</td>\n",
              "      <td>LETICIA (LETICIA - AMAZONAS)</td>\n",
              "      <td>2024</td>\n",
              "      <td>06</td>\n",
              "      <td>3994102</td>\n",
              "      <td>1010671</td>\n",
              "      <td>7824.51</td>\n",
              "      <td>Jueves</td>\n",
              "      <td>2024-06-20T15:30:00.000</td>\n",
              "      <td>24</td>\n",
              "    </tr>\n",
              "    <tr>\n",
              "      <th>1</th>\n",
              "      <td>91</td>\n",
              "      <td>AMAZONAS</td>\n",
              "      <td>91540</td>\n",
              "      <td>PUERTO NARIÑO</td>\n",
              "      <td>91540000</td>\n",
              "      <td>PUERTO NARIÑO (PUERTO NARIÑO - AMAZONAS)</td>\n",
              "      <td>2024</td>\n",
              "      <td>06</td>\n",
              "      <td>127838</td>\n",
              "      <td>40378</td>\n",
              "      <td>256.00</td>\n",
              "      <td>Miércoles</td>\n",
              "      <td>2024-06-05T18:15:00.000</td>\n",
              "      <td>24</td>\n",
              "    </tr>\n",
              "    <tr>\n",
              "      <th>2</th>\n",
              "      <td>91</td>\n",
              "      <td>AMAZONAS</td>\n",
              "      <td>91798</td>\n",
              "      <td>TARAPACA (ANM)</td>\n",
              "      <td>91798000</td>\n",
              "      <td>TARAPACA (TARAPACA (ANM) - AMAZONAS)</td>\n",
              "      <td>2024</td>\n",
              "      <td>06</td>\n",
              "      <td>26578</td>\n",
              "      <td>11917</td>\n",
              "      <td>101.43</td>\n",
              "      <td>Jueves</td>\n",
              "      <td>2024-06-20T18:30:00.000</td>\n",
              "      <td>10.18</td>\n",
              "    </tr>\n",
              "    <tr>\n",
              "      <th>3</th>\n",
              "      <td>88</td>\n",
              "      <td>ARCHIPIÉLAGO DE SAN ANDRÉS y PROVIDENCIA</td>\n",
              "      <td>88564</td>\n",
              "      <td>PROVIDENCIA</td>\n",
              "      <td>88564000</td>\n",
              "      <td>PROVIDENCIA (PROVIDENCIA - ARCHIPIÉLAGO DE SAN...</td>\n",
              "      <td>2024</td>\n",
              "      <td>06</td>\n",
              "      <td>1284196</td>\n",
              "      <td>274864</td>\n",
              "      <td>2241.56</td>\n",
              "      <td>Miércoles</td>\n",
              "      <td>2024-06-12T14:15:00.000</td>\n",
              "      <td>24</td>\n",
              "    </tr>\n",
              "    <tr>\n",
              "      <th>4</th>\n",
              "      <td>13</td>\n",
              "      <td>BOLÍVAR</td>\n",
              "      <td>13001</td>\n",
              "      <td>CARTAGENA DE INDIAS</td>\n",
              "      <td>13001007</td>\n",
              "      <td>ISLA FUERTE (CARTAGENA DE INDIAS - BOLÍVAR)</td>\n",
              "      <td>2024</td>\n",
              "      <td>06</td>\n",
              "      <td>60724</td>\n",
              "      <td>28336</td>\n",
              "      <td>265.63</td>\n",
              "      <td>Domingo</td>\n",
              "      <td>2024-06-30T20:00:00.000</td>\n",
              "      <td>9.4</td>\n",
              "    </tr>\n",
              "  </tbody>\n",
              "</table>\n",
              "</div>"
            ],
            "text/plain": [
              "  id_dpto                                      dpto id_mpio  \\\n",
              "0      91                                  AMAZONAS   91001   \n",
              "1      91                                  AMAZONAS   91540   \n",
              "2      91                                  AMAZONAS   91798   \n",
              "3      88  ARCHIPIÉLAGO DE SAN ANDRÉS y PROVIDENCIA   88564   \n",
              "4      13                                   BOLÍVAR   13001   \n",
              "\n",
              "                  mpio id_localidad  \\\n",
              "0              LETICIA     91001000   \n",
              "1        PUERTO NARIÑO     91540000   \n",
              "2       TARAPACA (ANM)     91798000   \n",
              "3          PROVIDENCIA     88564000   \n",
              "4  CARTAGENA DE INDIAS     13001007   \n",
              "\n",
              "                                           localidad  anio mes energia_activa  \\\n",
              "0                       LETICIA (LETICIA - AMAZONAS)  2024  06        3994102   \n",
              "1           PUERTO NARIÑO (PUERTO NARIÑO - AMAZONAS)  2024  06         127838   \n",
              "2               TARAPACA (TARAPACA (ANM) - AMAZONAS)  2024  06          26578   \n",
              "3  PROVIDENCIA (PROVIDENCIA - ARCHIPIÉLAGO DE SAN...  2024  06        1284196   \n",
              "4        ISLA FUERTE (CARTAGENA DE INDIAS - BOLÍVAR)  2024  06          60724   \n",
              "\n",
              "  energia_reactiva potencia_maxima dia_demanda_maxima  \\\n",
              "0          1010671         7824.51             Jueves   \n",
              "1            40378          256.00          Miércoles   \n",
              "2            11917          101.43             Jueves   \n",
              "3           274864         2241.56          Miércoles   \n",
              "4            28336          265.63            Domingo   \n",
              "\n",
              "      fecha_demanda_maxima prom_diario_horas  \n",
              "0  2024-06-20T15:30:00.000                24  \n",
              "1  2024-06-05T18:15:00.000                24  \n",
              "2  2024-06-20T18:30:00.000             10.18  \n",
              "3  2024-06-12T14:15:00.000                24  \n",
              "4  2024-06-30T20:00:00.000               9.4  "
            ]
          },
          "execution_count": 7,
          "metadata": {},
          "output_type": "execute_result"
        }
      ],
      "source": [
        "#Carga de datos\n",
        "datos1 = pd.DataFrame.from_records(results1)\n",
        "datos1.head()"
      ]
    },
    {
      "cell_type": "code",
      "execution_count": 8,
      "metadata": {
        "id": "2U68kh3shUQw"
      },
      "outputs": [],
      "source": [
        "#Creación de una nueva tabla a partir de los variables de interés\n",
        "df1 = pd.DataFrame(\n",
        "    {'municipio': datos1['mpio'],\n",
        "    'potencia_m': datos1['potencia_maxima'],\n",
        "    'energia_activa': datos1['energia_activa'],\n",
        "    'energia_reactiva': datos1['energia_reactiva']\n",
        "    }\n",
        ")"
      ]
    },
    {
      "cell_type": "markdown",
      "metadata": {
        "id": "HwFEb1BAVAOx"
      },
      "source": [
        "**Exploración de los datos**"
      ]
    },
    {
      "cell_type": "code",
      "execution_count": 9,
      "metadata": {
        "colab": {
          "base_uri": "https://localhost:8080/"
        },
        "id": "6CDre1z-hUQw",
        "outputId": "a3e6e5ce-a1d4-41f8-c75e-f6defb9532e3"
      },
      "outputs": [
        {
          "name": "stdout",
          "output_type": "stream",
          "text": [
            "<class 'pandas.core.frame.DataFrame'>\n",
            "RangeIndex: 4591 entries, 0 to 4590\n",
            "Data columns (total 4 columns):\n",
            " #   Column            Non-Null Count  Dtype \n",
            "---  ------            --------------  ----- \n",
            " 0   municipio         4591 non-null   object\n",
            " 1   potencia_m        4591 non-null   object\n",
            " 2   energia_activa    4591 non-null   object\n",
            " 3   energia_reactiva  4591 non-null   object\n",
            "dtypes: object(4)\n",
            "memory usage: 143.6+ KB\n"
          ]
        }
      ],
      "source": [
        "# A través de este comando se analizan las características del dataset tales como el tipo del objeto, el tamaño de la tabla.\n",
        "df1.info()"
      ]
    },
    {
      "cell_type": "code",
      "execution_count": 10,
      "metadata": {
        "colab": {
          "base_uri": "https://localhost:8080/",
          "height": 209
        },
        "id": "-Q8Xv1frXQOq",
        "outputId": "3e09567e-a13d-444a-df2d-45ce71dd3a50"
      },
      "outputs": [
        {
          "data": {
            "text/plain": [
              "municipio           0\n",
              "potencia_m          0\n",
              "energia_activa      0\n",
              "energia_reactiva    0\n",
              "dtype: int64"
            ]
          },
          "execution_count": 10,
          "metadata": {},
          "output_type": "execute_result"
        }
      ],
      "source": [
        "df1.isnull().sum() #conteo de valores nulos en el dataset"
      ]
    },
    {
      "cell_type": "code",
      "execution_count": 11,
      "metadata": {
        "colab": {
          "base_uri": "https://localhost:8080/",
          "height": 423
        },
        "collapsed": true,
        "id": "gT489HSbXQOs",
        "outputId": "5d73f049-8a20-4d29-86a1-6475f83ef8b9"
      },
      "outputs": [
        {
          "data": {
            "text/html": [
              "<div>\n",
              "<style scoped>\n",
              "    .dataframe tbody tr th:only-of-type {\n",
              "        vertical-align: middle;\n",
              "    }\n",
              "\n",
              "    .dataframe tbody tr th {\n",
              "        vertical-align: top;\n",
              "    }\n",
              "\n",
              "    .dataframe thead th {\n",
              "        text-align: right;\n",
              "    }\n",
              "</style>\n",
              "<table border=\"1\" class=\"dataframe\">\n",
              "  <thead>\n",
              "    <tr style=\"text-align: right;\">\n",
              "      <th></th>\n",
              "      <th>municipio</th>\n",
              "      <th>potencia_m</th>\n",
              "      <th>energia_activa</th>\n",
              "      <th>energia_reactiva</th>\n",
              "    </tr>\n",
              "  </thead>\n",
              "  <tbody>\n",
              "    <tr>\n",
              "      <th>0</th>\n",
              "      <td>LETICIA</td>\n",
              "      <td>7824.51</td>\n",
              "      <td>3994102</td>\n",
              "      <td>1010671.0</td>\n",
              "    </tr>\n",
              "    <tr>\n",
              "      <th>1</th>\n",
              "      <td>PUERTO NARIÑO</td>\n",
              "      <td>256.00</td>\n",
              "      <td>127838</td>\n",
              "      <td>40378.0</td>\n",
              "    </tr>\n",
              "    <tr>\n",
              "      <th>2</th>\n",
              "      <td>TARAPACA (ANM)</td>\n",
              "      <td>101.43</td>\n",
              "      <td>26578</td>\n",
              "      <td>11917.0</td>\n",
              "    </tr>\n",
              "    <tr>\n",
              "      <th>3</th>\n",
              "      <td>PROVIDENCIA</td>\n",
              "      <td>2241.56</td>\n",
              "      <td>1284196</td>\n",
              "      <td>274864.0</td>\n",
              "    </tr>\n",
              "    <tr>\n",
              "      <th>4</th>\n",
              "      <td>CARTAGENA DE INDIAS</td>\n",
              "      <td>265.63</td>\n",
              "      <td>60724</td>\n",
              "      <td>28336.0</td>\n",
              "    </tr>\n",
              "    <tr>\n",
              "      <th>...</th>\n",
              "      <td>...</td>\n",
              "      <td>...</td>\n",
              "      <td>...</td>\n",
              "      <td>...</td>\n",
              "    </tr>\n",
              "    <tr>\n",
              "      <th>4586</th>\n",
              "      <td>CARURÚ</td>\n",
              "      <td>92.14</td>\n",
              "      <td>35746</td>\n",
              "      <td>8582.0</td>\n",
              "    </tr>\n",
              "    <tr>\n",
              "      <th>4587</th>\n",
              "      <td>MITÚ</td>\n",
              "      <td>3355.10</td>\n",
              "      <td>1632356</td>\n",
              "      <td>385301.0</td>\n",
              "    </tr>\n",
              "    <tr>\n",
              "      <th>4588</th>\n",
              "      <td>TARAIRA</td>\n",
              "      <td>138.16</td>\n",
              "      <td>45482</td>\n",
              "      <td>12302.0</td>\n",
              "    </tr>\n",
              "    <tr>\n",
              "      <th>4589</th>\n",
              "      <td>PUERTO CARREÑO</td>\n",
              "      <td>5147.12</td>\n",
              "      <td>2506803</td>\n",
              "      <td>703817.0</td>\n",
              "    </tr>\n",
              "    <tr>\n",
              "      <th>4590</th>\n",
              "      <td>LETICIA</td>\n",
              "      <td>8735.74</td>\n",
              "      <td>4468740</td>\n",
              "      <td>1128508.0</td>\n",
              "    </tr>\n",
              "  </tbody>\n",
              "</table>\n",
              "<p>4591 rows × 4 columns</p>\n",
              "</div>"
            ],
            "text/plain": [
              "                municipio  potencia_m  energia_activa  energia_reactiva\n",
              "0                 LETICIA     7824.51         3994102         1010671.0\n",
              "1           PUERTO NARIÑO      256.00          127838           40378.0\n",
              "2          TARAPACA (ANM)      101.43           26578           11917.0\n",
              "3             PROVIDENCIA     2241.56         1284196          274864.0\n",
              "4     CARTAGENA DE INDIAS      265.63           60724           28336.0\n",
              "...                   ...         ...             ...               ...\n",
              "4586               CARURÚ       92.14           35746            8582.0\n",
              "4587                 MITÚ     3355.10         1632356          385301.0\n",
              "4588              TARAIRA      138.16           45482           12302.0\n",
              "4589       PUERTO CARREÑO     5147.12         2506803          703817.0\n",
              "4590              LETICIA     8735.74         4468740         1128508.0\n",
              "\n",
              "[4591 rows x 4 columns]"
            ]
          },
          "execution_count": 11,
          "metadata": {},
          "output_type": "execute_result"
        }
      ],
      "source": [
        "#Conversión de los datos categóricos de interés a datos numéricos\n",
        "df1['potencia_m'] = pd.to_numeric(df1['potencia_m'], errors='coerce')\n",
        "df1['energia_activa'] = pd.to_numeric(df1['energia_activa'], errors='coerce')\n",
        "df1['energia_reactiva'] = pd.to_numeric(df1['energia_reactiva'], errors='coerce')\n",
        "df1"
      ]
    },
    {
      "cell_type": "code",
      "execution_count": 12,
      "metadata": {
        "colab": {
          "base_uri": "https://localhost:8080/"
        },
        "id": "yAMmgFulVuC4",
        "outputId": "8da30e53-04ee-4e3c-d30a-b842698252e9"
      },
      "outputs": [
        {
          "name": "stdout",
          "output_type": "stream",
          "text": [
            "<class 'pandas.core.frame.DataFrame'>\n",
            "RangeIndex: 4591 entries, 0 to 4590\n",
            "Data columns (total 4 columns):\n",
            " #   Column            Non-Null Count  Dtype  \n",
            "---  ------            --------------  -----  \n",
            " 0   municipio         4591 non-null   object \n",
            " 1   potencia_m        4591 non-null   float64\n",
            " 2   energia_activa    4591 non-null   int64  \n",
            " 3   energia_reactiva  4591 non-null   float64\n",
            "dtypes: float64(2), int64(1), object(1)\n",
            "memory usage: 143.6+ KB\n"
          ]
        }
      ],
      "source": [
        "# Se verifica conversion a numerico\n",
        "df1.info()"
      ]
    },
    {
      "cell_type": "markdown",
      "metadata": {
        "id": "g2Mw8eSCXM9E"
      },
      "source": [
        "**Tratamiento de datos**\n",
        "\n",
        "Valores repetidos"
      ]
    },
    {
      "cell_type": "code",
      "execution_count": 13,
      "metadata": {
        "colab": {
          "base_uri": "https://localhost:8080/",
          "height": 467
        },
        "id": "lDDUijgbVgyP",
        "outputId": "19227442-d960-4c88-a045-1085754a96e8"
      },
      "outputs": [
        {
          "data": {
            "text/plain": [
              "<Axes: xlabel='potencia_m', ylabel='Count'>"
            ]
          },
          "execution_count": 13,
          "metadata": {},
          "output_type": "execute_result"
        },
        {
          "data": {
            "image/png": "[encoded data removed]",
            "text/plain": [
              "<Figure size 640x480 with 1 Axes>"
            ]
          },
          "metadata": {},
          "output_type": "display_data"
        }
      ],
      "source": [
        "#Visualización de los datos previo a la selección posible de media o mediana\n",
        "sns.histplot(df1['potencia_m'])"
      ]
    },
    {
      "cell_type": "code",
      "execution_count": 14,
      "metadata": {
        "colab": {
          "base_uri": "https://localhost:8080/",
          "height": 467
        },
        "id": "07txhapxWMeE",
        "outputId": "19d5605e-ed50-4da6-f4b3-5c76db087b7c"
      },
      "outputs": [
        {
          "data": {
            "text/plain": [
              "<Axes: xlabel='energia_activa', ylabel='Count'>"
            ]
          },
          "execution_count": 14,
          "metadata": {},
          "output_type": "execute_result"
        },
        {
          "data": {
            "image/png": "[encoded data removed]",
            "text/plain": [
              "<Figure size 640x480 with 1 Axes>"
            ]
          },
          "metadata": {},
          "output_type": "display_data"
        }
      ],
      "source": [
        "#Visualización de los datos previo a la selección posible de media o mediana\n",
        "sns.histplot(df1['energia_activa'])"
      ]
    },
    {
      "cell_type": "code",
      "execution_count": 15,
      "metadata": {
        "colab": {
          "base_uri": "https://localhost:8080/",
          "height": 467
        },
        "id": "5toQJVY8WP01",
        "outputId": "4ff2b004-1e9a-4df6-c0b5-477eee7b526f"
      },
      "outputs": [
        {
          "data": {
            "text/plain": [
              "<Axes: xlabel='energia_reactiva', ylabel='Count'>"
            ]
          },
          "execution_count": 15,
          "metadata": {},
          "output_type": "execute_result"
        },
        {
          "data": {
            "image/png": "[encoded data removed]",
            "text/plain": [
              "<Figure size 640x480 with 1 Axes>"
            ]
          },
          "metadata": {},
          "output_type": "display_data"
        }
      ],
      "source": [
        "#Visualización de los datos previo a la selección posible de media o mediana\n",
        "sns.histplot(df1['energia_reactiva'])"
      ]
    },
    {
      "cell_type": "code",
      "execution_count": 16,
      "metadata": {
        "colab": {
          "base_uri": "https://localhost:8080/",
          "height": 423
        },
        "id": "aBWkp8vGaY9w",
        "outputId": "74a85c14-6641-4f61-9351-f9b0fd0cd701"
      },
      "outputs": [
        {
          "data": {
            "text/html": [
              "<div>\n",
              "<style scoped>\n",
              "    .dataframe tbody tr th:only-of-type {\n",
              "        vertical-align: middle;\n",
              "    }\n",
              "\n",
              "    .dataframe tbody tr th {\n",
              "        vertical-align: top;\n",
              "    }\n",
              "\n",
              "    .dataframe thead th {\n",
              "        text-align: right;\n",
              "    }\n",
              "</style>\n",
              "<table border=\"1\" class=\"dataframe\">\n",
              "  <thead>\n",
              "    <tr style=\"text-align: right;\">\n",
              "      <th></th>\n",
              "      <th>municipio</th>\n",
              "      <th>potencia_m</th>\n",
              "      <th>energia_activa</th>\n",
              "      <th>energia_reactiva</th>\n",
              "    </tr>\n",
              "  </thead>\n",
              "  <tbody>\n",
              "    <tr>\n",
              "      <th>0</th>\n",
              "      <td>ACANDI</td>\n",
              "      <td>1016.225</td>\n",
              "      <td>496707.5</td>\n",
              "      <td>170400.15</td>\n",
              "    </tr>\n",
              "    <tr>\n",
              "      <th>1</th>\n",
              "      <td>ACANDÍ</td>\n",
              "      <td>898.570</td>\n",
              "      <td>377087.5</td>\n",
              "      <td>135449.00</td>\n",
              "    </tr>\n",
              "    <tr>\n",
              "      <th>2</th>\n",
              "      <td>ALTO BAUDO</td>\n",
              "      <td>127.335</td>\n",
              "      <td>52319.0</td>\n",
              "      <td>17949.00</td>\n",
              "    </tr>\n",
              "    <tr>\n",
              "      <th>3</th>\n",
              "      <td>ALTO BAUDO (PIE DE PATO)</td>\n",
              "      <td>108.590</td>\n",
              "      <td>46705.0</td>\n",
              "      <td>16143.49</td>\n",
              "    </tr>\n",
              "    <tr>\n",
              "      <th>4</th>\n",
              "      <td>ALTO BAUDÓ</td>\n",
              "      <td>114.050</td>\n",
              "      <td>47341.0</td>\n",
              "      <td>15989.00</td>\n",
              "    </tr>\n",
              "    <tr>\n",
              "      <th>...</th>\n",
              "      <td>...</td>\n",
              "      <td>...</td>\n",
              "      <td>...</td>\n",
              "      <td>...</td>\n",
              "    </tr>\n",
              "    <tr>\n",
              "      <th>90</th>\n",
              "      <td>UNGUÍA</td>\n",
              "      <td>93.020</td>\n",
              "      <td>20520.0</td>\n",
              "      <td>8206.00</td>\n",
              "    </tr>\n",
              "    <tr>\n",
              "      <th>91</th>\n",
              "      <td>URIBIA</td>\n",
              "      <td>234.000</td>\n",
              "      <td>37058.0</td>\n",
              "      <td>11120.00</td>\n",
              "    </tr>\n",
              "    <tr>\n",
              "      <th>92</th>\n",
              "      <td>URIBÍA</td>\n",
              "      <td>189.920</td>\n",
              "      <td>44960.5</td>\n",
              "      <td>11393.00</td>\n",
              "    </tr>\n",
              "    <tr>\n",
              "      <th>93</th>\n",
              "      <td>VIGIA DEL FUERTE</td>\n",
              "      <td>35.810</td>\n",
              "      <td>3567.0</td>\n",
              "      <td>393.35</td>\n",
              "    </tr>\n",
              "    <tr>\n",
              "      <th>94</th>\n",
              "      <td>VIGÍA DEL FUERTE</td>\n",
              "      <td>42.015</td>\n",
              "      <td>5383.5</td>\n",
              "      <td>1402.50</td>\n",
              "    </tr>\n",
              "  </tbody>\n",
              "</table>\n",
              "<p>95 rows × 4 columns</p>\n",
              "</div>"
            ],
            "text/plain": [
              "                   municipio  potencia_m  energia_activa  energia_reactiva\n",
              "0                     ACANDI    1016.225        496707.5         170400.15\n",
              "1                     ACANDÍ     898.570        377087.5         135449.00\n",
              "2                 ALTO BAUDO     127.335         52319.0          17949.00\n",
              "3   ALTO BAUDO (PIE DE PATO)     108.590         46705.0          16143.49\n",
              "4                 ALTO BAUDÓ     114.050         47341.0          15989.00\n",
              "..                       ...         ...             ...               ...\n",
              "90                    UNGUÍA      93.020         20520.0           8206.00\n",
              "91                    URIBIA     234.000         37058.0          11120.00\n",
              "92                    URIBÍA     189.920         44960.5          11393.00\n",
              "93          VIGIA DEL FUERTE      35.810          3567.0            393.35\n",
              "94          VIGÍA DEL FUERTE      42.015          5383.5           1402.50\n",
              "\n",
              "[95 rows x 4 columns]"
            ]
          },
          "execution_count": 16,
          "metadata": {},
          "output_type": "execute_result"
        }
      ],
      "source": [
        "# Para depurar el dataset de variables repetidas se usa esa esta forma\n",
        "  # Por cada municipio único va a sacar la media de los datos correspondientes a este lugar\n",
        "energy = df1.groupby('municipio').agg({'potencia_m': 'median', 'energia_activa': 'median', 'energia_reactiva': 'median'}).reset_index()\n",
        "#Creamos una tabla nueva con los datos únicos\n",
        "energy"
      ]
    },
    {
      "cell_type": "markdown",
      "metadata": {
        "id": "d00r14Y1c79C"
      },
      "source": [
        "Nótese que de 4273 municipios repetidos pasamos a 95 municipios únicos"
      ]
    },
    {
      "cell_type": "code",
      "execution_count": 17,
      "metadata": {
        "colab": {
          "base_uri": "https://localhost:8080/"
        },
        "id": "UMYliVFm_wN8",
        "outputId": "31a5c439-0a3f-4523-a9e6-1c8db47fd7ef"
      },
      "outputs": [
        {
          "data": {
            "text/plain": [
              "np.int64(95)"
            ]
          },
          "execution_count": 17,
          "metadata": {},
          "output_type": "execute_result"
        }
      ],
      "source": [
        "# Evaluación de los municipios\n",
        "energy['municipio'].value_counts().sum()"
      ]
    },
    {
      "cell_type": "code",
      "execution_count": 18,
      "metadata": {
        "colab": {
          "base_uri": "https://localhost:8080/"
        },
        "id": "PqPwUFo_t1pE",
        "outputId": "da9255a3-2e8f-4efd-d9eb-d74292db69a9"
      },
      "outputs": [
        {
          "name": "stdout",
          "output_type": "stream",
          "text": [
            "<class 'pandas.core.frame.DataFrame'>\n",
            "RangeIndex: 95 entries, 0 to 94\n",
            "Data columns (total 4 columns):\n",
            " #   Column            Non-Null Count  Dtype  \n",
            "---  ------            --------------  -----  \n",
            " 0   municipio         95 non-null     object \n",
            " 1   potencia_m        95 non-null     float64\n",
            " 2   energia_activa    95 non-null     float64\n",
            " 3   energia_reactiva  95 non-null     float64\n",
            "dtypes: float64(3), object(1)\n",
            "memory usage: 3.1+ KB\n"
          ]
        }
      ],
      "source": [
        "# Análisis de caractaríticas\n",
        "energy.info()"
      ]
    },
    {
      "cell_type": "markdown",
      "metadata": {
        "id": "YobZAR3ya0m7"
      },
      "source": [
        "**Visualización de los datos**"
      ]
    },
    {
      "cell_type": "code",
      "execution_count": 19,
      "metadata": {
        "colab": {
          "base_uri": "https://localhost:8080/",
          "height": 485
        },
        "id": "dBJ5JB8CbTjd",
        "outputId": "2f897b15-ac57-4072-dd0b-6a92b5ae2079"
      },
      "outputs": [
        {
          "name": "stdout",
          "output_type": "stream",
          "text": [
            "Media: 1052.1614210526316\n",
            "Mediana: 89.96\n"
          ]
        },
        {
          "data": {
            "image/png": "[encoded data removed]",
            "text/plain": [
              "<Figure size 640x480 with 1 Axes>"
            ]
          },
          "metadata": {},
          "output_type": "display_data"
        }
      ],
      "source": [
        "#Visualización de los datos de energía reactiva con sus medias y medianas\n",
        "sns.histplot(energy['potencia_m'])\n",
        "print('Media:',energy['potencia_m'].mean())\n",
        "print('Mediana:', energy['potencia_m'].median())"
      ]
    },
    {
      "cell_type": "code",
      "execution_count": 20,
      "metadata": {
        "colab": {
          "base_uri": "https://localhost:8080/",
          "height": 485
        },
        "id": "0nm2yGwu4VFx",
        "outputId": "b8c7e2d8-1b36-40c3-d4f3-0b23ca35af80"
      },
      "outputs": [
        {
          "name": "stdout",
          "output_type": "stream",
          "text": [
            "Media: 574443.4631578948\n",
            "Mediana: 21208.5\n"
          ]
        },
        {
          "data": {
            "image/png": "[encoded data removed]",
            "text/plain": [
              "<Figure size 640x480 with 1 Axes>"
            ]
          },
          "metadata": {},
          "output_type": "display_data"
        }
      ],
      "source": [
        "#Visualización de los datos de energía activa con sus medias y medianas\n",
        "sns.histplot(energy['energia_activa'])\n",
        "print('Media:', energy['energia_activa'].mean())\n",
        "print('Mediana:', energy['energia_activa'].median())"
      ]
    },
    {
      "cell_type": "code",
      "execution_count": 21,
      "metadata": {
        "colab": {
          "base_uri": "https://localhost:8080/",
          "height": 485
        },
        "id": "AnCH2Uye4bfg",
        "outputId": "2b23c1db-e42d-4717-c3cb-ee769d17e210"
      },
      "outputs": [
        {
          "name": "stdout",
          "output_type": "stream",
          "text": [
            "Media: 163217.39868421055\n",
            "Mediana: 8182.0\n"
          ]
        },
        {
          "data": {
            "image/png": "[encoded data removed]",
            "text/plain": [
              "<Figure size 640x480 with 1 Axes>"
            ]
          },
          "metadata": {},
          "output_type": "display_data"
        }
      ],
      "source": [
        "#Visualización de los datos de energía reactiva con sus medias y medianas\n",
        "sns.histplot(energy['energia_reactiva'])\n",
        "print('Media:',energy['energia_reactiva'].mean())\n",
        "print('Mediana:', energy['energia_reactiva'].median())"
      ]
    },
    {
      "cell_type": "code",
      "execution_count": 22,
      "metadata": {
        "colab": {
          "base_uri": "https://localhost:8080/",
          "height": 266
        },
        "id": "dTeM7Cmrb9Dc",
        "outputId": "024eff2d-055c-4f6e-ef71-f5e861909331"
      },
      "outputs": [
        {
          "data": {
            "text/plain": [
              "<Axes: >"
            ]
          },
          "execution_count": 22,
          "metadata": {},
          "output_type": "execute_result"
        },
        {
          "data": {
            "image/png": "[encoded data removed]",
            "text/plain": [
              "<Figure size 2400x600 with 1 Axes>"
            ]
          },
          "metadata": {},
          "output_type": "display_data"
        }
      ],
      "source": [
        "#visualización de la calidad de los datos\n",
        "plt.figure(figsize=(24, 6))\n",
        "columnas = energy[['potencia_m', 'energia_activa', 'energia_reactiva']]\n",
        "sns.boxplot(columnas, whis=3)"
      ]
    },
    {
      "cell_type": "markdown",
      "metadata": {
        "id": "Nu14JM40ciUf"
      },
      "source": [
        "Notemos que los datos de energía tienen muchos **datos atipicos**, además de una escala inmensa, a comparación con potencia máxima"
      ]
    },
    {
      "cell_type": "code",
      "execution_count": 23,
      "metadata": {
        "colab": {
          "base_uri": "https://localhost:8080/",
          "height": 452
        },
        "id": "H8skBcckXQOu",
        "outputId": "9421dde2-447d-4626-9507-d9d9252a7530"
      },
      "outputs": [
        {
          "data": {
            "text/plain": [
              "<Axes: >"
            ]
          },
          "execution_count": 23,
          "metadata": {},
          "output_type": "execute_result"
        },
        {
          "data": {
            "image/png": "[encoded data removed]",
            "text/plain": [
              "<Figure size 640x480 with 2 Axes>"
            ]
          },
          "metadata": {},
          "output_type": "display_data"
        }
      ],
      "source": [
        "#Analisis de correlacion multivariada entre las variables de interes.\n",
        "correlacion1 = energy[['potencia_m', 'energia_activa',\t'energia_reactiva']].corr()\n",
        "sns.heatmap(correlacion1, annot=True, cmap='coolwarm')"
      ]
    },
    {
      "cell_type": "markdown",
      "metadata": {
        "id": "zDjPTHledFSb"
      },
      "source": [
        "Existe una multicolinealidad muy alta entre las variables, esto significa que hay correlacion fuerte."
      ]
    },
    {
      "cell_type": "markdown",
      "metadata": {
        "id": "LFgC55HWrzzm"
      },
      "source": [
        "**Dataframe No. 2:**\n",
        "---\n",
        "Velocidad del viento en los municipios de colombia\n",
        "[vínculo](https://www.datos.gov.co/Ambiente-y-Desarrollo-Sostenible/Velocidad-Viento/sgfv-3yp8/about_data)\n"
      ]
    },
    {
      "cell_type": "markdown",
      "metadata": {
        "id": "anBgcQGrf6yi"
      },
      "source": [
        "**Descarga y agrupamiento de lo datos**"
      ]
    },
    {
      "cell_type": "code",
      "execution_count": 24,
      "metadata": {
        "colab": {
          "base_uri": "https://localhost:8080/",
          "height": 738
        },
        "id": "v5rrEbGGrzzt",
        "outputId": "7d48146e-ddad-4103-a8a3-f7d5770ca585"
      },
      "outputs": [
        {
          "data": {
            "text/html": [
              "<div>\n",
              "<style scoped>\n",
              "    .dataframe tbody tr th:only-of-type {\n",
              "        vertical-align: middle;\n",
              "    }\n",
              "\n",
              "    .dataframe tbody tr th {\n",
              "        vertical-align: top;\n",
              "    }\n",
              "\n",
              "    .dataframe thead th {\n",
              "        text-align: right;\n",
              "    }\n",
              "</style>\n",
              "<table border=\"1\" class=\"dataframe\">\n",
              "  <thead>\n",
              "    <tr style=\"text-align: right;\">\n",
              "      <th></th>\n",
              "      <th>codigoestacion</th>\n",
              "      <th>codigosensor</th>\n",
              "      <th>fechaobservacion</th>\n",
              "      <th>valorobservado</th>\n",
              "      <th>nombreestacion</th>\n",
              "      <th>departamento</th>\n",
              "      <th>municipio</th>\n",
              "      <th>zonahidrografica</th>\n",
              "      <th>latitud</th>\n",
              "      <th>longitud</th>\n",
              "      <th>descripcionsensor</th>\n",
              "      <th>unidadmedida</th>\n",
              "    </tr>\n",
              "  </thead>\n",
              "  <tbody>\n",
              "    <tr>\n",
              "      <th>0</th>\n",
              "      <td>0026125503</td>\n",
              "      <td>0103</td>\n",
              "      <td>2017-05-17T00:50:00.000</td>\n",
              "      <td>1.1</td>\n",
              "      <td>LA SIRENA  - AUT</td>\n",
              "      <td>VALLE DEL CAUCA</td>\n",
              "      <td>SEVILLA</td>\n",
              "      <td>CAUCA</td>\n",
              "      <td>4.285</td>\n",
              "      <td>-75.9025</td>\n",
              "      <td>Velocidad Viento (10 min)</td>\n",
              "      <td>m/s</td>\n",
              "    </tr>\n",
              "    <tr>\n",
              "      <th>1</th>\n",
              "      <td>0035035110</td>\n",
              "      <td>0103</td>\n",
              "      <td>2018-10-03T20:10:00.000</td>\n",
              "      <td>1.2</td>\n",
              "      <td>SALINAS DE UPIN  - AUT</td>\n",
              "      <td>META</td>\n",
              "      <td>RESTREPO</td>\n",
              "      <td>META</td>\n",
              "      <td>4.273861111</td>\n",
              "      <td>-73.58686111</td>\n",
              "      <td>Velocidad Viento (10 min)</td>\n",
              "      <td>m/s</td>\n",
              "    </tr>\n",
              "    <tr>\n",
              "      <th>2</th>\n",
              "      <td>0021015050</td>\n",
              "      <td>0103</td>\n",
              "      <td>2019-06-21T22:50:00.000</td>\n",
              "      <td>2.6</td>\n",
              "      <td>PURACE  - AUT</td>\n",
              "      <td>HUILA</td>\n",
              "      <td>SAN AGUSTÍN</td>\n",
              "      <td>ALTO MAGDALENA</td>\n",
              "      <td>1.925916667</td>\n",
              "      <td>-76.42755556</td>\n",
              "      <td>Velocidad Viento (10 min)</td>\n",
              "      <td>m/s</td>\n",
              "    </tr>\n",
              "    <tr>\n",
              "      <th>3</th>\n",
              "      <td>0021206930</td>\n",
              "      <td>0103</td>\n",
              "      <td>2010-11-08T09:50:00.000</td>\n",
              "      <td>3.6</td>\n",
              "      <td>PARAMO GUERRERO  - AUT</td>\n",
              "      <td>CUNDINAMARCA</td>\n",
              "      <td>ZIPAQUIRÁ</td>\n",
              "      <td>ALTO MAGDALENA</td>\n",
              "      <td>5.086444444</td>\n",
              "      <td>-74.02216667</td>\n",
              "      <td>Velocidad Viento (10 min)</td>\n",
              "      <td>m/s</td>\n",
              "    </tr>\n",
              "    <tr>\n",
              "      <th>4</th>\n",
              "      <td>0024015503</td>\n",
              "      <td>0103</td>\n",
              "      <td>2019-02-20T00:45:00.000</td>\n",
              "      <td>0.01103334</td>\n",
              "      <td>CONFINES  - AUT</td>\n",
              "      <td>SANTANDER</td>\n",
              "      <td>CONFINES</td>\n",
              "      <td>SOGAMOSO</td>\n",
              "      <td>6.373027778</td>\n",
              "      <td>-73.20760833</td>\n",
              "      <td>Velocidad Viento (10 min)</td>\n",
              "      <td>m/s</td>\n",
              "    </tr>\n",
              "    <tr>\n",
              "      <th>...</th>\n",
              "      <td>...</td>\n",
              "      <td>...</td>\n",
              "      <td>...</td>\n",
              "      <td>...</td>\n",
              "      <td>...</td>\n",
              "      <td>...</td>\n",
              "      <td>...</td>\n",
              "      <td>...</td>\n",
              "      <td>...</td>\n",
              "      <td>...</td>\n",
              "      <td>...</td>\n",
              "      <td>...</td>\n",
              "    </tr>\n",
              "    <tr>\n",
              "      <th>2995</th>\n",
              "      <td>0046015030</td>\n",
              "      <td>0103</td>\n",
              "      <td>2017-01-04T16:50:00.000</td>\n",
              "      <td>0.8</td>\n",
              "      <td>SAN VICENTE DEL CAGUAN  - AUT</td>\n",
              "      <td>CAQUETA</td>\n",
              "      <td>SAN VICENTE DEL CAGUÁN</td>\n",
              "      <td>CAGUÁN</td>\n",
              "      <td>2.063</td>\n",
              "      <td>-74.76269444</td>\n",
              "      <td>Velocidad Viento (10 min)</td>\n",
              "      <td>m/s</td>\n",
              "    </tr>\n",
              "    <tr>\n",
              "      <th>2996</th>\n",
              "      <td>0029065120</td>\n",
              "      <td>0103</td>\n",
              "      <td>2019-07-18T03:30:00.000</td>\n",
              "      <td>2.6</td>\n",
              "      <td>BATALLON NO. 6 - AUT</td>\n",
              "      <td>MAGDALENA</td>\n",
              "      <td>FUNDACIÓN</td>\n",
              "      <td>BAJO MAGDALENA</td>\n",
              "      <td>10.46536111</td>\n",
              "      <td>-73.92777778</td>\n",
              "      <td>Velocidad Viento (10 min)</td>\n",
              "      <td>m/s</td>\n",
              "    </tr>\n",
              "    <tr>\n",
              "      <th>2997</th>\n",
              "      <td>0028025120</td>\n",
              "      <td>0103</td>\n",
              "      <td>2019-05-07T11:40:00.000</td>\n",
              "      <td>2</td>\n",
              "      <td>SERRANIA DEL PERIJA  - AUT</td>\n",
              "      <td>CESAR</td>\n",
              "      <td>AGUSTÍN CODAZZI</td>\n",
              "      <td>CESAR</td>\n",
              "      <td>10.02908333</td>\n",
              "      <td>-73.04619444</td>\n",
              "      <td>Velocidad Viento (10 min)</td>\n",
              "      <td>m/s</td>\n",
              "    </tr>\n",
              "    <tr>\n",
              "      <th>2998</th>\n",
              "      <td>0052055170</td>\n",
              "      <td>0103</td>\n",
              "      <td>2017-10-02T16:40:00.000</td>\n",
              "      <td>0.9</td>\n",
              "      <td>LA JOSEFINA - AUT</td>\n",
              "      <td>NARIÑO</td>\n",
              "      <td>CONTADERO</td>\n",
              "      <td>PATÍA</td>\n",
              "      <td>0.930305556</td>\n",
              "      <td>-77.49119444</td>\n",
              "      <td>Velocidad Viento (10 min)</td>\n",
              "      <td>m/s</td>\n",
              "    </tr>\n",
              "    <tr>\n",
              "      <th>2999</th>\n",
              "      <td>0023035030</td>\n",
              "      <td>0103</td>\n",
              "      <td>2007-04-25T11:10:00.000</td>\n",
              "      <td>1.9</td>\n",
              "      <td>BASE PALANQUERO  - AUT</td>\n",
              "      <td>CUNDINAMARCA</td>\n",
              "      <td>PUERTO SALGAR</td>\n",
              "      <td>MEDIO MAGDALENA</td>\n",
              "      <td>5.492861111</td>\n",
              "      <td>-74.658</td>\n",
              "      <td>Velocidad Viento (10 min)</td>\n",
              "      <td>m/s</td>\n",
              "    </tr>\n",
              "  </tbody>\n",
              "</table>\n",
              "<p>3000 rows × 12 columns</p>\n",
              "</div>"
            ],
            "text/plain": [
              "     codigoestacion codigosensor         fechaobservacion valorobservado  \\\n",
              "0        0026125503         0103  2017-05-17T00:50:00.000            1.1   \n",
              "1        0035035110         0103  2018-10-03T20:10:00.000            1.2   \n",
              "2        0021015050         0103  2019-06-21T22:50:00.000            2.6   \n",
              "3        0021206930         0103  2010-11-08T09:50:00.000            3.6   \n",
              "4        0024015503         0103  2019-02-20T00:45:00.000     0.01103334   \n",
              "...             ...          ...                      ...            ...   \n",
              "2995     0046015030         0103  2017-01-04T16:50:00.000            0.8   \n",
              "2996     0029065120         0103  2019-07-18T03:30:00.000            2.6   \n",
              "2997     0028025120         0103  2019-05-07T11:40:00.000              2   \n",
              "2998     0052055170         0103  2017-10-02T16:40:00.000            0.9   \n",
              "2999     0023035030         0103  2007-04-25T11:10:00.000            1.9   \n",
              "\n",
              "                     nombreestacion     departamento               municipio  \\\n",
              "0                  LA SIRENA  - AUT  VALLE DEL CAUCA                 SEVILLA   \n",
              "1            SALINAS DE UPIN  - AUT             META                RESTREPO   \n",
              "2                     PURACE  - AUT            HUILA             SAN AGUSTÍN   \n",
              "3            PARAMO GUERRERO  - AUT     CUNDINAMARCA               ZIPAQUIRÁ   \n",
              "4                   CONFINES  - AUT        SANTANDER                CONFINES   \n",
              "...                             ...              ...                     ...   \n",
              "2995  SAN VICENTE DEL CAGUAN  - AUT          CAQUETA  SAN VICENTE DEL CAGUÁN   \n",
              "2996           BATALLON NO. 6 - AUT        MAGDALENA               FUNDACIÓN   \n",
              "2997     SERRANIA DEL PERIJA  - AUT            CESAR         AGUSTÍN CODAZZI   \n",
              "2998              LA JOSEFINA - AUT           NARIÑO               CONTADERO   \n",
              "2999         BASE PALANQUERO  - AUT     CUNDINAMARCA           PUERTO SALGAR   \n",
              "\n",
              "     zonahidrografica      latitud      longitud          descripcionsensor  \\\n",
              "0               CAUCA        4.285      -75.9025  Velocidad Viento (10 min)   \n",
              "1                META  4.273861111  -73.58686111  Velocidad Viento (10 min)   \n",
              "2      ALTO MAGDALENA  1.925916667  -76.42755556  Velocidad Viento (10 min)   \n",
              "3      ALTO MAGDALENA  5.086444444  -74.02216667  Velocidad Viento (10 min)   \n",
              "4            SOGAMOSO  6.373027778  -73.20760833  Velocidad Viento (10 min)   \n",
              "...               ...          ...           ...                        ...   \n",
              "2995           CAGUÁN        2.063  -74.76269444  Velocidad Viento (10 min)   \n",
              "2996   BAJO MAGDALENA  10.46536111  -73.92777778  Velocidad Viento (10 min)   \n",
              "2997            CESAR  10.02908333  -73.04619444  Velocidad Viento (10 min)   \n",
              "2998            PATÍA  0.930305556  -77.49119444  Velocidad Viento (10 min)   \n",
              "2999  MEDIO MAGDALENA  5.492861111       -74.658  Velocidad Viento (10 min)   \n",
              "\n",
              "     unidadmedida  \n",
              "0             m/s  \n",
              "1             m/s  \n",
              "2             m/s  \n",
              "3             m/s  \n",
              "4             m/s  \n",
              "...           ...  \n",
              "2995          m/s  \n",
              "2996          m/s  \n",
              "2997          m/s  \n",
              "2998          m/s  \n",
              "2999          m/s  \n",
              "\n",
              "[3000 rows x 12 columns]"
            ]
          },
          "execution_count": 24,
          "metadata": {},
          "output_type": "execute_result"
        }
      ],
      "source": [
        "#Descarga y emuestra el dataset\n",
        "results2 = client.get(\"sgfv-3yp8\", limit=3000)\n",
        "datos2 = pd.DataFrame.from_records(results2)\n",
        "datos2"
      ]
    },
    {
      "cell_type": "code",
      "execution_count": 25,
      "metadata": {
        "colab": {
          "base_uri": "https://localhost:8080/",
          "height": 423
        },
        "id": "mKLAqOnyrzzt",
        "outputId": "9e709eed-0d45-4af9-b5ad-7a278cb342e6"
      },
      "outputs": [
        {
          "data": {
            "text/html": [
              "<div>\n",
              "<style scoped>\n",
              "    .dataframe tbody tr th:only-of-type {\n",
              "        vertical-align: middle;\n",
              "    }\n",
              "\n",
              "    .dataframe tbody tr th {\n",
              "        vertical-align: top;\n",
              "    }\n",
              "\n",
              "    .dataframe thead th {\n",
              "        text-align: right;\n",
              "    }\n",
              "</style>\n",
              "<table border=\"1\" class=\"dataframe\">\n",
              "  <thead>\n",
              "    <tr style=\"text-align: right;\">\n",
              "      <th></th>\n",
              "      <th>municipio</th>\n",
              "      <th>velocidad_viento</th>\n",
              "    </tr>\n",
              "  </thead>\n",
              "  <tbody>\n",
              "    <tr>\n",
              "      <th>0</th>\n",
              "      <td>SEVILLA</td>\n",
              "      <td>1.1</td>\n",
              "    </tr>\n",
              "    <tr>\n",
              "      <th>1</th>\n",
              "      <td>RESTREPO</td>\n",
              "      <td>1.2</td>\n",
              "    </tr>\n",
              "    <tr>\n",
              "      <th>2</th>\n",
              "      <td>SAN AGUSTÍN</td>\n",
              "      <td>2.6</td>\n",
              "    </tr>\n",
              "    <tr>\n",
              "      <th>3</th>\n",
              "      <td>ZIPAQUIRÁ</td>\n",
              "      <td>3.6</td>\n",
              "    </tr>\n",
              "    <tr>\n",
              "      <th>4</th>\n",
              "      <td>CONFINES</td>\n",
              "      <td>0.01103334</td>\n",
              "    </tr>\n",
              "    <tr>\n",
              "      <th>...</th>\n",
              "      <td>...</td>\n",
              "      <td>...</td>\n",
              "    </tr>\n",
              "    <tr>\n",
              "      <th>2995</th>\n",
              "      <td>SAN VICENTE DEL CAGUÁN</td>\n",
              "      <td>0.8</td>\n",
              "    </tr>\n",
              "    <tr>\n",
              "      <th>2996</th>\n",
              "      <td>FUNDACIÓN</td>\n",
              "      <td>2.6</td>\n",
              "    </tr>\n",
              "    <tr>\n",
              "      <th>2997</th>\n",
              "      <td>AGUSTÍN CODAZZI</td>\n",
              "      <td>2</td>\n",
              "    </tr>\n",
              "    <tr>\n",
              "      <th>2998</th>\n",
              "      <td>CONTADERO</td>\n",
              "      <td>0.9</td>\n",
              "    </tr>\n",
              "    <tr>\n",
              "      <th>2999</th>\n",
              "      <td>PUERTO SALGAR</td>\n",
              "      <td>1.9</td>\n",
              "    </tr>\n",
              "  </tbody>\n",
              "</table>\n",
              "<p>3000 rows × 2 columns</p>\n",
              "</div>"
            ],
            "text/plain": [
              "                   municipio velocidad_viento\n",
              "0                    SEVILLA              1.1\n",
              "1                   RESTREPO              1.2\n",
              "2                SAN AGUSTÍN              2.6\n",
              "3                  ZIPAQUIRÁ              3.6\n",
              "4                   CONFINES       0.01103334\n",
              "...                      ...              ...\n",
              "2995  SAN VICENTE DEL CAGUÁN              0.8\n",
              "2996               FUNDACIÓN              2.6\n",
              "2997         AGUSTÍN CODAZZI                2\n",
              "2998               CONTADERO              0.9\n",
              "2999           PUERTO SALGAR              1.9\n",
              "\n",
              "[3000 rows x 2 columns]"
            ]
          },
          "execution_count": 25,
          "metadata": {},
          "output_type": "execute_result"
        }
      ],
      "source": [
        "#Agrupamiento de variables de interés\n",
        "df2 = pd.DataFrame(\n",
        "    {'municipio': datos2['municipio'],\n",
        "     'velocidad_viento': datos2['valorobservado']\n",
        "    }\n",
        ")\n",
        "df2"
      ]
    },
    {
      "cell_type": "markdown",
      "metadata": {
        "id": "RTP9rHLSiAge"
      },
      "source": [
        "**Exploración de los datos**"
      ]
    },
    {
      "cell_type": "code",
      "execution_count": 26,
      "metadata": {
        "colab": {
          "base_uri": "https://localhost:8080/"
        },
        "id": "8YyvGgPfrzzu",
        "outputId": "1f2a04a3-2cd7-4df6-c386-e2b0b67a190b"
      },
      "outputs": [
        {
          "name": "stdout",
          "output_type": "stream",
          "text": [
            "<class 'pandas.core.frame.DataFrame'>\n",
            "RangeIndex: 3000 entries, 0 to 2999\n",
            "Data columns (total 2 columns):\n",
            " #   Column            Non-Null Count  Dtype \n",
            "---  ------            --------------  ----- \n",
            " 0   municipio         3000 non-null   object\n",
            " 1   velocidad_viento  3000 non-null   object\n",
            "dtypes: object(2)\n",
            "memory usage: 47.0+ KB\n"
          ]
        }
      ],
      "source": [
        "df2.info() #Características de los datos"
      ]
    },
    {
      "cell_type": "markdown",
      "metadata": {
        "id": "zupyg3IJg5Mt"
      },
      "source": [
        "Notemos que la variable, la velocidad del viento, está descrita como un objeto por lo que es necesario transformarla en numérico"
      ]
    },
    {
      "cell_type": "code",
      "execution_count": 27,
      "metadata": {
        "id": "LZwbkymtrzzu"
      },
      "outputs": [],
      "source": [
        "#pasar la columna velocidad_viento a numérico\n",
        "df2['velocidad_viento'] = pd.to_numeric(df2['velocidad_viento'], errors='coerce')"
      ]
    },
    {
      "cell_type": "code",
      "execution_count": 28,
      "metadata": {
        "colab": {
          "base_uri": "https://localhost:8080/",
          "height": 147
        },
        "id": "FWmFeUkRrzzu",
        "outputId": "36e42076-dda8-4897-d09e-a10eeeaad7e6"
      },
      "outputs": [
        {
          "data": {
            "text/plain": [
              "municipio           0\n",
              "velocidad_viento    0\n",
              "dtype: int64"
            ]
          },
          "execution_count": 28,
          "metadata": {},
          "output_type": "execute_result"
        }
      ],
      "source": [
        "df2.isnull().sum() #Conteo de valores nulos"
      ]
    },
    {
      "cell_type": "code",
      "execution_count": 29,
      "metadata": {
        "colab": {
          "base_uri": "https://localhost:8080/",
          "height": 500
        },
        "id": "kmGWkbBBZnQU",
        "outputId": "b6efb229-a4f1-4f57-9815-bcc7d44c7549"
      },
      "outputs": [
        {
          "name": "stdout",
          "output_type": "stream",
          "text": [
            "Media: 2.0188654772756465\n",
            "Mediana: 1.4\n"
          ]
        },
        {
          "data": {
            "image/png": "[encoded data removed]",
            "text/plain": [
              "<Figure size 1000x500 with 1 Axes>"
            ]
          },
          "metadata": {},
          "output_type": "display_data"
        }
      ],
      "source": [
        "# Con el objetivo agrupar los datasets por municipio se evalua con graficas de boxplot y hisplot cuales datos estadisticos funcionarian mejor para ser un dato unico por cada uno de los municipios(que sera unico) en la columna 'municipio'.\n",
        "plt.figure(figsize=(10, 5))\n",
        "sns.histplot(df2['velocidad_viento'])\n",
        "print('Media:',df2['velocidad_viento'].mean())\n",
        "print('Mediana:', df2['velocidad_viento'].median())"
      ]
    },
    {
      "cell_type": "code",
      "execution_count": 30,
      "metadata": {
        "colab": {
          "base_uri": "https://localhost:8080/",
          "height": 446
        },
        "id": "859A6shjiLll",
        "outputId": "15369f6f-dca5-4043-f19d-8db89e0eaf27"
      },
      "outputs": [
        {
          "name": "stdout",
          "output_type": "stream",
          "text": [
            "Media: 2.0188654772756465\n",
            "Mediana: 1.4\n"
          ]
        },
        {
          "data": {
            "image/png": "[encoded data removed]",
            "text/plain": [
              "<Figure size 640x480 with 1 Axes>"
            ]
          },
          "metadata": {},
          "output_type": "display_data"
        }
      ],
      "source": [
        "sns.boxplot(df2['velocidad_viento'])\n",
        "print('Media:',df2['velocidad_viento'].mean())\n",
        "print('Mediana:', df2['velocidad_viento'].median())"
      ]
    },
    {
      "cell_type": "markdown",
      "metadata": {
        "id": "b3spreauiYG8"
      },
      "source": [
        "Notemos que la velocidad del viento tiene muchos outliers que afectan el valor de la media, por lo que cualquier tratamiento se recomienda hacer con la **MEDIANA**"
      ]
    },
    {
      "cell_type": "markdown",
      "metadata": {
        "id": "1IgLbjrviDt7"
      },
      "source": [
        "**Tratamiento de datos**\n",
        "\n",
        "Valores repetidos"
      ]
    },
    {
      "cell_type": "code",
      "execution_count": 31,
      "metadata": {
        "colab": {
          "base_uri": "https://localhost:8080/",
          "height": 423
        },
        "id": "CJW5s00DZnWm",
        "outputId": "2325efba-0049-413f-83ee-c17afa40a6c9"
      },
      "outputs": [
        {
          "data": {
            "text/html": [
              "<div>\n",
              "<style scoped>\n",
              "    .dataframe tbody tr th:only-of-type {\n",
              "        vertical-align: middle;\n",
              "    }\n",
              "\n",
              "    .dataframe tbody tr th {\n",
              "        vertical-align: top;\n",
              "    }\n",
              "\n",
              "    .dataframe thead th {\n",
              "        text-align: right;\n",
              "    }\n",
              "</style>\n",
              "<table border=\"1\" class=\"dataframe\">\n",
              "  <thead>\n",
              "    <tr style=\"text-align: right;\">\n",
              "      <th></th>\n",
              "      <th>municipio</th>\n",
              "      <th>velocidad_viento</th>\n",
              "    </tr>\n",
              "  </thead>\n",
              "  <tbody>\n",
              "    <tr>\n",
              "      <th>0</th>\n",
              "      <td>ACANDÍ</td>\n",
              "      <td>1.300000</td>\n",
              "    </tr>\n",
              "    <tr>\n",
              "      <th>1</th>\n",
              "      <td>ACEVEDO</td>\n",
              "      <td>1.967005</td>\n",
              "    </tr>\n",
              "    <tr>\n",
              "      <th>2</th>\n",
              "      <td>AGUACHICA</td>\n",
              "      <td>0.950000</td>\n",
              "    </tr>\n",
              "    <tr>\n",
              "      <th>3</th>\n",
              "      <td>AGUSTÍN CODAZZI</td>\n",
              "      <td>2.000000</td>\n",
              "    </tr>\n",
              "    <tr>\n",
              "      <th>4</th>\n",
              "      <td>ALBANIA</td>\n",
              "      <td>3.400000</td>\n",
              "    </tr>\n",
              "    <tr>\n",
              "      <th>...</th>\n",
              "      <td>...</td>\n",
              "      <td>...</td>\n",
              "    </tr>\n",
              "    <tr>\n",
              "      <th>291</th>\n",
              "      <td>YOPAL</td>\n",
              "      <td>3.000000</td>\n",
              "    </tr>\n",
              "    <tr>\n",
              "      <th>292</th>\n",
              "      <td>ZETAQUIRÁ</td>\n",
              "      <td>1.100000</td>\n",
              "    </tr>\n",
              "    <tr>\n",
              "      <th>293</th>\n",
              "      <td>ZIPAQUIRÁ</td>\n",
              "      <td>2.300000</td>\n",
              "    </tr>\n",
              "    <tr>\n",
              "      <th>294</th>\n",
              "      <td>ZONA BANANERA</td>\n",
              "      <td>1.100000</td>\n",
              "    </tr>\n",
              "    <tr>\n",
              "      <th>295</th>\n",
              "      <td>ÁBREGO</td>\n",
              "      <td>2.600000</td>\n",
              "    </tr>\n",
              "  </tbody>\n",
              "</table>\n",
              "<p>296 rows × 2 columns</p>\n",
              "</div>"
            ],
            "text/plain": [
              "           municipio  velocidad_viento\n",
              "0             ACANDÍ          1.300000\n",
              "1            ACEVEDO          1.967005\n",
              "2          AGUACHICA          0.950000\n",
              "3    AGUSTÍN CODAZZI          2.000000\n",
              "4            ALBANIA          3.400000\n",
              "..               ...               ...\n",
              "291            YOPAL          3.000000\n",
              "292        ZETAQUIRÁ          1.100000\n",
              "293        ZIPAQUIRÁ          2.300000\n",
              "294    ZONA BANANERA          1.100000\n",
              "295           ÁBREGO          2.600000\n",
              "\n",
              "[296 rows x 2 columns]"
            ]
          },
          "execution_count": 31,
          "metadata": {},
          "output_type": "execute_result"
        }
      ],
      "source": [
        "# Por cada municipio único va a sacar la mediana de los datos correspondientes a este lugar\n",
        "viento = df2.groupby('municipio').agg({'velocidad_viento': 'median'}).reset_index()\n",
        "viento"
      ]
    },
    {
      "cell_type": "code",
      "execution_count": 32,
      "metadata": {
        "colab": {
          "base_uri": "https://localhost:8080/",
          "height": 500
        },
        "id": "3NPdIRXkZ08a",
        "outputId": "db36b503-2999-401b-8723-a171548710c2"
      },
      "outputs": [
        {
          "name": "stdout",
          "output_type": "stream",
          "text": [
            "Media: 1.7133202321807433\n",
            "Mediana: 1.304507\n"
          ]
        },
        {
          "data": {
            "image/png": "[encoded data removed]",
            "text/plain": [
              "<Figure size 1000x500 with 1 Axes>"
            ]
          },
          "metadata": {},
          "output_type": "display_data"
        }
      ],
      "source": [
        "plt.figure(figsize=(10, 5))\n",
        "sns.histplot(viento['velocidad_viento'])\n",
        "print('Media:',viento['velocidad_viento'].mean())\n",
        "print('Mediana:', viento['velocidad_viento'].median())"
      ]
    },
    {
      "cell_type": "code",
      "execution_count": 33,
      "metadata": {
        "colab": {
          "base_uri": "https://localhost:8080/",
          "height": 430
        },
        "id": "I5_XgUa1Ymvb",
        "outputId": "3d02a7e9-deef-416d-c4d2-ce34ca3ea8ac"
      },
      "outputs": [
        {
          "data": {
            "text/plain": [
              "<Axes: ylabel='velocidad_viento'>"
            ]
          },
          "execution_count": 33,
          "metadata": {},
          "output_type": "execute_result"
        },
        {
          "data": {
            "image/png": "[encoded data removed]",
            "text/plain": [
              "<Figure size 640x480 with 1 Axes>"
            ]
          },
          "metadata": {},
          "output_type": "display_data"
        }
      ],
      "source": [
        "sns.boxplot(viento['velocidad_viento'])"
      ]
    },
    {
      "cell_type": "code",
      "execution_count": 34,
      "metadata": {
        "colab": {
          "base_uri": "https://localhost:8080/"
        },
        "id": "UNag-E7wi8JO",
        "outputId": "28e8e621-9074-43e5-c1f7-751c6d82c7a0"
      },
      "outputs": [
        {
          "data": {
            "text/plain": [
              "np.int64(296)"
            ]
          },
          "execution_count": 34,
          "metadata": {},
          "output_type": "execute_result"
        }
      ],
      "source": [
        "#Evaluación del método\n",
        "viento['municipio'].value_counts().sum()"
      ]
    },
    {
      "cell_type": "markdown",
      "metadata": {
        "id": "I_CpSOysrzzv"
      },
      "source": [
        "**Dataframe No. 4:**\n",
        "---\n",
        "Dias con lluvia en los municipios de colombia:\n",
        "\n",
        "INFORMACIÓN GENERAL ESTACIONES,,,,,,,,,NORMAL CLIMATOLÓGICA ESTÁNDAR DE No DE DÍAS CON LLUVIA ≥ 1 mm PARA EL PERIODO 1991-2020,,,,,,,,,,,,,  Cumplen la directriz No 1203 del 2017 de la OMM, [vínculo](http://archivo.ideam.gov.co/web/tiempo-y-clima/clima)"
      ]
    },
    {
      "cell_type": "markdown",
      "metadata": {
        "id": "dk7BfTh2jw2X"
      },
      "source": [
        "**Descarga y agrupamiento de los datos**"
      ]
    },
    {
      "cell_type": "code",
      "execution_count": 35,
      "metadata": {
        "colab": {
          "base_uri": "https://localhost:8080/",
          "height": 582
        },
        "id": "4jZT47qYrzzw",
        "outputId": "a709e1dc-bcc6-4a8e-a941-5069fa93174d"
      },
      "outputs": [
        {
          "data": {
            "text/html": [
              "<div>\n",
              "<style scoped>\n",
              "    .dataframe tbody tr th:only-of-type {\n",
              "        vertical-align: middle;\n",
              "    }\n",
              "\n",
              "    .dataframe tbody tr th {\n",
              "        vertical-align: top;\n",
              "    }\n",
              "\n",
              "    .dataframe thead th {\n",
              "        text-align: right;\n",
              "    }\n",
              "</style>\n",
              "<table border=\"1\" class=\"dataframe\">\n",
              "  <thead>\n",
              "    <tr style=\"text-align: right;\">\n",
              "      <th></th>\n",
              "      <th>CODIGO</th>\n",
              "      <th>CATEGORIA</th>\n",
              "      <th>ESTACIÓN</th>\n",
              "      <th>MUNICIPIO</th>\n",
              "      <th>DEPARTAMENTO</th>\n",
              "      <th>AO</th>\n",
              "      <th>ALTITUD (m)</th>\n",
              "      <th>LONGITUD</th>\n",
              "      <th>LATITUD</th>\n",
              "      <th>ENE</th>\n",
              "      <th>...</th>\n",
              "      <th>JUN</th>\n",
              "      <th>JUL</th>\n",
              "      <th>AGO</th>\n",
              "      <th>SEP</th>\n",
              "      <th>OCT</th>\n",
              "      <th>NOV</th>\n",
              "      <th>DIC</th>\n",
              "      <th>ANUAL</th>\n",
              "      <th>Número de meses</th>\n",
              "      <th>% de cumplimiento</th>\n",
              "    </tr>\n",
              "  </thead>\n",
              "  <tbody>\n",
              "    <tr>\n",
              "      <th>0</th>\n",
              "      <td>47067010</td>\n",
              "      <td>LM</td>\n",
              "      <td>El Encanto</td>\n",
              "      <td>El Encanto</td>\n",
              "      <td>Amazonas</td>\n",
              "      <td>7</td>\n",
              "      <td>120</td>\n",
              "      <td>-73,20</td>\n",
              "      <td>-1,77</td>\n",
              "      <td>14,3</td>\n",
              "      <td>...</td>\n",
              "      <td>18,8</td>\n",
              "      <td>17,7</td>\n",
              "      <td>13,4</td>\n",
              "      <td>13,3</td>\n",
              "      <td>13,9</td>\n",
              "      <td>14,8</td>\n",
              "      <td>16,4</td>\n",
              "      <td>191,7</td>\n",
              "      <td>332</td>\n",
              "      <td>92,2%</td>\n",
              "    </tr>\n",
              "    <tr>\n",
              "      <th>1</th>\n",
              "      <td>47060010</td>\n",
              "      <td>PM</td>\n",
              "      <td>El Encato</td>\n",
              "      <td>El Encanto</td>\n",
              "      <td>Amazonas</td>\n",
              "      <td>7</td>\n",
              "      <td>120</td>\n",
              "      <td>-73,21</td>\n",
              "      <td>-1,75</td>\n",
              "      <td>14,3</td>\n",
              "      <td>...</td>\n",
              "      <td>18,6</td>\n",
              "      <td>17,8</td>\n",
              "      <td>13,1</td>\n",
              "      <td>13,3</td>\n",
              "      <td>13,8</td>\n",
              "      <td>14,9</td>\n",
              "      <td>16,3</td>\n",
              "      <td>191,1</td>\n",
              "      <td>343</td>\n",
              "      <td>95,3%</td>\n",
              "    </tr>\n",
              "    <tr>\n",
              "      <th>2</th>\n",
              "      <td>44187030</td>\n",
              "      <td>LM</td>\n",
              "      <td>Bacuri</td>\n",
              "      <td>La Pedrera</td>\n",
              "      <td>Amazonas</td>\n",
              "      <td>4</td>\n",
              "      <td>101</td>\n",
              "      <td>-69,47</td>\n",
              "      <td>-1,23</td>\n",
              "      <td>19,0</td>\n",
              "      <td>...</td>\n",
              "      <td>20,3</td>\n",
              "      <td>19,6</td>\n",
              "      <td>16,5</td>\n",
              "      <td>14,5</td>\n",
              "      <td>15,1</td>\n",
              "      <td>15,0</td>\n",
              "      <td>18,8</td>\n",
              "      <td>216,0</td>\n",
              "      <td>343</td>\n",
              "      <td>95,3%</td>\n",
              "    </tr>\n",
              "    <tr>\n",
              "      <th>3</th>\n",
              "      <td>44187020</td>\n",
              "      <td>PM</td>\n",
              "      <td>La Pedrera</td>\n",
              "      <td>La Pedrera</td>\n",
              "      <td>Amazonas</td>\n",
              "      <td>4</td>\n",
              "      <td>102</td>\n",
              "      <td>-69,59</td>\n",
              "      <td>-1,31</td>\n",
              "      <td>13,8</td>\n",
              "      <td>...</td>\n",
              "      <td>14,7</td>\n",
              "      <td>13,5</td>\n",
              "      <td>12,4</td>\n",
              "      <td>11,2</td>\n",
              "      <td>12,0</td>\n",
              "      <td>12,1</td>\n",
              "      <td>13,3</td>\n",
              "      <td>161,8</td>\n",
              "      <td>334</td>\n",
              "      <td>92,8%</td>\n",
              "    </tr>\n",
              "    <tr>\n",
              "      <th>4</th>\n",
              "      <td>44157040</td>\n",
              "      <td>LM</td>\n",
              "      <td>Manacaro</td>\n",
              "      <td>La Pedrera</td>\n",
              "      <td>Amazonas</td>\n",
              "      <td>4</td>\n",
              "      <td>109</td>\n",
              "      <td>-70,18</td>\n",
              "      <td>-1,53</td>\n",
              "      <td>18,3</td>\n",
              "      <td>...</td>\n",
              "      <td>19,1</td>\n",
              "      <td>18,0</td>\n",
              "      <td>14,6</td>\n",
              "      <td>13,2</td>\n",
              "      <td>14,9</td>\n",
              "      <td>14,8</td>\n",
              "      <td>17,1</td>\n",
              "      <td>204,0</td>\n",
              "      <td>351</td>\n",
              "      <td>97,5%</td>\n",
              "    </tr>\n",
              "    <tr>\n",
              "      <th>...</th>\n",
              "      <td>...</td>\n",
              "      <td>...</td>\n",
              "      <td>...</td>\n",
              "      <td>...</td>\n",
              "      <td>...</td>\n",
              "      <td>...</td>\n",
              "      <td>...</td>\n",
              "      <td>...</td>\n",
              "      <td>...</td>\n",
              "      <td>...</td>\n",
              "      <td>...</td>\n",
              "      <td>...</td>\n",
              "      <td>...</td>\n",
              "      <td>...</td>\n",
              "      <td>...</td>\n",
              "      <td>...</td>\n",
              "      <td>...</td>\n",
              "      <td>...</td>\n",
              "      <td>...</td>\n",
              "      <td>...</td>\n",
              "      <td>...</td>\n",
              "    </tr>\n",
              "    <tr>\n",
              "      <th>1440</th>\n",
              "      <td>38015030</td>\n",
              "      <td>SP</td>\n",
              "      <td>Aeropuerto Puerto Carreño</td>\n",
              "      <td>Puerto Carreño</td>\n",
              "      <td>Vichada</td>\n",
              "      <td>3</td>\n",
              "      <td>57</td>\n",
              "      <td>-67,49</td>\n",
              "      <td>6,18</td>\n",
              "      <td>1,0</td>\n",
              "      <td>...</td>\n",
              "      <td>21,2</td>\n",
              "      <td>21,9</td>\n",
              "      <td>19,7</td>\n",
              "      <td>14,3</td>\n",
              "      <td>12,3</td>\n",
              "      <td>7,9</td>\n",
              "      <td>2,9</td>\n",
              "      <td>133,2</td>\n",
              "      <td>359</td>\n",
              "      <td>99,7%</td>\n",
              "    </tr>\n",
              "    <tr>\n",
              "      <th>1441</th>\n",
              "      <td>38017040</td>\n",
              "      <td>LM</td>\n",
              "      <td>Casuarito</td>\n",
              "      <td>Puerto Carreño</td>\n",
              "      <td>Vichada</td>\n",
              "      <td>3</td>\n",
              "      <td>65</td>\n",
              "      <td>-67,64</td>\n",
              "      <td>5,68</td>\n",
              "      <td>2,1</td>\n",
              "      <td>...</td>\n",
              "      <td>19,3</td>\n",
              "      <td>19,6</td>\n",
              "      <td>16,1</td>\n",
              "      <td>12,7</td>\n",
              "      <td>10,3</td>\n",
              "      <td>7,7</td>\n",
              "      <td>4,3</td>\n",
              "      <td>130,7</td>\n",
              "      <td>343</td>\n",
              "      <td>95,3%</td>\n",
              "    </tr>\n",
              "    <tr>\n",
              "      <th>1442</th>\n",
              "      <td>35260010</td>\n",
              "      <td>PM</td>\n",
              "      <td>Bonanza</td>\n",
              "      <td>Santa Rosalía</td>\n",
              "      <td>Vichada</td>\n",
              "      <td>3</td>\n",
              "      <td>112</td>\n",
              "      <td>-70,85</td>\n",
              "      <td>5,14</td>\n",
              "      <td>1,1</td>\n",
              "      <td>...</td>\n",
              "      <td>14,4</td>\n",
              "      <td>15,1</td>\n",
              "      <td>13,2</td>\n",
              "      <td>10,0</td>\n",
              "      <td>8,9</td>\n",
              "      <td>5,9</td>\n",
              "      <td>2,7</td>\n",
              "      <td>98,7</td>\n",
              "      <td>324</td>\n",
              "      <td>90,0%</td>\n",
              "    </tr>\n",
              "    <tr>\n",
              "      <th>1443</th>\n",
              "      <td>35260030</td>\n",
              "      <td>PM</td>\n",
              "      <td>Hato Burrunay</td>\n",
              "      <td>Santa Rosalía</td>\n",
              "      <td>Vichada</td>\n",
              "      <td>3</td>\n",
              "      <td>106</td>\n",
              "      <td>-70,68</td>\n",
              "      <td>5,35</td>\n",
              "      <td>1,3</td>\n",
              "      <td>...</td>\n",
              "      <td>15,3</td>\n",
              "      <td>17,1</td>\n",
              "      <td>14,0</td>\n",
              "      <td>12,1</td>\n",
              "      <td>10,8</td>\n",
              "      <td>7,7</td>\n",
              "      <td>3,6</td>\n",
              "      <td>113,4</td>\n",
              "      <td>349</td>\n",
              "      <td>96,9%</td>\n",
              "    </tr>\n",
              "    <tr>\n",
              "      <th>1444</th>\n",
              "      <td>35267030</td>\n",
              "      <td>LM</td>\n",
              "      <td>Santa Maria</td>\n",
              "      <td>Santa Rosalía</td>\n",
              "      <td>Vichada</td>\n",
              "      <td>3</td>\n",
              "      <td>108</td>\n",
              "      <td>-70,71</td>\n",
              "      <td>5,27</td>\n",
              "      <td>1,2</td>\n",
              "      <td>...</td>\n",
              "      <td>15,6</td>\n",
              "      <td>16,0</td>\n",
              "      <td>13,2</td>\n",
              "      <td>12,4</td>\n",
              "      <td>10,3</td>\n",
              "      <td>6,8</td>\n",
              "      <td>2,8</td>\n",
              "      <td>106,8</td>\n",
              "      <td>328</td>\n",
              "      <td>91,1%</td>\n",
              "    </tr>\n",
              "  </tbody>\n",
              "</table>\n",
              "<p>1445 rows × 24 columns</p>\n",
              "</div>"
            ],
            "text/plain": [
              "        CODIGO CATEGORIA                   ESTACIÓN       MUNICIPIO  \\\n",
              "0     47067010        LM                 El Encanto      El Encanto   \n",
              "1     47060010        PM                  El Encato      El Encanto   \n",
              "2     44187030        LM                     Bacuri      La Pedrera   \n",
              "3     44187020        PM                 La Pedrera      La Pedrera   \n",
              "4     44157040        LM                   Manacaro      La Pedrera   \n",
              "...        ...       ...                        ...             ...   \n",
              "1440  38015030        SP  Aeropuerto Puerto Carreño  Puerto Carreño   \n",
              "1441  38017040        LM                  Casuarito  Puerto Carreño   \n",
              "1442  35260010        PM                    Bonanza   Santa Rosalía   \n",
              "1443  35260030        PM              Hato Burrunay   Santa Rosalía   \n",
              "1444  35267030        LM               Santa Maria    Santa Rosalía   \n",
              "\n",
              "     DEPARTAMENTO  AO  ALTITUD (m) LONGITUD LATITUD   ENE  ...   JUN   JUL  \\\n",
              "0        Amazonas   7          120   -73,20   -1,77  14,3  ...  18,8  17,7   \n",
              "1        Amazonas   7          120   -73,21   -1,75  14,3  ...  18,6  17,8   \n",
              "2        Amazonas   4          101   -69,47   -1,23  19,0  ...  20,3  19,6   \n",
              "3        Amazonas   4          102   -69,59   -1,31  13,8  ...  14,7  13,5   \n",
              "4        Amazonas   4          109   -70,18   -1,53  18,3  ...  19,1  18,0   \n",
              "...           ...  ..          ...      ...     ...   ...  ...   ...   ...   \n",
              "1440      Vichada   3           57   -67,49    6,18   1,0  ...  21,2  21,9   \n",
              "1441      Vichada   3           65   -67,64    5,68   2,1  ...  19,3  19,6   \n",
              "1442      Vichada   3          112   -70,85    5,14   1,1  ...  14,4  15,1   \n",
              "1443      Vichada   3          106   -70,68    5,35   1,3  ...  15,3  17,1   \n",
              "1444      Vichada   3          108   -70,71    5,27   1,2  ...  15,6  16,0   \n",
              "\n",
              "       AGO   SEP   OCT   NOV   DIC  ANUAL  Número de meses % de cumplimiento  \n",
              "0     13,4  13,3  13,9  14,8  16,4  191,7              332             92,2%  \n",
              "1     13,1  13,3  13,8  14,9  16,3  191,1              343             95,3%  \n",
              "2     16,5  14,5  15,1  15,0  18,8  216,0              343             95,3%  \n",
              "3     12,4  11,2  12,0  12,1  13,3  161,8              334             92,8%  \n",
              "4     14,6  13,2  14,9  14,8  17,1  204,0              351             97,5%  \n",
              "...    ...   ...   ...   ...   ...    ...              ...               ...  \n",
              "1440  19,7  14,3  12,3   7,9   2,9  133,2              359             99,7%  \n",
              "1441  16,1  12,7  10,3   7,7   4,3  130,7              343             95,3%  \n",
              "1442  13,2  10,0   8,9   5,9   2,7   98,7              324             90,0%  \n",
              "1443  14,0  12,1  10,8   7,7   3,6  113,4              349             96,9%  \n",
              "1444  13,2  12,4  10,3   6,8   2,8  106,8              328             91,1%  \n",
              "\n",
              "[1445 rows x 24 columns]"
            ]
          },
          "execution_count": 35,
          "metadata": {},
          "output_type": "execute_result"
        }
      ],
      "source": [
        "#Descarga de los datos\n",
        "datos3 = pd.read_csv('https://raw.githubusercontent.com/gluoneros/talentoTech/refs/heads/main/noDiasLLuvia.csv')\n",
        "datos3"
      ]
    },
    {
      "cell_type": "code",
      "execution_count": 36,
      "metadata": {
        "colab": {
          "base_uri": "https://localhost:8080/",
          "height": 423
        },
        "id": "gH9TPnECrzzw",
        "outputId": "8dff78ef-fee4-4849-fbb1-bb209c71d523"
      },
      "outputs": [
        {
          "data": {
            "text/html": [
              "<div>\n",
              "<style scoped>\n",
              "    .dataframe tbody tr th:only-of-type {\n",
              "        vertical-align: middle;\n",
              "    }\n",
              "\n",
              "    .dataframe tbody tr th {\n",
              "        vertical-align: top;\n",
              "    }\n",
              "\n",
              "    .dataframe thead th {\n",
              "        text-align: right;\n",
              "    }\n",
              "</style>\n",
              "<table border=\"1\" class=\"dataframe\">\n",
              "  <thead>\n",
              "    <tr style=\"text-align: right;\">\n",
              "      <th></th>\n",
              "      <th>municipio</th>\n",
              "      <th>dias_lluvia</th>\n",
              "    </tr>\n",
              "  </thead>\n",
              "  <tbody>\n",
              "    <tr>\n",
              "      <th>0</th>\n",
              "      <td>El Encanto</td>\n",
              "      <td>191,7</td>\n",
              "    </tr>\n",
              "    <tr>\n",
              "      <th>1</th>\n",
              "      <td>El Encanto</td>\n",
              "      <td>191,1</td>\n",
              "    </tr>\n",
              "    <tr>\n",
              "      <th>2</th>\n",
              "      <td>La Pedrera</td>\n",
              "      <td>216,0</td>\n",
              "    </tr>\n",
              "    <tr>\n",
              "      <th>3</th>\n",
              "      <td>La Pedrera</td>\n",
              "      <td>161,8</td>\n",
              "    </tr>\n",
              "    <tr>\n",
              "      <th>4</th>\n",
              "      <td>La Pedrera</td>\n",
              "      <td>204,0</td>\n",
              "    </tr>\n",
              "    <tr>\n",
              "      <th>...</th>\n",
              "      <td>...</td>\n",
              "      <td>...</td>\n",
              "    </tr>\n",
              "    <tr>\n",
              "      <th>1440</th>\n",
              "      <td>Puerto Carreño</td>\n",
              "      <td>133,2</td>\n",
              "    </tr>\n",
              "    <tr>\n",
              "      <th>1441</th>\n",
              "      <td>Puerto Carreño</td>\n",
              "      <td>130,7</td>\n",
              "    </tr>\n",
              "    <tr>\n",
              "      <th>1442</th>\n",
              "      <td>Santa Rosalía</td>\n",
              "      <td>98,7</td>\n",
              "    </tr>\n",
              "    <tr>\n",
              "      <th>1443</th>\n",
              "      <td>Santa Rosalía</td>\n",
              "      <td>113,4</td>\n",
              "    </tr>\n",
              "    <tr>\n",
              "      <th>1444</th>\n",
              "      <td>Santa Rosalía</td>\n",
              "      <td>106,8</td>\n",
              "    </tr>\n",
              "  </tbody>\n",
              "</table>\n",
              "<p>1445 rows × 2 columns</p>\n",
              "</div>"
            ],
            "text/plain": [
              "           municipio dias_lluvia\n",
              "0         El Encanto       191,7\n",
              "1         El Encanto       191,1\n",
              "2         La Pedrera       216,0\n",
              "3         La Pedrera       161,8\n",
              "4         La Pedrera       204,0\n",
              "...              ...         ...\n",
              "1440  Puerto Carreño       133,2\n",
              "1441  Puerto Carreño       130,7\n",
              "1442   Santa Rosalía        98,7\n",
              "1443   Santa Rosalía       113,4\n",
              "1444   Santa Rosalía       106,8\n",
              "\n",
              "[1445 rows x 2 columns]"
            ]
          },
          "execution_count": 36,
          "metadata": {},
          "output_type": "execute_result"
        }
      ],
      "source": [
        "# Se seleccionan y grupan de los datos de  interés en un nuevo dataframe.\n",
        "dato_lluvia = pd.DataFrame(\n",
        "    {'municipio': datos3['MUNICIPIO'],\n",
        "     'dias_lluvia': datos3['ANUAL']\n",
        "    }\n",
        ")\n",
        "dato_lluvia"
      ]
    },
    {
      "cell_type": "markdown",
      "metadata": {
        "id": "MppnCwBkk61_"
      },
      "source": [
        "Notemos que la columna de días de lluvia tiene comas y espacios, lo que entorpece el análisis"
      ]
    },
    {
      "cell_type": "markdown",
      "metadata": {
        "id": "GMra_o0-kQIs"
      },
      "source": [
        "**Exploración de los datos**"
      ]
    },
    {
      "cell_type": "code",
      "execution_count": 37,
      "metadata": {
        "colab": {
          "base_uri": "https://localhost:8080/"
        },
        "id": "Yh3FYmZErzzw",
        "outputId": "8e9edc40-a3d1-4eb7-8805-01dfd47ef414"
      },
      "outputs": [
        {
          "name": "stdout",
          "output_type": "stream",
          "text": [
            "<class 'pandas.core.frame.DataFrame'>\n",
            "RangeIndex: 1445 entries, 0 to 1444\n",
            "Data columns (total 2 columns):\n",
            " #   Column       Non-Null Count  Dtype \n",
            "---  ------       --------------  ----- \n",
            " 0   municipio    1445 non-null   object\n",
            " 1   dias_lluvia  1445 non-null   object\n",
            "dtypes: object(2)\n",
            "memory usage: 22.7+ KB\n"
          ]
        }
      ],
      "source": [
        "dato_lluvia.info() #Evaluación de las características del dataset"
      ]
    },
    {
      "cell_type": "markdown",
      "metadata": {
        "id": "o7YP6HWWkvyy"
      },
      "source": [
        "**Tratamiento de datos**\n",
        "\n",
        "Manejo de errores en los datos"
      ]
    },
    {
      "cell_type": "code",
      "execution_count": 38,
      "metadata": {
        "id": "Ijh4sir8rzzx"
      },
      "outputs": [],
      "source": [
        "# Primero\n",
        " #Eliminación de los espacios en blanco\n",
        "dato_lluvia['dias_lluvia'] = dato_lluvia['dias_lluvia'].str.strip()\n",
        "dato_lluvia['municipio'] =  dato_lluvia['municipio'].str.strip()"
      ]
    },
    {
      "cell_type": "code",
      "execution_count": 39,
      "metadata": {
        "id": "6T25qvEHrzzx"
      },
      "outputs": [],
      "source": [
        "# Segundo\n",
        " #Cambia comas por puntos en el campo 'dias_lluvia'\n",
        "dato_lluvia['dias_lluvia'] =  dato_lluvia['dias_lluvia'].str.replace(',', '.', regex=False)"
      ]
    },
    {
      "cell_type": "code",
      "execution_count": 40,
      "metadata": {
        "id": "kOTq_y-wrzzx"
      },
      "outputs": [],
      "source": [
        "# Tercero\n",
        "#Luego de la creacion del dataframe es necesario convertir los datos a numérico\n",
        "dato_lluvia['dias_lluvia'] = pd.to_numeric(dato_lluvia['dias_lluvia'], errors='coerce')"
      ]
    },
    {
      "cell_type": "code",
      "execution_count": 41,
      "metadata": {
        "colab": {
          "base_uri": "https://localhost:8080/",
          "height": 423
        },
        "id": "DPXNmQYOrzzx",
        "outputId": "013658e3-89ec-416c-f504-5e18eb70f2c2"
      },
      "outputs": [
        {
          "data": {
            "text/html": [
              "<div>\n",
              "<style scoped>\n",
              "    .dataframe tbody tr th:only-of-type {\n",
              "        vertical-align: middle;\n",
              "    }\n",
              "\n",
              "    .dataframe tbody tr th {\n",
              "        vertical-align: top;\n",
              "    }\n",
              "\n",
              "    .dataframe thead th {\n",
              "        text-align: right;\n",
              "    }\n",
              "</style>\n",
              "<table border=\"1\" class=\"dataframe\">\n",
              "  <thead>\n",
              "    <tr style=\"text-align: right;\">\n",
              "      <th></th>\n",
              "      <th>municipio</th>\n",
              "      <th>dias_lluvia</th>\n",
              "    </tr>\n",
              "  </thead>\n",
              "  <tbody>\n",
              "    <tr>\n",
              "      <th>0</th>\n",
              "      <td>EL ENCANTO</td>\n",
              "      <td>191.7</td>\n",
              "    </tr>\n",
              "    <tr>\n",
              "      <th>1</th>\n",
              "      <td>EL ENCANTO</td>\n",
              "      <td>191.1</td>\n",
              "    </tr>\n",
              "    <tr>\n",
              "      <th>2</th>\n",
              "      <td>LA PEDRERA</td>\n",
              "      <td>216.0</td>\n",
              "    </tr>\n",
              "    <tr>\n",
              "      <th>3</th>\n",
              "      <td>LA PEDRERA</td>\n",
              "      <td>161.8</td>\n",
              "    </tr>\n",
              "    <tr>\n",
              "      <th>4</th>\n",
              "      <td>LA PEDRERA</td>\n",
              "      <td>204.0</td>\n",
              "    </tr>\n",
              "    <tr>\n",
              "      <th>...</th>\n",
              "      <td>...</td>\n",
              "      <td>...</td>\n",
              "    </tr>\n",
              "    <tr>\n",
              "      <th>1440</th>\n",
              "      <td>PUERTO CARREÑO</td>\n",
              "      <td>133.2</td>\n",
              "    </tr>\n",
              "    <tr>\n",
              "      <th>1441</th>\n",
              "      <td>PUERTO CARREÑO</td>\n",
              "      <td>130.7</td>\n",
              "    </tr>\n",
              "    <tr>\n",
              "      <th>1442</th>\n",
              "      <td>SANTA ROSALÍA</td>\n",
              "      <td>98.7</td>\n",
              "    </tr>\n",
              "    <tr>\n",
              "      <th>1443</th>\n",
              "      <td>SANTA ROSALÍA</td>\n",
              "      <td>113.4</td>\n",
              "    </tr>\n",
              "    <tr>\n",
              "      <th>1444</th>\n",
              "      <td>SANTA ROSALÍA</td>\n",
              "      <td>106.8</td>\n",
              "    </tr>\n",
              "  </tbody>\n",
              "</table>\n",
              "<p>1445 rows × 2 columns</p>\n",
              "</div>"
            ],
            "text/plain": [
              "           municipio  dias_lluvia\n",
              "0         EL ENCANTO        191.7\n",
              "1         EL ENCANTO        191.1\n",
              "2         LA PEDRERA        216.0\n",
              "3         LA PEDRERA        161.8\n",
              "4         LA PEDRERA        204.0\n",
              "...              ...          ...\n",
              "1440  PUERTO CARREÑO        133.2\n",
              "1441  PUERTO CARREÑO        130.7\n",
              "1442   SANTA ROSALÍA         98.7\n",
              "1443   SANTA ROSALÍA        113.4\n",
              "1444   SANTA ROSALÍA        106.8\n",
              "\n",
              "[1445 rows x 2 columns]"
            ]
          },
          "execution_count": 41,
          "metadata": {},
          "output_type": "execute_result"
        }
      ],
      "source": [
        "# Cuarto\n",
        "  #pasa municipio a mayusculas\n",
        "dato_lluvia['municipio'] = dato_lluvia['municipio'].str.upper()\n",
        "dato_lluvia"
      ]
    },
    {
      "cell_type": "markdown",
      "metadata": {
        "id": "qj6408lFl619"
      },
      "source": [
        "Manejo de datos repetidos"
      ]
    },
    {
      "cell_type": "code",
      "execution_count": 42,
      "metadata": {
        "colab": {
          "base_uri": "https://localhost:8080/",
          "height": 500
        },
        "id": "pxsB87FHdu-P",
        "outputId": "75a4433c-086f-4c35-e435-3980a3ef7630"
      },
      "outputs": [
        {
          "name": "stdout",
          "output_type": "stream",
          "text": [
            "Media: 136.81058823529412\n",
            "Mediana: 134.1\n"
          ]
        },
        {
          "data": {
            "image/png": "[encoded data removed]",
            "text/plain": [
              "<Figure size 1000x500 with 1 Axes>"
            ]
          },
          "metadata": {},
          "output_type": "display_data"
        }
      ],
      "source": [
        "# Observasion visual para evaluar cual dato estadistico es el mejor para agrupar en funcion de municipio.\n",
        "plt.figure(figsize=(10, 5))\n",
        "sns.histplot(dato_lluvia['dias_lluvia'])\n",
        "print('Media:',dato_lluvia['dias_lluvia'].mean())\n",
        "print('Mediana:',dato_lluvia['dias_lluvia'].median())"
      ]
    },
    {
      "cell_type": "code",
      "execution_count": 43,
      "metadata": {
        "colab": {
          "base_uri": "https://localhost:8080/",
          "height": 423
        },
        "id": "W9VW0kd0cNMJ",
        "outputId": "525ac9fd-034f-483b-c8ba-625abd7fcbde"
      },
      "outputs": [
        {
          "data": {
            "text/html": [
              "<div>\n",
              "<style scoped>\n",
              "    .dataframe tbody tr th:only-of-type {\n",
              "        vertical-align: middle;\n",
              "    }\n",
              "\n",
              "    .dataframe tbody tr th {\n",
              "        vertical-align: top;\n",
              "    }\n",
              "\n",
              "    .dataframe thead th {\n",
              "        text-align: right;\n",
              "    }\n",
              "</style>\n",
              "<table border=\"1\" class=\"dataframe\">\n",
              "  <thead>\n",
              "    <tr style=\"text-align: right;\">\n",
              "      <th></th>\n",
              "      <th>municipio</th>\n",
              "      <th>dias_lluvia</th>\n",
              "    </tr>\n",
              "  </thead>\n",
              "  <tbody>\n",
              "    <tr>\n",
              "      <th>0</th>\n",
              "      <td>ABEJORRAL</td>\n",
              "      <td>177.800000</td>\n",
              "    </tr>\n",
              "    <tr>\n",
              "      <th>1</th>\n",
              "      <td>ABRIAQUÍ</td>\n",
              "      <td>200.600000</td>\n",
              "    </tr>\n",
              "    <tr>\n",
              "      <th>2</th>\n",
              "      <td>ACACÍAS</td>\n",
              "      <td>195.700000</td>\n",
              "    </tr>\n",
              "    <tr>\n",
              "      <th>3</th>\n",
              "      <td>ACANDÍ</td>\n",
              "      <td>150.500000</td>\n",
              "    </tr>\n",
              "    <tr>\n",
              "      <th>4</th>\n",
              "      <td>ACEVEDO</td>\n",
              "      <td>157.650000</td>\n",
              "    </tr>\n",
              "    <tr>\n",
              "      <th>...</th>\n",
              "      <td>...</td>\n",
              "      <td>...</td>\n",
              "    </tr>\n",
              "    <tr>\n",
              "      <th>756</th>\n",
              "      <td>ZONA BANANERA</td>\n",
              "      <td>52.866667</td>\n",
              "    </tr>\n",
              "    <tr>\n",
              "      <th>757</th>\n",
              "      <td>ÁBREGO</td>\n",
              "      <td>107.433333</td>\n",
              "    </tr>\n",
              "    <tr>\n",
              "      <th>758</th>\n",
              "      <td>ÍQUIRA</td>\n",
              "      <td>166.500000</td>\n",
              "    </tr>\n",
              "    <tr>\n",
              "      <th>759</th>\n",
              "      <td>ÚMBITA</td>\n",
              "      <td>170.200000</td>\n",
              "    </tr>\n",
              "    <tr>\n",
              "      <th>760</th>\n",
              "      <td>ÚTICA</td>\n",
              "      <td>93.700000</td>\n",
              "    </tr>\n",
              "  </tbody>\n",
              "</table>\n",
              "<p>761 rows × 2 columns</p>\n",
              "</div>"
            ],
            "text/plain": [
              "         municipio  dias_lluvia\n",
              "0        ABEJORRAL   177.800000\n",
              "1         ABRIAQUÍ   200.600000\n",
              "2          ACACÍAS   195.700000\n",
              "3           ACANDÍ   150.500000\n",
              "4          ACEVEDO   157.650000\n",
              "..             ...          ...\n",
              "756  ZONA BANANERA    52.866667\n",
              "757         ÁBREGO   107.433333\n",
              "758         ÍQUIRA   166.500000\n",
              "759         ÚMBITA   170.200000\n",
              "760          ÚTICA    93.700000\n",
              "\n",
              "[761 rows x 2 columns]"
            ]
          },
          "execution_count": 43,
          "metadata": {},
          "output_type": "execute_result"
        }
      ],
      "source": [
        "# Por cada municipio único va a sacar la media de los datos correspondientes a este lugar\n",
        "lluvia = dato_lluvia.groupby('municipio').agg({'dias_lluvia': 'mean'}).reset_index() #,'longitud': 'first', 'latitud': 'first'\n",
        "lluvia"
      ]
    },
    {
      "cell_type": "code",
      "execution_count": 44,
      "metadata": {
        "colab": {
          "base_uri": "https://localhost:8080/"
        },
        "id": "bx2BgmDemNlO",
        "outputId": "58a861b8-0aee-48b8-a5f8-22f6ac04b736"
      },
      "outputs": [
        {
          "data": {
            "text/plain": [
              "np.int64(761)"
            ]
          },
          "execution_count": 44,
          "metadata": {},
          "output_type": "execute_result"
        }
      ],
      "source": [
        "lluvia['municipio'].value_counts().sum() #evaluación del método"
      ]
    },
    {
      "cell_type": "code",
      "execution_count": 45,
      "metadata": {
        "colab": {
          "base_uri": "https://localhost:8080/",
          "height": 502
        },
        "id": "hy1LbJmrhMYF",
        "outputId": "04a542d1-832b-4784-b459-ca7b6caac795"
      },
      "outputs": [
        {
          "name": "stdout",
          "output_type": "stream",
          "text": [
            "Media: 139.6027481315589\n",
            "Mediana: 138.05\n"
          ]
        },
        {
          "data": {
            "image/png": "[encoded data removed]",
            "text/plain": [
              "<Figure size 1000x500 with 1 Axes>"
            ]
          },
          "metadata": {},
          "output_type": "display_data"
        }
      ],
      "source": [
        "# Se observa nuevamente agrupacion similar\n",
        "plt.figure(figsize=(10, 5))\n",
        "sns.histplot(lluvia['dias_lluvia'])\n",
        "print('Media:',lluvia['dias_lluvia'].mean())\n",
        "print('Mediana:',lluvia['dias_lluvia'].median())"
      ]
    },
    {
      "cell_type": "markdown",
      "metadata": {
        "id": "6lFDVEcpmGSR"
      },
      "source": [
        "Notemos que de 1445 datos pasamos a tener 761 valores únicos"
      ]
    },
    {
      "cell_type": "markdown",
      "metadata": {
        "id": "T-tHzOhDwhac"
      },
      "source": [
        "**Unificación de los datos**\n",
        "---\n",
        "\n",
        "Todos los datasets anteriormente tienen en común la columna de municipios por lo que esta va a ser la clave de unificación. Este método crea una nueva tabla que de la misma manera que antes necesita un tratamiento de datos\n"
      ]
    },
    {
      "cell_type": "markdown",
      "metadata": {
        "id": "PZX1_y4Fn4hy"
      },
      "source": [
        "**1. Unificación y organización de datos de viento y lluvia**"
      ]
    },
    {
      "cell_type": "code",
      "execution_count": 46,
      "metadata": {
        "colab": {
          "base_uri": "https://localhost:8080/",
          "height": 423
        },
        "id": "lCXmFNpkwgnc",
        "outputId": "28f5cf5f-ce63-4e88-e4eb-d345bda87568"
      },
      "outputs": [
        {
          "data": {
            "text/html": [
              "<div>\n",
              "<style scoped>\n",
              "    .dataframe tbody tr th:only-of-type {\n",
              "        vertical-align: middle;\n",
              "    }\n",
              "\n",
              "    .dataframe tbody tr th {\n",
              "        vertical-align: top;\n",
              "    }\n",
              "\n",
              "    .dataframe thead th {\n",
              "        text-align: right;\n",
              "    }\n",
              "</style>\n",
              "<table border=\"1\" class=\"dataframe\">\n",
              "  <thead>\n",
              "    <tr style=\"text-align: right;\">\n",
              "      <th></th>\n",
              "      <th>municipio</th>\n",
              "      <th>velocidad_viento</th>\n",
              "      <th>dias_lluvia</th>\n",
              "    </tr>\n",
              "  </thead>\n",
              "  <tbody>\n",
              "    <tr>\n",
              "      <th>0</th>\n",
              "      <td>ACANDÍ</td>\n",
              "      <td>1.300000</td>\n",
              "      <td>150.500000</td>\n",
              "    </tr>\n",
              "    <tr>\n",
              "      <th>1</th>\n",
              "      <td>ACEVEDO</td>\n",
              "      <td>1.967005</td>\n",
              "      <td>157.650000</td>\n",
              "    </tr>\n",
              "    <tr>\n",
              "      <th>2</th>\n",
              "      <td>AGUACHICA</td>\n",
              "      <td>0.950000</td>\n",
              "      <td>91.533333</td>\n",
              "    </tr>\n",
              "    <tr>\n",
              "      <th>3</th>\n",
              "      <td>AGUSTÍN CODAZZI</td>\n",
              "      <td>2.000000</td>\n",
              "      <td>79.600000</td>\n",
              "    </tr>\n",
              "    <tr>\n",
              "      <th>4</th>\n",
              "      <td>ALBANIA</td>\n",
              "      <td>3.400000</td>\n",
              "      <td>NaN</td>\n",
              "    </tr>\n",
              "    <tr>\n",
              "      <th>...</th>\n",
              "      <td>...</td>\n",
              "      <td>...</td>\n",
              "      <td>...</td>\n",
              "    </tr>\n",
              "    <tr>\n",
              "      <th>291</th>\n",
              "      <td>YOPAL</td>\n",
              "      <td>3.000000</td>\n",
              "      <td>149.600000</td>\n",
              "    </tr>\n",
              "    <tr>\n",
              "      <th>292</th>\n",
              "      <td>ZETAQUIRÁ</td>\n",
              "      <td>1.100000</td>\n",
              "      <td>179.000000</td>\n",
              "    </tr>\n",
              "    <tr>\n",
              "      <th>293</th>\n",
              "      <td>ZIPAQUIRÁ</td>\n",
              "      <td>2.300000</td>\n",
              "      <td>147.350000</td>\n",
              "    </tr>\n",
              "    <tr>\n",
              "      <th>294</th>\n",
              "      <td>ZONA BANANERA</td>\n",
              "      <td>1.100000</td>\n",
              "      <td>52.866667</td>\n",
              "    </tr>\n",
              "    <tr>\n",
              "      <th>295</th>\n",
              "      <td>ÁBREGO</td>\n",
              "      <td>2.600000</td>\n",
              "      <td>107.433333</td>\n",
              "    </tr>\n",
              "  </tbody>\n",
              "</table>\n",
              "<p>296 rows × 3 columns</p>\n",
              "</div>"
            ],
            "text/plain": [
              "           municipio  velocidad_viento  dias_lluvia\n",
              "0             ACANDÍ          1.300000   150.500000\n",
              "1            ACEVEDO          1.967005   157.650000\n",
              "2          AGUACHICA          0.950000    91.533333\n",
              "3    AGUSTÍN CODAZZI          2.000000    79.600000\n",
              "4            ALBANIA          3.400000          NaN\n",
              "..               ...               ...          ...\n",
              "291            YOPAL          3.000000   149.600000\n",
              "292        ZETAQUIRÁ          1.100000   179.000000\n",
              "293        ZIPAQUIRÁ          2.300000   147.350000\n",
              "294    ZONA BANANERA          1.100000    52.866667\n",
              "295           ÁBREGO          2.600000   107.433333\n",
              "\n",
              "[296 rows x 3 columns]"
            ]
          },
          "execution_count": 46,
          "metadata": {},
          "output_type": "execute_result"
        }
      ],
      "source": [
        "# Se utiliza pd.merge left=viento right= lluvia para un dataframe en el cual\n",
        "#municipio y velocidad_viento permaneceran con los mismos registros y se hara una comparasion con lluvia. Si los datos 'municipio' es un match en ambos datasets se ubica los datos que corresponda de 'dias_lluvia'. Si no se encuntran datos en 'dias_lluvia' se retorna un NaN. Si al hacer el match no habría datos en 'velocidad_viento' se descartaría la fila completa 'municipio'\t'dias_lluvia' de el dataframe lluvia.\n",
        "df_clima = pd.merge(left= viento, right= lluvia, left_on='municipio', right_on= 'municipio', how='left')\n",
        "df_clima"
      ]
    },
    {
      "cell_type": "code",
      "execution_count": 47,
      "metadata": {
        "colab": {
          "base_uri": "https://localhost:8080/"
        },
        "id": "ZPhHBBOFiZwH",
        "outputId": "c6d4ddca-462a-4282-a7fc-08ed2f769a32"
      },
      "outputs": [
        {
          "name": "stdout",
          "output_type": "stream",
          "text": [
            "<class 'pandas.core.frame.DataFrame'>\n",
            "RangeIndex: 296 entries, 0 to 295\n",
            "Data columns (total 3 columns):\n",
            " #   Column            Non-Null Count  Dtype  \n",
            "---  ------            --------------  -----  \n",
            " 0   municipio         296 non-null    object \n",
            " 1   velocidad_viento  296 non-null    float64\n",
            " 2   dias_lluvia       219 non-null    float64\n",
            "dtypes: float64(2), object(1)\n",
            "memory usage: 7.1+ KB\n"
          ]
        }
      ],
      "source": [
        "df_clima.info() #Evaluación de las condiciones de los datos del dataframe cuantitatrivos o nominales"
      ]
    },
    {
      "cell_type": "markdown",
      "metadata": {
        "id": "veMhVDIbo2pS"
      },
      "source": [
        "**Tratamiento de datos**"
      ]
    },
    {
      "cell_type": "code",
      "execution_count": 48,
      "metadata": {
        "colab": {
          "base_uri": "https://localhost:8080/",
          "height": 178
        },
        "id": "mhN-V1-Uo6jY",
        "outputId": "6a4f88e1-7af8-4273-d75e-4831ec046e50"
      },
      "outputs": [
        {
          "data": {
            "text/plain": [
              "municipio            0\n",
              "velocidad_viento     0\n",
              "dias_lluvia         77\n",
              "dtype: int64"
            ]
          },
          "execution_count": 48,
          "metadata": {},
          "output_type": "execute_result"
        }
      ],
      "source": [
        "df_clima.isnull().sum() #Conteo de valores nulos"
      ]
    },
    {
      "cell_type": "code",
      "execution_count": 49,
      "metadata": {
        "colab": {
          "base_uri": "https://localhost:8080/",
          "height": 485
        },
        "id": "eqYHsBE2os3X",
        "outputId": "4b0bdb67-9e0d-424b-ab94-dc8230949481"
      },
      "outputs": [
        {
          "name": "stdout",
          "output_type": "stream",
          "text": [
            "Media: 144.7041678387569\n",
            "Mediana: 142.5\n"
          ]
        },
        {
          "data": {
            "image/png": "[encoded data removed]",
            "text/plain": [
              "<Figure size 640x480 with 1 Axes>"
            ]
          },
          "metadata": {},
          "output_type": "display_data"
        }
      ],
      "source": [
        "# Se observa una similitud numerica entre media y mediana\n",
        "sns.histplot(df_clima['dias_lluvia'])\n",
        "print('Media:',df_clima['dias_lluvia'].mean())\n",
        "print('Mediana:', df_clima['dias_lluvia'].median())"
      ]
    },
    {
      "cell_type": "markdown",
      "metadata": {
        "id": "TV4PAJqYpbps"
      },
      "source": [
        "Nótemos que la distribución de los datos es uniforme por lo que para el tratamiento de datos nulos se recomienda la **MEDIA**"
      ]
    },
    {
      "cell_type": "code",
      "execution_count": 50,
      "metadata": {
        "colab": {
          "base_uri": "https://localhost:8080/",
          "height": 485
        },
        "id": "8ryqB6U-o7WX",
        "outputId": "ca46f98e-4165-4cd9-e88d-1d111682c346"
      },
      "outputs": [
        {
          "name": "stdout",
          "output_type": "stream",
          "text": [
            "Media: 1.7133202321807433\n",
            "Mediana: 1.304507\n"
          ]
        },
        {
          "data": {
            "image/png": "[encoded data removed]",
            "text/plain": [
              "<Figure size 640x480 with 1 Axes>"
            ]
          },
          "metadata": {},
          "output_type": "display_data"
        }
      ],
      "source": [
        "sns.histplot(df_clima['velocidad_viento'])\n",
        "print('Media:',df_clima['velocidad_viento'].mean())\n",
        "print('Mediana:', df_clima['velocidad_viento'].median())"
      ]
    },
    {
      "cell_type": "markdown",
      "metadata": {
        "id": "iCGDeNqAuuVO"
      },
      "source": [
        "Nótemos que la distribución de los datos está afectada por los datos atípicos  por lo que para el tratamiento de datos nulos se recomienda la **MEDIANA**"
      ]
    },
    {
      "cell_type": "markdown",
      "metadata": {
        "id": "fSOVbmAjvKfi"
      },
      "source": [
        "Manejo de datos faltantes"
      ]
    },
    {
      "cell_type": "code",
      "execution_count": 51,
      "metadata": {
        "colab": {
          "base_uri": "https://localhost:8080/",
          "height": 423
        },
        "id": "H4HV3NQwH_tY",
        "outputId": "2a125f6d-9602-46f7-bb0e-5b6b48f00488"
      },
      "outputs": [
        {
          "data": {
            "text/html": [
              "<div>\n",
              "<style scoped>\n",
              "    .dataframe tbody tr th:only-of-type {\n",
              "        vertical-align: middle;\n",
              "    }\n",
              "\n",
              "    .dataframe tbody tr th {\n",
              "        vertical-align: top;\n",
              "    }\n",
              "\n",
              "    .dataframe thead th {\n",
              "        text-align: right;\n",
              "    }\n",
              "</style>\n",
              "<table border=\"1\" class=\"dataframe\">\n",
              "  <thead>\n",
              "    <tr style=\"text-align: right;\">\n",
              "      <th></th>\n",
              "      <th>municipio</th>\n",
              "      <th>velocidad_viento</th>\n",
              "      <th>dias_lluvia</th>\n",
              "    </tr>\n",
              "  </thead>\n",
              "  <tbody>\n",
              "    <tr>\n",
              "      <th>0</th>\n",
              "      <td>ACANDÍ</td>\n",
              "      <td>1.300000</td>\n",
              "      <td>150.500000</td>\n",
              "    </tr>\n",
              "    <tr>\n",
              "      <th>1</th>\n",
              "      <td>ACEVEDO</td>\n",
              "      <td>1.967005</td>\n",
              "      <td>157.650000</td>\n",
              "    </tr>\n",
              "    <tr>\n",
              "      <th>2</th>\n",
              "      <td>AGUACHICA</td>\n",
              "      <td>0.950000</td>\n",
              "      <td>91.533333</td>\n",
              "    </tr>\n",
              "    <tr>\n",
              "      <th>3</th>\n",
              "      <td>AGUSTÍN CODAZZI</td>\n",
              "      <td>2.000000</td>\n",
              "      <td>79.600000</td>\n",
              "    </tr>\n",
              "    <tr>\n",
              "      <th>4</th>\n",
              "      <td>ALBANIA</td>\n",
              "      <td>3.400000</td>\n",
              "      <td>144.704168</td>\n",
              "    </tr>\n",
              "    <tr>\n",
              "      <th>...</th>\n",
              "      <td>...</td>\n",
              "      <td>...</td>\n",
              "      <td>...</td>\n",
              "    </tr>\n",
              "    <tr>\n",
              "      <th>291</th>\n",
              "      <td>YOPAL</td>\n",
              "      <td>3.000000</td>\n",
              "      <td>149.600000</td>\n",
              "    </tr>\n",
              "    <tr>\n",
              "      <th>292</th>\n",
              "      <td>ZETAQUIRÁ</td>\n",
              "      <td>1.100000</td>\n",
              "      <td>179.000000</td>\n",
              "    </tr>\n",
              "    <tr>\n",
              "      <th>293</th>\n",
              "      <td>ZIPAQUIRÁ</td>\n",
              "      <td>2.300000</td>\n",
              "      <td>147.350000</td>\n",
              "    </tr>\n",
              "    <tr>\n",
              "      <th>294</th>\n",
              "      <td>ZONA BANANERA</td>\n",
              "      <td>1.100000</td>\n",
              "      <td>52.866667</td>\n",
              "    </tr>\n",
              "    <tr>\n",
              "      <th>295</th>\n",
              "      <td>ÁBREGO</td>\n",
              "      <td>2.600000</td>\n",
              "      <td>107.433333</td>\n",
              "    </tr>\n",
              "  </tbody>\n",
              "</table>\n",
              "<p>296 rows × 3 columns</p>\n",
              "</div>"
            ],
            "text/plain": [
              "           municipio  velocidad_viento  dias_lluvia\n",
              "0             ACANDÍ          1.300000   150.500000\n",
              "1            ACEVEDO          1.967005   157.650000\n",
              "2          AGUACHICA          0.950000    91.533333\n",
              "3    AGUSTÍN CODAZZI          2.000000    79.600000\n",
              "4            ALBANIA          3.400000   144.704168\n",
              "..               ...               ...          ...\n",
              "291            YOPAL          3.000000   149.600000\n",
              "292        ZETAQUIRÁ          1.100000   179.000000\n",
              "293        ZIPAQUIRÁ          2.300000   147.350000\n",
              "294    ZONA BANANERA          1.100000    52.866667\n",
              "295           ÁBREGO          2.600000   107.433333\n",
              "\n",
              "[296 rows x 3 columns]"
            ]
          },
          "execution_count": 51,
          "metadata": {},
          "output_type": "execute_result"
        }
      ],
      "source": [
        "# Se rellenan los datos faltantes de los días de lluvia con el valor de la media\n",
        "df_clima['dias_lluvia'] = df_clima['dias_lluvia'].fillna(df_clima['dias_lluvia'].mean())\n",
        "df_clima"
      ]
    },
    {
      "cell_type": "code",
      "execution_count": 52,
      "metadata": {
        "colab": {
          "base_uri": "https://localhost:8080/",
          "height": 178
        },
        "id": "Yg2dV14uBtjq",
        "outputId": "a103e11b-e298-4fce-99f9-180c33a2855c"
      },
      "outputs": [
        {
          "data": {
            "text/plain": [
              "municipio           0\n",
              "velocidad_viento    0\n",
              "dias_lluvia         0\n",
              "dtype: int64"
            ]
          },
          "execution_count": 52,
          "metadata": {},
          "output_type": "execute_result"
        }
      ],
      "source": [
        "df_clima.isnull().sum() #No se observan nulos"
      ]
    },
    {
      "cell_type": "code",
      "execution_count": 53,
      "metadata": {
        "colab": {
          "base_uri": "https://localhost:8080/"
        },
        "id": "0j_qoS7-dUUo",
        "outputId": "4591fd22-fa3b-4e48-9af5-b28e4b30fd95"
      },
      "outputs": [
        {
          "data": {
            "text/plain": [
              "np.int64(296)"
            ]
          },
          "execution_count": 53,
          "metadata": {},
          "output_type": "execute_result"
        }
      ],
      "source": [
        "df_clima['municipio'].value_counts().sum() #evaluación del método"
      ]
    },
    {
      "cell_type": "markdown",
      "metadata": {
        "id": "RFZ6djJOvzd1"
      },
      "source": [
        "**Visualización de los datos**"
      ]
    },
    {
      "cell_type": "code",
      "execution_count": 54,
      "metadata": {
        "colab": {
          "base_uri": "https://localhost:8080/",
          "height": 1000
        },
        "id": "QlqMBt3Jp0D9",
        "outputId": "6247b758-4d43-45f0-9ad3-8bc42aaa07dc"
      },
      "outputs": [
        {
          "data": {
            "image/png": "[encoded data removed]",
            "text/plain": [
              "<Figure size 1000x500 with 1 Axes>"
            ]
          },
          "metadata": {},
          "output_type": "display_data"
        },
        {
          "data": {
            "image/png": "[encoded data removed]",
            "text/plain": [
              "<Figure size 1000x500 with 1 Axes>"
            ]
          },
          "metadata": {},
          "output_type": "display_data"
        },
        {
          "data": {
            "image/png": "[encoded data removed]",
            "text/plain": [
              "<Figure size 1000x500 with 1 Axes>"
            ]
          },
          "metadata": {},
          "output_type": "display_data"
        }
      ],
      "source": [
        "for col in df_clima.columns:\n",
        "  plt.figure(figsize=(10, 5))\n",
        "  sns.histplot(df_clima[col])\n"
      ]
    },
    {
      "cell_type": "markdown",
      "metadata": {
        "id": "Xqg_T87wv_HS"
      },
      "source": [
        "Notémos que debido al manejo que se les dió a los datos, la distribución de los días de lluvia cambió"
      ]
    },
    {
      "cell_type": "code",
      "execution_count": 55,
      "metadata": {
        "colab": {
          "base_uri": "https://localhost:8080/",
          "height": 447
        },
        "id": "OMKxG2QnpoPk",
        "outputId": "80362b2e-9bcb-4cef-b886-3f5e113aadea"
      },
      "outputs": [
        {
          "data": {
            "text/plain": [
              "<Axes: >"
            ]
          },
          "execution_count": 55,
          "metadata": {},
          "output_type": "execute_result"
        },
        {
          "data": {
            "image/png": "[encoded data removed]",
            "text/plain": [
              "<Figure size 640x480 with 1 Axes>"
            ]
          },
          "metadata": {},
          "output_type": "display_data"
        }
      ],
      "source": [
        "#Visualización de los datos para evaluar datos atípicos\n",
        "climas = df_clima[['velocidad_viento', 'dias_lluvia']]\n",
        "sns.boxplot(climas, whis=3)"
      ]
    },
    {
      "cell_type": "markdown",
      "metadata": {
        "id": "eC1NiVWcwRH5"
      },
      "source": [
        "Notémos que las escalas de los datos están muy diferentes por lo que no se puede ver el comportamiento de la variable de la velocidad del viento"
      ]
    },
    {
      "cell_type": "markdown",
      "metadata": {
        "id": "5J0gviOqwqIT"
      },
      "source": [
        "**2. Unificación y organización de datos de energía y clima**"
      ]
    },
    {
      "cell_type": "code",
      "execution_count": 56,
      "metadata": {
        "colab": {
          "base_uri": "https://localhost:8080/",
          "height": 423
        },
        "id": "oZ5k7eM9q3dv",
        "outputId": "d8cc65ec-2d88-4491-f0e8-d4c552c48950"
      },
      "outputs": [
        {
          "data": {
            "text/html": [
              "<div>\n",
              "<style scoped>\n",
              "    .dataframe tbody tr th:only-of-type {\n",
              "        vertical-align: middle;\n",
              "    }\n",
              "\n",
              "    .dataframe tbody tr th {\n",
              "        vertical-align: top;\n",
              "    }\n",
              "\n",
              "    .dataframe thead th {\n",
              "        text-align: right;\n",
              "    }\n",
              "</style>\n",
              "<table border=\"1\" class=\"dataframe\">\n",
              "  <thead>\n",
              "    <tr style=\"text-align: right;\">\n",
              "      <th></th>\n",
              "      <th>municipio</th>\n",
              "      <th>velocidad_viento</th>\n",
              "      <th>dias_lluvia</th>\n",
              "      <th>potencia_m</th>\n",
              "      <th>energia_activa</th>\n",
              "      <th>energia_reactiva</th>\n",
              "    </tr>\n",
              "  </thead>\n",
              "  <tbody>\n",
              "    <tr>\n",
              "      <th>0</th>\n",
              "      <td>ACANDÍ</td>\n",
              "      <td>1.300000</td>\n",
              "      <td>150.500000</td>\n",
              "      <td>898.57</td>\n",
              "      <td>377087.5</td>\n",
              "      <td>135449.0</td>\n",
              "    </tr>\n",
              "    <tr>\n",
              "      <th>1</th>\n",
              "      <td>ACEVEDO</td>\n",
              "      <td>1.967005</td>\n",
              "      <td>157.650000</td>\n",
              "      <td>NaN</td>\n",
              "      <td>NaN</td>\n",
              "      <td>NaN</td>\n",
              "    </tr>\n",
              "    <tr>\n",
              "      <th>2</th>\n",
              "      <td>AGUACHICA</td>\n",
              "      <td>0.950000</td>\n",
              "      <td>91.533333</td>\n",
              "      <td>NaN</td>\n",
              "      <td>NaN</td>\n",
              "      <td>NaN</td>\n",
              "    </tr>\n",
              "    <tr>\n",
              "      <th>3</th>\n",
              "      <td>AGUSTÍN CODAZZI</td>\n",
              "      <td>2.000000</td>\n",
              "      <td>79.600000</td>\n",
              "      <td>NaN</td>\n",
              "      <td>NaN</td>\n",
              "      <td>NaN</td>\n",
              "    </tr>\n",
              "    <tr>\n",
              "      <th>4</th>\n",
              "      <td>ALBANIA</td>\n",
              "      <td>3.400000</td>\n",
              "      <td>144.704168</td>\n",
              "      <td>NaN</td>\n",
              "      <td>NaN</td>\n",
              "      <td>NaN</td>\n",
              "    </tr>\n",
              "    <tr>\n",
              "      <th>...</th>\n",
              "      <td>...</td>\n",
              "      <td>...</td>\n",
              "      <td>...</td>\n",
              "      <td>...</td>\n",
              "      <td>...</td>\n",
              "      <td>...</td>\n",
              "    </tr>\n",
              "    <tr>\n",
              "      <th>291</th>\n",
              "      <td>YOPAL</td>\n",
              "      <td>3.000000</td>\n",
              "      <td>149.600000</td>\n",
              "      <td>NaN</td>\n",
              "      <td>NaN</td>\n",
              "      <td>NaN</td>\n",
              "    </tr>\n",
              "    <tr>\n",
              "      <th>292</th>\n",
              "      <td>ZETAQUIRÁ</td>\n",
              "      <td>1.100000</td>\n",
              "      <td>179.000000</td>\n",
              "      <td>NaN</td>\n",
              "      <td>NaN</td>\n",
              "      <td>NaN</td>\n",
              "    </tr>\n",
              "    <tr>\n",
              "      <th>293</th>\n",
              "      <td>ZIPAQUIRÁ</td>\n",
              "      <td>2.300000</td>\n",
              "      <td>147.350000</td>\n",
              "      <td>NaN</td>\n",
              "      <td>NaN</td>\n",
              "      <td>NaN</td>\n",
              "    </tr>\n",
              "    <tr>\n",
              "      <th>294</th>\n",
              "      <td>ZONA BANANERA</td>\n",
              "      <td>1.100000</td>\n",
              "      <td>52.866667</td>\n",
              "      <td>NaN</td>\n",
              "      <td>NaN</td>\n",
              "      <td>NaN</td>\n",
              "    </tr>\n",
              "    <tr>\n",
              "      <th>295</th>\n",
              "      <td>ÁBREGO</td>\n",
              "      <td>2.600000</td>\n",
              "      <td>107.433333</td>\n",
              "      <td>NaN</td>\n",
              "      <td>NaN</td>\n",
              "      <td>NaN</td>\n",
              "    </tr>\n",
              "  </tbody>\n",
              "</table>\n",
              "<p>296 rows × 6 columns</p>\n",
              "</div>"
            ],
            "text/plain": [
              "           municipio  velocidad_viento  dias_lluvia  potencia_m  \\\n",
              "0             ACANDÍ          1.300000   150.500000      898.57   \n",
              "1            ACEVEDO          1.967005   157.650000         NaN   \n",
              "2          AGUACHICA          0.950000    91.533333         NaN   \n",
              "3    AGUSTÍN CODAZZI          2.000000    79.600000         NaN   \n",
              "4            ALBANIA          3.400000   144.704168         NaN   \n",
              "..               ...               ...          ...         ...   \n",
              "291            YOPAL          3.000000   149.600000         NaN   \n",
              "292        ZETAQUIRÁ          1.100000   179.000000         NaN   \n",
              "293        ZIPAQUIRÁ          2.300000   147.350000         NaN   \n",
              "294    ZONA BANANERA          1.100000    52.866667         NaN   \n",
              "295           ÁBREGO          2.600000   107.433333         NaN   \n",
              "\n",
              "     energia_activa  energia_reactiva  \n",
              "0          377087.5          135449.0  \n",
              "1               NaN               NaN  \n",
              "2               NaN               NaN  \n",
              "3               NaN               NaN  \n",
              "4               NaN               NaN  \n",
              "..              ...               ...  \n",
              "291             NaN               NaN  \n",
              "292             NaN               NaN  \n",
              "293             NaN               NaN  \n",
              "294             NaN               NaN  \n",
              "295             NaN               NaN  \n",
              "\n",
              "[296 rows x 6 columns]"
            ]
          },
          "execution_count": 56,
          "metadata": {},
          "output_type": "execute_result"
        }
      ],
      "source": [
        "# Se utiliza pd.merge left=df_clima right= energy para un dataframe en el cual\n",
        "#municipio velocidad_viento dias_lluvia permaneceran con los mismos registros y se hara una comparasion con energy. Si los datos 'municipio' es un match en ambos datasets se ubica los datos que corresponda en dichas filas. Si no se encuntran los datos de la izquierda retorna un NaN. Si al hacer el match no habría datos numericos en los datos de la derecha se descartaría la fila completa de energy'.\n",
        "df_unificado = pd.merge(left = df_clima, right = energy, left_on='municipio', right_on= 'municipio', how='left')\n",
        "df_unificado"
      ]
    },
    {
      "cell_type": "markdown",
      "metadata": {
        "id": "fMUuYCcJxrCv"
      },
      "source": [
        "Notémos que de 291 datos del dataset final hay una cantidad de 268 nulos para el dataset de las energías. Este caso se da porque el dataset de base tiene más datos que la tabla visitante, sin que coincidan los municipios, por lo tanto llena los espacios con nulos.\n",
        "\n",
        "Dado este caso se propone el método de imputación de valores el cual usa ######################"
      ]
    },
    {
      "cell_type": "markdown",
      "metadata": {
        "id": "3cLgqSOC1-Lq"
      },
      "source": [
        "**Manejo de datos nulos: Método de imputación**\n",
        "\n",
        "  1. Separación de los datos nulos"
      ]
    },
    {
      "cell_type": "code",
      "execution_count": 57,
      "metadata": {
        "colab": {
          "base_uri": "https://localhost:8080/",
          "height": 423
        },
        "id": "7bWgr27ttuk9",
        "outputId": "58915a1a-51e8-4b63-dd37-e8dbb07129c9"
      },
      "outputs": [
        {
          "data": {
            "text/html": [
              "<div>\n",
              "<style scoped>\n",
              "    .dataframe tbody tr th:only-of-type {\n",
              "        vertical-align: middle;\n",
              "    }\n",
              "\n",
              "    .dataframe tbody tr th {\n",
              "        vertical-align: top;\n",
              "    }\n",
              "\n",
              "    .dataframe thead th {\n",
              "        text-align: right;\n",
              "    }\n",
              "</style>\n",
              "<table border=\"1\" class=\"dataframe\">\n",
              "  <thead>\n",
              "    <tr style=\"text-align: right;\">\n",
              "      <th></th>\n",
              "      <th>potencia_m</th>\n",
              "      <th>energia_activa</th>\n",
              "      <th>energia_reactiva</th>\n",
              "    </tr>\n",
              "  </thead>\n",
              "  <tbody>\n",
              "    <tr>\n",
              "      <th>0</th>\n",
              "      <td>898.57</td>\n",
              "      <td>377087.5</td>\n",
              "      <td>135449.0</td>\n",
              "    </tr>\n",
              "    <tr>\n",
              "      <th>1</th>\n",
              "      <td>NaN</td>\n",
              "      <td>NaN</td>\n",
              "      <td>NaN</td>\n",
              "    </tr>\n",
              "    <tr>\n",
              "      <th>2</th>\n",
              "      <td>NaN</td>\n",
              "      <td>NaN</td>\n",
              "      <td>NaN</td>\n",
              "    </tr>\n",
              "    <tr>\n",
              "      <th>3</th>\n",
              "      <td>NaN</td>\n",
              "      <td>NaN</td>\n",
              "      <td>NaN</td>\n",
              "    </tr>\n",
              "    <tr>\n",
              "      <th>4</th>\n",
              "      <td>NaN</td>\n",
              "      <td>NaN</td>\n",
              "      <td>NaN</td>\n",
              "    </tr>\n",
              "    <tr>\n",
              "      <th>...</th>\n",
              "      <td>...</td>\n",
              "      <td>...</td>\n",
              "      <td>...</td>\n",
              "    </tr>\n",
              "    <tr>\n",
              "      <th>291</th>\n",
              "      <td>NaN</td>\n",
              "      <td>NaN</td>\n",
              "      <td>NaN</td>\n",
              "    </tr>\n",
              "    <tr>\n",
              "      <th>292</th>\n",
              "      <td>NaN</td>\n",
              "      <td>NaN</td>\n",
              "      <td>NaN</td>\n",
              "    </tr>\n",
              "    <tr>\n",
              "      <th>293</th>\n",
              "      <td>NaN</td>\n",
              "      <td>NaN</td>\n",
              "      <td>NaN</td>\n",
              "    </tr>\n",
              "    <tr>\n",
              "      <th>294</th>\n",
              "      <td>NaN</td>\n",
              "      <td>NaN</td>\n",
              "      <td>NaN</td>\n",
              "    </tr>\n",
              "    <tr>\n",
              "      <th>295</th>\n",
              "      <td>NaN</td>\n",
              "      <td>NaN</td>\n",
              "      <td>NaN</td>\n",
              "    </tr>\n",
              "  </tbody>\n",
              "</table>\n",
              "<p>296 rows × 3 columns</p>\n",
              "</div>"
            ],
            "text/plain": [
              "     potencia_m  energia_activa  energia_reactiva\n",
              "0        898.57        377087.5          135449.0\n",
              "1           NaN             NaN               NaN\n",
              "2           NaN             NaN               NaN\n",
              "3           NaN             NaN               NaN\n",
              "4           NaN             NaN               NaN\n",
              "..          ...             ...               ...\n",
              "291         NaN             NaN               NaN\n",
              "292         NaN             NaN               NaN\n",
              "293         NaN             NaN               NaN\n",
              "294         NaN             NaN               NaN\n",
              "295         NaN             NaN               NaN\n",
              "\n",
              "[296 rows x 3 columns]"
            ]
          },
          "execution_count": 57,
          "metadata": {},
          "output_type": "execute_result"
        }
      ],
      "source": [
        "# Primero se separan los datos faltantes en una tabla\n",
        "nulos = pd.DataFrame(\n",
        "    {'potencia_m': df_unificado['potencia_m'],\n",
        "    'energia_activa': df_unificado['energia_activa'],\n",
        "    'energia_reactiva': df_unificado['energia_reactiva']\n",
        "}\n",
        ")\n",
        "nulos"
      ]
    },
    {
      "cell_type": "code",
      "execution_count": 58,
      "metadata": {
        "colab": {
          "base_uri": "https://localhost:8080/"
        },
        "id": "Nkc3ie7GypOP",
        "outputId": "570a3a74-4aed-45c0-b1b2-b955a25c1189"
      },
      "outputs": [
        {
          "name": "stdout",
          "output_type": "stream",
          "text": [
            "<class 'pandas.core.frame.DataFrame'>\n",
            "RangeIndex: 296 entries, 0 to 295\n",
            "Data columns (total 3 columns):\n",
            " #   Column            Non-Null Count  Dtype  \n",
            "---  ------            --------------  -----  \n",
            " 0   potencia_m        23 non-null     float64\n",
            " 1   energia_activa    23 non-null     float64\n",
            " 2   energia_reactiva  23 non-null     float64\n",
            "dtypes: float64(3)\n",
            "memory usage: 7.1 KB\n"
          ]
        }
      ],
      "source": [
        "nulos.info() #Evaluación de las características de la tabla"
      ]
    },
    {
      "cell_type": "markdown",
      "metadata": {
        "id": "9glNRt_i2eFF"
      },
      "source": [
        "  2. Imputación de valores"
      ]
    },
    {
      "cell_type": "code",
      "execution_count": 59,
      "metadata": {
        "id": "nWk_XJKJQ3D0"
      },
      "outputs": [],
      "source": [
        "nulos['potencia_m'] = nulos['potencia_m'].fillna(nulos['potencia_m'].mean())\n"
      ]
    },
    {
      "cell_type": "code",
      "execution_count": 60,
      "metadata": {
        "id": "eHG1jOaUQ5JL"
      },
      "outputs": [],
      "source": [
        "nulos['energia_activa'] = nulos['energia_activa'].fillna(nulos['energia_activa'].mean())\n"
      ]
    },
    {
      "cell_type": "code",
      "execution_count": 61,
      "metadata": {
        "colab": {
          "base_uri": "https://localhost:8080/",
          "height": 423
        },
        "id": "ebVVEw2kQ5gb",
        "outputId": "25ebc7e9-7fab-4d5d-c5d4-008b606028e1"
      },
      "outputs": [
        {
          "data": {
            "text/html": [
              "<div>\n",
              "<style scoped>\n",
              "    .dataframe tbody tr th:only-of-type {\n",
              "        vertical-align: middle;\n",
              "    }\n",
              "\n",
              "    .dataframe tbody tr th {\n",
              "        vertical-align: top;\n",
              "    }\n",
              "\n",
              "    .dataframe thead th {\n",
              "        text-align: right;\n",
              "    }\n",
              "</style>\n",
              "<table border=\"1\" class=\"dataframe\">\n",
              "  <thead>\n",
              "    <tr style=\"text-align: right;\">\n",
              "      <th></th>\n",
              "      <th>potencia_m</th>\n",
              "      <th>energia_activa</th>\n",
              "      <th>energia_reactiva</th>\n",
              "    </tr>\n",
              "  </thead>\n",
              "  <tbody>\n",
              "    <tr>\n",
              "      <th>0</th>\n",
              "      <td>898.570000</td>\n",
              "      <td>3.770875e+05</td>\n",
              "      <td>135449.000000</td>\n",
              "    </tr>\n",
              "    <tr>\n",
              "      <th>1</th>\n",
              "      <td>1850.354348</td>\n",
              "      <td>1.033767e+06</td>\n",
              "      <td>292021.713043</td>\n",
              "    </tr>\n",
              "    <tr>\n",
              "      <th>2</th>\n",
              "      <td>1850.354348</td>\n",
              "      <td>1.033767e+06</td>\n",
              "      <td>292021.713043</td>\n",
              "    </tr>\n",
              "    <tr>\n",
              "      <th>3</th>\n",
              "      <td>1850.354348</td>\n",
              "      <td>1.033767e+06</td>\n",
              "      <td>292021.713043</td>\n",
              "    </tr>\n",
              "    <tr>\n",
              "      <th>4</th>\n",
              "      <td>1850.354348</td>\n",
              "      <td>1.033767e+06</td>\n",
              "      <td>292021.713043</td>\n",
              "    </tr>\n",
              "    <tr>\n",
              "      <th>...</th>\n",
              "      <td>...</td>\n",
              "      <td>...</td>\n",
              "      <td>...</td>\n",
              "    </tr>\n",
              "    <tr>\n",
              "      <th>291</th>\n",
              "      <td>1850.354348</td>\n",
              "      <td>1.033767e+06</td>\n",
              "      <td>292021.713043</td>\n",
              "    </tr>\n",
              "    <tr>\n",
              "      <th>292</th>\n",
              "      <td>1850.354348</td>\n",
              "      <td>1.033767e+06</td>\n",
              "      <td>292021.713043</td>\n",
              "    </tr>\n",
              "    <tr>\n",
              "      <th>293</th>\n",
              "      <td>1850.354348</td>\n",
              "      <td>1.033767e+06</td>\n",
              "      <td>292021.713043</td>\n",
              "    </tr>\n",
              "    <tr>\n",
              "      <th>294</th>\n",
              "      <td>1850.354348</td>\n",
              "      <td>1.033767e+06</td>\n",
              "      <td>292021.713043</td>\n",
              "    </tr>\n",
              "    <tr>\n",
              "      <th>295</th>\n",
              "      <td>1850.354348</td>\n",
              "      <td>1.033767e+06</td>\n",
              "      <td>292021.713043</td>\n",
              "    </tr>\n",
              "  </tbody>\n",
              "</table>\n",
              "<p>296 rows × 3 columns</p>\n",
              "</div>"
            ],
            "text/plain": [
              "      potencia_m  energia_activa  energia_reactiva\n",
              "0     898.570000    3.770875e+05     135449.000000\n",
              "1    1850.354348    1.033767e+06     292021.713043\n",
              "2    1850.354348    1.033767e+06     292021.713043\n",
              "3    1850.354348    1.033767e+06     292021.713043\n",
              "4    1850.354348    1.033767e+06     292021.713043\n",
              "..           ...             ...               ...\n",
              "291  1850.354348    1.033767e+06     292021.713043\n",
              "292  1850.354348    1.033767e+06     292021.713043\n",
              "293  1850.354348    1.033767e+06     292021.713043\n",
              "294  1850.354348    1.033767e+06     292021.713043\n",
              "295  1850.354348    1.033767e+06     292021.713043\n",
              "\n",
              "[296 rows x 3 columns]"
            ]
          },
          "execution_count": 61,
          "metadata": {},
          "output_type": "execute_result"
        }
      ],
      "source": [
        "nulos['energia_reactiva'] = nulos['energia_reactiva'].fillna(nulos['energia_reactiva'].mean())\n",
        "nulos"
      ]
    },
    {
      "cell_type": "code",
      "execution_count": 62,
      "metadata": {
        "colab": {
          "base_uri": "https://localhost:8080/",
          "height": 1000
        },
        "collapsed": true,
        "id": "Tgejmu0qu4uy",
        "outputId": "46ca6c04-4d98-406b-adc8-aa9df1e18b46"
      },
      "outputs": [
        {
          "name": "stdout",
          "output_type": "stream",
          "text": [
            "Media: 1850.3543478260872\n",
            "Mediana: 1850.3543478260867\n",
            "Media: 1033766.847826087\n",
            "Mediana: 1033766.8478260869\n",
            "Media: 292021.7130434783\n",
            "Mediana: 292021.71304347826\n"
          ]
        },
        {
          "data": {
            "image/png": "[encoded data removed]",
            "text/plain": [
              "<Figure size 1000x500 with 1 Axes>"
            ]
          },
          "metadata": {},
          "output_type": "display_data"
        },
        {
          "data": {
            "image/png": "[encoded data removed]",
            "text/plain": [
              "<Figure size 1000x500 with 1 Axes>"
            ]
          },
          "metadata": {},
          "output_type": "display_data"
        },
        {
          "data": {
            "image/png": "[encoded data removed]",
            "text/plain": [
              "<Figure size 1000x500 with 1 Axes>"
            ]
          },
          "metadata": {},
          "output_type": "display_data"
        }
      ],
      "source": [
        "for col in nulos.columns:\n",
        "  plt.figure(figsize=(10, 5))\n",
        "  sns.histplot(nulos[col])\n",
        "  print('Media:',nulos[col].mean())\n",
        "  print('Mediana:', nulos[col].median())"
      ]
    },
    {
      "cell_type": "markdown",
      "metadata": {
        "id": "fFzRtwC33LTc"
      },
      "source": [
        "  3. Unión de los datos imputados en el dataset final"
      ]
    },
    {
      "cell_type": "code",
      "execution_count": 63,
      "metadata": {
        "colab": {
          "base_uri": "https://localhost:8080/",
          "height": 423
        },
        "id": "2Zrjj-pAy70-",
        "outputId": "2459bad9-bd5a-4ca3-bed2-928945bc7aa2"
      },
      "outputs": [
        {
          "data": {
            "text/html": [
              "<div>\n",
              "<style scoped>\n",
              "    .dataframe tbody tr th:only-of-type {\n",
              "        vertical-align: middle;\n",
              "    }\n",
              "\n",
              "    .dataframe tbody tr th {\n",
              "        vertical-align: top;\n",
              "    }\n",
              "\n",
              "    .dataframe thead th {\n",
              "        text-align: right;\n",
              "    }\n",
              "</style>\n",
              "<table border=\"1\" class=\"dataframe\">\n",
              "  <thead>\n",
              "    <tr style=\"text-align: right;\">\n",
              "      <th></th>\n",
              "      <th>municipio</th>\n",
              "      <th>velocidad_viento</th>\n",
              "      <th>dias_lluvia</th>\n",
              "      <th>potencia_m</th>\n",
              "      <th>energia_activa</th>\n",
              "      <th>energia_reactiva</th>\n",
              "    </tr>\n",
              "  </thead>\n",
              "  <tbody>\n",
              "    <tr>\n",
              "      <th>0</th>\n",
              "      <td>ACANDÍ</td>\n",
              "      <td>1.300000</td>\n",
              "      <td>150.500000</td>\n",
              "      <td>898.570000</td>\n",
              "      <td>3.770875e+05</td>\n",
              "      <td>135449.000000</td>\n",
              "    </tr>\n",
              "    <tr>\n",
              "      <th>1</th>\n",
              "      <td>ACEVEDO</td>\n",
              "      <td>1.967005</td>\n",
              "      <td>157.650000</td>\n",
              "      <td>1850.354348</td>\n",
              "      <td>1.033767e+06</td>\n",
              "      <td>292021.713043</td>\n",
              "    </tr>\n",
              "    <tr>\n",
              "      <th>2</th>\n",
              "      <td>AGUACHICA</td>\n",
              "      <td>0.950000</td>\n",
              "      <td>91.533333</td>\n",
              "      <td>1850.354348</td>\n",
              "      <td>1.033767e+06</td>\n",
              "      <td>292021.713043</td>\n",
              "    </tr>\n",
              "    <tr>\n",
              "      <th>3</th>\n",
              "      <td>AGUSTÍN CODAZZI</td>\n",
              "      <td>2.000000</td>\n",
              "      <td>79.600000</td>\n",
              "      <td>1850.354348</td>\n",
              "      <td>1.033767e+06</td>\n",
              "      <td>292021.713043</td>\n",
              "    </tr>\n",
              "    <tr>\n",
              "      <th>4</th>\n",
              "      <td>ALBANIA</td>\n",
              "      <td>3.400000</td>\n",
              "      <td>144.704168</td>\n",
              "      <td>1850.354348</td>\n",
              "      <td>1.033767e+06</td>\n",
              "      <td>292021.713043</td>\n",
              "    </tr>\n",
              "    <tr>\n",
              "      <th>...</th>\n",
              "      <td>...</td>\n",
              "      <td>...</td>\n",
              "      <td>...</td>\n",
              "      <td>...</td>\n",
              "      <td>...</td>\n",
              "      <td>...</td>\n",
              "    </tr>\n",
              "    <tr>\n",
              "      <th>291</th>\n",
              "      <td>YOPAL</td>\n",
              "      <td>3.000000</td>\n",
              "      <td>149.600000</td>\n",
              "      <td>1850.354348</td>\n",
              "      <td>1.033767e+06</td>\n",
              "      <td>292021.713043</td>\n",
              "    </tr>\n",
              "    <tr>\n",
              "      <th>292</th>\n",
              "      <td>ZETAQUIRÁ</td>\n",
              "      <td>1.100000</td>\n",
              "      <td>179.000000</td>\n",
              "      <td>1850.354348</td>\n",
              "      <td>1.033767e+06</td>\n",
              "      <td>292021.713043</td>\n",
              "    </tr>\n",
              "    <tr>\n",
              "      <th>293</th>\n",
              "      <td>ZIPAQUIRÁ</td>\n",
              "      <td>2.300000</td>\n",
              "      <td>147.350000</td>\n",
              "      <td>1850.354348</td>\n",
              "      <td>1.033767e+06</td>\n",
              "      <td>292021.713043</td>\n",
              "    </tr>\n",
              "    <tr>\n",
              "      <th>294</th>\n",
              "      <td>ZONA BANANERA</td>\n",
              "      <td>1.100000</td>\n",
              "      <td>52.866667</td>\n",
              "      <td>1850.354348</td>\n",
              "      <td>1.033767e+06</td>\n",
              "      <td>292021.713043</td>\n",
              "    </tr>\n",
              "    <tr>\n",
              "      <th>295</th>\n",
              "      <td>ÁBREGO</td>\n",
              "      <td>2.600000</td>\n",
              "      <td>107.433333</td>\n",
              "      <td>1850.354348</td>\n",
              "      <td>1.033767e+06</td>\n",
              "      <td>292021.713043</td>\n",
              "    </tr>\n",
              "  </tbody>\n",
              "</table>\n",
              "<p>296 rows × 6 columns</p>\n",
              "</div>"
            ],
            "text/plain": [
              "           municipio  velocidad_viento  dias_lluvia   potencia_m  \\\n",
              "0             ACANDÍ          1.300000   150.500000   898.570000   \n",
              "1            ACEVEDO          1.967005   157.650000  1850.354348   \n",
              "2          AGUACHICA          0.950000    91.533333  1850.354348   \n",
              "3    AGUSTÍN CODAZZI          2.000000    79.600000  1850.354348   \n",
              "4            ALBANIA          3.400000   144.704168  1850.354348   \n",
              "..               ...               ...          ...          ...   \n",
              "291            YOPAL          3.000000   149.600000  1850.354348   \n",
              "292        ZETAQUIRÁ          1.100000   179.000000  1850.354348   \n",
              "293        ZIPAQUIRÁ          2.300000   147.350000  1850.354348   \n",
              "294    ZONA BANANERA          1.100000    52.866667  1850.354348   \n",
              "295           ÁBREGO          2.600000   107.433333  1850.354348   \n",
              "\n",
              "     energia_activa  energia_reactiva  \n",
              "0      3.770875e+05     135449.000000  \n",
              "1      1.033767e+06     292021.713043  \n",
              "2      1.033767e+06     292021.713043  \n",
              "3      1.033767e+06     292021.713043  \n",
              "4      1.033767e+06     292021.713043  \n",
              "..              ...               ...  \n",
              "291    1.033767e+06     292021.713043  \n",
              "292    1.033767e+06     292021.713043  \n",
              "293    1.033767e+06     292021.713043  \n",
              "294    1.033767e+06     292021.713043  \n",
              "295    1.033767e+06     292021.713043  \n",
              "\n",
              "[296 rows x 6 columns]"
            ]
          },
          "execution_count": 63,
          "metadata": {},
          "output_type": "execute_result"
        }
      ],
      "source": [
        "# Unión de los datos de clima y las energías lado a lado sin cambios.\n",
        "df_viabilidad = pd.concat([df_clima, nulos], axis=1)\n",
        "df_viabilidad"
      ]
    },
    {
      "cell_type": "code",
      "execution_count": 64,
      "metadata": {
        "colab": {
          "base_uri": "https://localhost:8080/",
          "height": 272
        },
        "id": "K7PoBFoQ2HoS",
        "outputId": "fb35ff1c-78b7-4c6f-d096-95afc9c828cd"
      },
      "outputs": [
        {
          "data": {
            "text/plain": [
              "municipio           0\n",
              "velocidad_viento    0\n",
              "dias_lluvia         0\n",
              "potencia_m          0\n",
              "energia_activa      0\n",
              "energia_reactiva    0\n",
              "dtype: int64"
            ]
          },
          "execution_count": 64,
          "metadata": {},
          "output_type": "execute_result"
        }
      ],
      "source": [
        "df_viabilidad.isnull().sum() #Conteo de los datos"
      ]
    },
    {
      "cell_type": "markdown",
      "metadata": {
        "id": "6KuYOUV854aE"
      },
      "source": [
        "Los proyectos de energía renovable, tipo eólico o solar, están fuertemente relacionados por el clima por lo que es posible determinar, prontamente si un municipio cumple con las especificaciones climáticas.\n",
        "\n",
        "Por un lado, un proyecto de energía eólica requiere que haya una velocidad del viento de  mínimo 3,5 m/s. Por el otro lado, un proyecto de energía solar es viable en lugares donde llueva menos de 90 días al año. El tipo solar requiere de muchos más factores que solo los días despejados para determinar su viabilidad, sin embargo, la posición geográfica del país brinda una radiación solar suficiente para que un proyecto de esta clase se dé de manera exitosa con menos de 150 días de lluvia anual."
      ]
    },
    {
      "cell_type": "code",
      "execution_count": 65,
      "metadata": {
        "colab": {
          "base_uri": "https://localhost:8080/",
          "height": 478
        },
        "id": "D4BpX3wsG3p3",
        "outputId": "4b646b96-e6b3-44f0-d472-dc6ee68f8e3e"
      },
      "outputs": [
        {
          "data": {
            "text/html": [
              "<div>\n",
              "<style scoped>\n",
              "    .dataframe tbody tr th:only-of-type {\n",
              "        vertical-align: middle;\n",
              "    }\n",
              "\n",
              "    .dataframe tbody tr th {\n",
              "        vertical-align: top;\n",
              "    }\n",
              "\n",
              "    .dataframe thead th {\n",
              "        text-align: right;\n",
              "    }\n",
              "</style>\n",
              "<table border=\"1\" class=\"dataframe\">\n",
              "  <thead>\n",
              "    <tr style=\"text-align: right;\">\n",
              "      <th></th>\n",
              "      <th>municipio</th>\n",
              "      <th>velocidad_viento</th>\n",
              "      <th>dias_lluvia</th>\n",
              "      <th>potencia_m</th>\n",
              "      <th>energia_activa</th>\n",
              "      <th>energia_reactiva</th>\n",
              "      <th>viabilidad</th>\n",
              "    </tr>\n",
              "  </thead>\n",
              "  <tbody>\n",
              "    <tr>\n",
              "      <th>0</th>\n",
              "      <td>ACANDÍ</td>\n",
              "      <td>1.300000</td>\n",
              "      <td>150.500000</td>\n",
              "      <td>898.570000</td>\n",
              "      <td>3.770875e+05</td>\n",
              "      <td>135449.000000</td>\n",
              "      <td>0</td>\n",
              "    </tr>\n",
              "    <tr>\n",
              "      <th>1</th>\n",
              "      <td>ACEVEDO</td>\n",
              "      <td>1.967005</td>\n",
              "      <td>157.650000</td>\n",
              "      <td>1850.354348</td>\n",
              "      <td>1.033767e+06</td>\n",
              "      <td>292021.713043</td>\n",
              "      <td>0</td>\n",
              "    </tr>\n",
              "    <tr>\n",
              "      <th>2</th>\n",
              "      <td>AGUACHICA</td>\n",
              "      <td>0.950000</td>\n",
              "      <td>91.533333</td>\n",
              "      <td>1850.354348</td>\n",
              "      <td>1.033767e+06</td>\n",
              "      <td>292021.713043</td>\n",
              "      <td>1</td>\n",
              "    </tr>\n",
              "    <tr>\n",
              "      <th>3</th>\n",
              "      <td>AGUSTÍN CODAZZI</td>\n",
              "      <td>2.000000</td>\n",
              "      <td>79.600000</td>\n",
              "      <td>1850.354348</td>\n",
              "      <td>1.033767e+06</td>\n",
              "      <td>292021.713043</td>\n",
              "      <td>1</td>\n",
              "    </tr>\n",
              "    <tr>\n",
              "      <th>4</th>\n",
              "      <td>ALBANIA</td>\n",
              "      <td>3.400000</td>\n",
              "      <td>144.704168</td>\n",
              "      <td>1850.354348</td>\n",
              "      <td>1.033767e+06</td>\n",
              "      <td>292021.713043</td>\n",
              "      <td>1</td>\n",
              "    </tr>\n",
              "    <tr>\n",
              "      <th>...</th>\n",
              "      <td>...</td>\n",
              "      <td>...</td>\n",
              "      <td>...</td>\n",
              "      <td>...</td>\n",
              "      <td>...</td>\n",
              "      <td>...</td>\n",
              "      <td>...</td>\n",
              "    </tr>\n",
              "    <tr>\n",
              "      <th>291</th>\n",
              "      <td>YOPAL</td>\n",
              "      <td>3.000000</td>\n",
              "      <td>149.600000</td>\n",
              "      <td>1850.354348</td>\n",
              "      <td>1.033767e+06</td>\n",
              "      <td>292021.713043</td>\n",
              "      <td>1</td>\n",
              "    </tr>\n",
              "    <tr>\n",
              "      <th>292</th>\n",
              "      <td>ZETAQUIRÁ</td>\n",
              "      <td>1.100000</td>\n",
              "      <td>179.000000</td>\n",
              "      <td>1850.354348</td>\n",
              "      <td>1.033767e+06</td>\n",
              "      <td>292021.713043</td>\n",
              "      <td>0</td>\n",
              "    </tr>\n",
              "    <tr>\n",
              "      <th>293</th>\n",
              "      <td>ZIPAQUIRÁ</td>\n",
              "      <td>2.300000</td>\n",
              "      <td>147.350000</td>\n",
              "      <td>1850.354348</td>\n",
              "      <td>1.033767e+06</td>\n",
              "      <td>292021.713043</td>\n",
              "      <td>1</td>\n",
              "    </tr>\n",
              "    <tr>\n",
              "      <th>294</th>\n",
              "      <td>ZONA BANANERA</td>\n",
              "      <td>1.100000</td>\n",
              "      <td>52.866667</td>\n",
              "      <td>1850.354348</td>\n",
              "      <td>1.033767e+06</td>\n",
              "      <td>292021.713043</td>\n",
              "      <td>1</td>\n",
              "    </tr>\n",
              "    <tr>\n",
              "      <th>295</th>\n",
              "      <td>ÁBREGO</td>\n",
              "      <td>2.600000</td>\n",
              "      <td>107.433333</td>\n",
              "      <td>1850.354348</td>\n",
              "      <td>1.033767e+06</td>\n",
              "      <td>292021.713043</td>\n",
              "      <td>1</td>\n",
              "    </tr>\n",
              "  </tbody>\n",
              "</table>\n",
              "<p>296 rows × 7 columns</p>\n",
              "</div>"
            ],
            "text/plain": [
              "           municipio  velocidad_viento  dias_lluvia   potencia_m  \\\n",
              "0             ACANDÍ          1.300000   150.500000   898.570000   \n",
              "1            ACEVEDO          1.967005   157.650000  1850.354348   \n",
              "2          AGUACHICA          0.950000    91.533333  1850.354348   \n",
              "3    AGUSTÍN CODAZZI          2.000000    79.600000  1850.354348   \n",
              "4            ALBANIA          3.400000   144.704168  1850.354348   \n",
              "..               ...               ...          ...          ...   \n",
              "291            YOPAL          3.000000   149.600000  1850.354348   \n",
              "292        ZETAQUIRÁ          1.100000   179.000000  1850.354348   \n",
              "293        ZIPAQUIRÁ          2.300000   147.350000  1850.354348   \n",
              "294    ZONA BANANERA          1.100000    52.866667  1850.354348   \n",
              "295           ÁBREGO          2.600000   107.433333  1850.354348   \n",
              "\n",
              "     energia_activa  energia_reactiva  viabilidad  \n",
              "0      3.770875e+05     135449.000000           0  \n",
              "1      1.033767e+06     292021.713043           0  \n",
              "2      1.033767e+06     292021.713043           1  \n",
              "3      1.033767e+06     292021.713043           1  \n",
              "4      1.033767e+06     292021.713043           1  \n",
              "..              ...               ...         ...  \n",
              "291    1.033767e+06     292021.713043           1  \n",
              "292    1.033767e+06     292021.713043           0  \n",
              "293    1.033767e+06     292021.713043           1  \n",
              "294    1.033767e+06     292021.713043           1  \n",
              "295    1.033767e+06     292021.713043           1  \n",
              "\n",
              "[296 rows x 7 columns]"
            ]
          },
          "execution_count": 65,
          "metadata": {},
          "output_type": "execute_result"
        }
      ],
      "source": [
        "#Creación de la variable viabilidad a través del análisis climático de los municipios\n",
        "  #La columna viabilidad responde a 1 si el municipio cumple con las condiciones del clima y 0 si no es así\n",
        "df_viabilidad.loc[:, 'viabilidad'] = ((df_viabilidad['dias_lluvia'] < 150) | (df_viabilidad['velocidad_viento'] > 3.5)).astype(int)\n",
        "df_viabilidad"
      ]
    },
    {
      "cell_type": "code",
      "execution_count": 66,
      "metadata": {
        "colab": {
          "base_uri": "https://localhost:8080/",
          "height": 178
        },
        "id": "x_UxkEcDTz99",
        "outputId": "9ed048c0-3fb8-47ab-b488-722e812ad2f3"
      },
      "outputs": [
        {
          "data": {
            "text/plain": [
              "viabilidad\n",
              "1    207\n",
              "0     89\n",
              "Name: count, dtype: int64"
            ]
          },
          "execution_count": 66,
          "metadata": {},
          "output_type": "execute_result"
        }
      ],
      "source": [
        "df_viabilidad['viabilidad'].value_counts() #Conteo de los datos de viabilidad"
      ]
    },
    {
      "cell_type": "markdown",
      "metadata": {
        "id": "T7RjFK-f8KKx"
      },
      "source": [
        "# **3. Preprocesamiento de los datos**"
      ]
    },
    {
      "cell_type": "markdown",
      "metadata": {
        "id": "b4RuzX2Z8oB2"
      },
      "source": [
        "Previamente se hizo un scouting de la condicione de los datos, pero ahora se entra más en detalle"
      ]
    },
    {
      "cell_type": "markdown",
      "metadata": {
        "id": "6z92IYQ486nn"
      },
      "source": [
        "**Visualización de las variables**"
      ]
    },
    {
      "cell_type": "code",
      "execution_count": 67,
      "metadata": {
        "colab": {
          "base_uri": "https://localhost:8080/",
          "height": 266
        },
        "id": "Q3dlWoTXji2l",
        "outputId": "b82fcb31-04b9-4fdd-edb4-1158bab71f34"
      },
      "outputs": [
        {
          "data": {
            "text/plain": [
              "<Axes: >"
            ]
          },
          "execution_count": 67,
          "metadata": {},
          "output_type": "execute_result"
        },
        {
          "data": {
            "image/png": "[encoded data removed]",
            "text/plain": [
              "<Figure size 2400x600 with 1 Axes>"
            ]
          },
          "metadata": {},
          "output_type": "display_data"
        }
      ],
      "source": [
        "# Visualización del comportamiento de cada variable\n",
        "plt.figure(figsize=(24, 6))\n",
        "variables = df_viabilidad[['potencia_m', 'energia_activa', 'energia_reactiva', 'dias_lluvia', 'velocidad_viento']]\n",
        "sns.boxplot(variables, whis=3)"
      ]
    },
    {
      "cell_type": "markdown",
      "metadata": {
        "id": "duey3DCJ9rxv"
      },
      "source": [
        "Notémos que los datos presentan comportamientos atípicos que afectarán al modelo por lo que se recomienda hacer un tratamiento y una escalación de los mismos."
      ]
    },
    {
      "cell_type": "code",
      "execution_count": 68,
      "metadata": {
        "colab": {
          "base_uri": "https://localhost:8080/",
          "height": 556
        },
        "id": "9Ggs7w0jfxh4",
        "outputId": "967bb6e3-913b-46f4-8c37-40703c58570c"
      },
      "outputs": [
        {
          "data": {
            "text/plain": [
              "<Axes: >"
            ]
          },
          "execution_count": 68,
          "metadata": {},
          "output_type": "execute_result"
        },
        {
          "data": {
            "image/png": "[encoded data removed]",
            "text/plain": [
              "<Figure size 640x480 with 2 Axes>"
            ]
          },
          "metadata": {},
          "output_type": "display_data"
        }
      ],
      "source": [
        "#Evaluación de correlación en el dataset final\n",
        "correlacion = df_viabilidad[['dias_lluvia', 'energia_activa', 'energia_reactiva', 'potencia_m', 'velocidad_viento']].corr()\n",
        "\n",
        "sns.heatmap(correlacion, annot=True, cmap='coolwarm')"
      ]
    },
    {
      "cell_type": "markdown",
      "metadata": {
        "id": "sjm95KCAEaUB"
      },
      "source": [
        "La correlación aquí observada se debe, principalmente al comportamiento de los datos originales. Por otro lado, el tratamiento de imputación hace que sea más homogéneo este comportamiento."
      ]
    },
    {
      "cell_type": "markdown",
      "metadata": {
        "id": "7aYKSPyvho9b"
      },
      "source": [
        "# **4. Entrenamiento del Modelo**\n",
        "\n",
        "Para el caso de estos datos se determinó que la naturaleza del modelo debería ser de clasificación. Este va a evaluar las variables energéticas y climáticas para predecir si un municipio es viable o no para un proyecto de energía renobale"
      ]
    },
    {
      "cell_type": "markdown",
      "metadata": {
        "id": "uF61-k-VFBOv"
      },
      "source": [
        "## Modelo de clasificación NAIVE BAYES\n",
        "---\n",
        "\n",
        "A la par que se crea el modelo también se escalan los datos por medio del RobustScaler(), que nos brinda la facilidad de escalar y tratar los datos atípicos."
      ]
    },
    {
      "cell_type": "code",
      "execution_count": 69,
      "metadata": {
        "id": "0fGmGOk5nX-O"
      },
      "outputs": [],
      "source": [
        "# se separan x de entradas y salida\n",
        "x = df_viabilidad[[ 'energia_activa', 'energia_reactiva', 'dias_lluvia', 'velocidad_viento']]\n",
        "y = df_viabilidad['viabilidad']\n",
        "# Se divide set de entranmiento y prueba\n",
        "x_entrenamiento, x_prueba, y_entrenamiento, y_prueba = train_test_split(x, y, test_size=0.2, random_state=42)\n",
        "# Se utiliza escalador para las x, contiene outliers, no para y por que es 1 y 0\n",
        "escalador = RobustScaler()\n",
        "x_entrenamientox = escalador.fit_transform(x_entrenamiento)\n",
        "x_pruebax = escalador.transform(x_prueba)\n",
        "# Modelo de clasificasio que mejor se ajusto\n",
        "naive_model = MultinomialNB()\n",
        "naive_model.fit(x_entrenamiento, y_entrenamiento)\n",
        "predicciones = naive_model.predict(x_prueba)"
      ]
    },
    {
      "cell_type": "markdown",
      "metadata": {
        "id": "Kxjhrg1BGOcn"
      },
      "source": [
        "# **5. Evaluación del Modelo**\n",
        "\n",
        "La evaluación del modelo se hizo a través de diferentes métricas y herramientas para segurar el correcto funcionamiento del mismo"
      ]
    },
    {
      "cell_type": "markdown",
      "metadata": {
        "id": "bloqBs0BGtyf"
      },
      "source": [
        "**Cross Validation:** #########################"
      ]
    },
    {
      "cell_type": "code",
      "execution_count": 70,
      "metadata": {
        "colab": {
          "base_uri": "https://localhost:8080/"
        },
        "id": "38nBw4QdWdA9",
        "outputId": "249ccd07-1633-48dd-a979-234413ca8912"
      },
      "outputs": [
        {
          "name": "stdout",
          "output_type": "stream",
          "text": [
            "[0.92929293 0.86868687 0.85714286]\n",
            "0.8850408850408851\n"
          ]
        }
      ],
      "source": [
        "#Estas metricas evaluann el modelo y 'x' y 'y' seleccionadas en 3 particiones y dan un puntaje alto.\n",
        "kfold1 = KFold(n_splits=3, shuffle=True, random_state=42)\n",
        "cv_score1 = cross_val_score(naive_model, x, y, cv=kfold1)\n",
        "print(cv_score1)\n",
        "print(cv_score1.mean())"
      ]
    },
    {
      "cell_type": "markdown",
      "metadata": {
        "id": "YxwmL1AKG10B"
      },
      "source": [
        "**Accuracy y Classification report:** ###############################"
      ]
    },
    {
      "cell_type": "code",
      "execution_count": 71,
      "metadata": {
        "colab": {
          "base_uri": "https://localhost:8080/"
        },
        "id": "38kPN5yaJcHn",
        "outputId": "4eaf947b-1e67-4cca-a4c0-53bea548be23"
      },
      "outputs": [
        {
          "name": "stdout",
          "output_type": "stream",
          "text": [
            "              precision    recall  f1-score   support\n",
            "\n",
            "           0       0.84      0.62      0.71        26\n",
            "           1       0.76      0.91      0.83        34\n",
            "\n",
            "    accuracy                           0.78        60\n",
            "   macro avg       0.80      0.76      0.77        60\n",
            "weighted avg       0.79      0.78      0.78        60\n",
            "\n",
            "Accuracy: 0.7833333333333333\n"
          ]
        }
      ],
      "source": [
        "print(classification_report(y_prueba, predicciones))\n",
        "print('Accuracy:', accuracy_score(y_prueba, predicciones))\n"
      ]
    },
    {
      "cell_type": "markdown",
      "metadata": {
        "id": "n5MzIJEUHCCn"
      },
      "source": [
        "**Matriz de confusión : ################################"
      ]
    },
    {
      "cell_type": "code",
      "execution_count": 72,
      "metadata": {
        "colab": {
          "base_uri": "https://localhost:8080/"
        },
        "id": "RrZemvqKJ4tG",
        "outputId": "cf56999d-7afc-4e51-b1cc-38dcf755a176"
      },
      "outputs": [
        {
          "name": "stdout",
          "output_type": "stream",
          "text": [
            "[[16 10]\n",
            " [ 3 31]]\n"
          ]
        }
      ],
      "source": [
        "matriz1 = confusion_matrix(y_prueba, predicciones)\n",
        "print(matriz1)"
      ]
    },
    {
      "cell_type": "code",
      "execution_count": 73,
      "metadata": {
        "colab": {
          "base_uri": "https://localhost:8080/",
          "height": 472
        },
        "id": "rtBhaQpepU8b",
        "outputId": "72378bd2-7c8f-480d-bdd1-5ce2bfae0f4d"
      },
      "outputs": [
        {
          "data": {
            "image/png": "[encoded data removed]",
            "text/plain": [
              "<Figure size 640x480 with 2 Axes>"
            ]
          },
          "metadata": {},
          "output_type": "display_data"
        }
      ],
      "source": [
        "# Visualización de la matris de confusión\n",
        "labels = ['No viable', 'Viable']\n",
        "\n",
        "sns.heatmap(matriz1, annot=True, fmt='d', cmap='Blues', xticklabels=labels, yticklabels=labels)\n",
        "plt.xlabel('Predicciones')\n",
        "plt.ylabel('Valores reales')\n",
        "plt.title('Matriz de confusión')\n",
        "plt.show()"
      ]
    },
    {
      "cell_type": "markdown",
      "metadata": {
        "id": "LW6xzXcAHPy8"
      },
      "source": [
        "**AUC y Curva ROC:**"
      ]
    },
    {
      "cell_type": "code",
      "execution_count": 74,
      "metadata": {
        "id": "hQNNq3T3PyoP"
      },
      "outputs": [],
      "source": [
        "predicciones = naive_model.predict_proba(x_prueba)[:, 1]"
      ]
    },
    {
      "cell_type": "code",
      "execution_count": 75,
      "metadata": {
        "colab": {
          "base_uri": "https://localhost:8080/"
        },
        "id": "Jsf7SzOXr084",
        "outputId": "fae27e44-8be6-4c0e-d602-a5b8eca9f5c8"
      },
      "outputs": [
        {
          "name": "stdout",
          "output_type": "stream",
          "text": [
            "AUC: 0.9298642533936652\n"
          ]
        }
      ],
      "source": [
        "fpr, tpr, thresholds = roc_curve(y_prueba, predicciones)\n",
        "auc = roc_auc_score(y_prueba, predicciones)\n",
        "print(f\"AUC: {auc}\")"
      ]
    },
    {
      "cell_type": "code",
      "execution_count": 77,
      "metadata": {
        "colab": {
          "base_uri": "https://localhost:8080/",
          "height": 333
        },
        "id": "TBV-3OoVsahu",
        "outputId": "2678fc90-2c87-4246-a25d-71b50e5de71d"
      },
      "outputs": [
        {
          "data": {
            "image/png": "[encoded data removed]",
            "text/plain": [
              "<Figure size 800x300 with 1 Axes>"
            ]
          },
          "metadata": {},
          "output_type": "display_data"
        }
      ],
      "source": [
        "plt.figure(figsize=(8, 3))\n",
        "plt.plot(fpr, tpr, color='blue', lw=2, label='Curva ROC' % auc)\n",
        "plt.xlabel('Tasa de Falsos Positivos (FPR)')\n",
        "plt.ylabel('Tasa de Verdaderos Positivos (TPR)')\n",
        "plt.title('Receiver Operating Characteristic (ROC) Curve')\n",
        "plt.legend(loc=\"lower right\")\n",
        "plt.show()"
      ]
    },
    {
      "cell_type": "markdown",
      "metadata": {
        "id": "0RshMVPIHZ4D"
      },
      "source": [
        "**Comportamiento de Residuos:**"
      ]
    },
    {
      "cell_type": "code",
      "execution_count": 78,
      "metadata": {
        "colab": {
          "base_uri": "https://localhost:8080/",
          "height": 333
        },
        "id": "KYju_ZdtzOkZ",
        "outputId": "fce8c640-123e-4d80-fd57-bb3d0a36abee"
      },
      "outputs": [
        {
          "data": {
            "image/png": "[encoded data removed]",
            "text/plain": [
              "<Figure size 1000x300 with 1 Axes>"
            ]
          },
          "metadata": {},
          "output_type": "display_data"
        }
      ],
      "source": [
        "plt.figure(figsize=(10, 3))\n",
        "residuos = y_prueba - predicciones\n",
        "plt.hist(residuos, bins=20)\n",
        "plt.xlabel(\"Residuos\")\n",
        "plt.ylabel(\"Frecuencia\")\n",
        "plt.title(\"Distribución de los Residuos\")\n",
        "plt.show()"
      ]
    },
    {
      "cell_type": "markdown",
      "metadata": {
        "id": "PGF0DRmzHixx"
      },
      "source": [
        "# **6. Implementación**\n",
        "\n",
        "Se tranforma el modelo en una aplicación amigable para el usuario, con la que este puede obtener información adicional acerca del contexto de la predicción."
      ]
    },
    {
      "cell_type": "markdown",
      "metadata": {
        "id": "h_rAZIj8JEcV"
      },
      "source": [
        "##**Creación de una función de evaluación de viabilidad:**\n",
        "Con esta el usuario puede ingresar un municipio de colombia y este va a arrojaruna predicción basada en la información recopilada"
      ]
    },
    {
      "cell_type": "code",
      "execution_count": 79,
      "metadata": {
        "id": "y0AU-_VDFoC6"
      },
      "outputs": [],
      "source": [
        "def predecir_viabilidad_municipio(municipio, modelo, df_viabilidad):\n",
        "\n",
        "  municipio = municipio.upper()  # Convertir el nombre del municipio a mayúsculas\n",
        "\n",
        "  # Buscar el municipio en el DataFrame\n",
        "  datos_municipio = df_viabilidad[df_viabilidad['municipio'] == municipio]\n",
        "\n",
        "  if datos_municipio.empty:\n",
        "    return f\"No se encuentran datos suficientes para {municipio}\"\n",
        "\n",
        "  # Obtener las características del municipio\n",
        "  caracteristicas = datos_municipio[['energia_activa', 'energia_reactiva', 'dias_lluvia', 'velocidad_viento']]\n",
        "\n",
        "  # Realizar la predicción\n",
        "  prediccion = modelo.predict(caracteristicas)[0]\n",
        "\n",
        "  # Justificación de la predicción\n",
        "  justificacion = \"\"\n",
        "  if prediccion == 1:\n",
        "    justificacion = f\"El municipio {municipio} es viable para proyectos de energía renovable. \"\n",
        "    if datos_municipio['dias_lluvia'].values[0] < 150:\n",
        "      justificacion += \"Se recomienda un proyecto de energía Solar debido a que llueve menos de 150 al año. \"\n",
        "    elif datos_municipio['velocidad_viento'].values[0] > 3.5:\n",
        "      justificacion += \"Se recomienda un proyecto de energía Eólica debido a que la velocidad promedio del viento es superior al 3.5 m/s.\"\n",
        "    elif datos_municipio['velocidad_viento'].values[0] > 3.5 and datos_municipio['dias_lluvia'].values[0] < 150:\n",
        "      justificacion += \"Los proyectos de energía Solar y Eólico son ideales por condiciones climáticas ideales.\"\n",
        "  else:\n",
        "    justificacion = f\"El municipio {municipio} NO es viable para proyectos de energía renovable. \"\n",
        "    if datos_municipio['dias_lluvia'].values[0] > 150 or datos_municipio['velocidad_viento'].values[0] < 3.5:\n",
        "      justificacion += \"No se recomienda un proyecto de energía Eólica debido a que no existen buenas condiciones climáticas. \"\n",
        "\n",
        "  return justificacion"
      ]
    },
    {
      "cell_type": "markdown",
      "metadata": {
        "id": "R6uTNBcKJrOx"
      },
      "source": [
        "##**Despliegue del modelo:**\n",
        "A través del archivo binarizado es posible crear un aplicativo remoto disponible para los usuarios"
      ]
    },
    {
      "cell_type": "code",
      "execution_count": 80,
      "metadata": {
        "id": "zTl8y1ezGG8g"
      },
      "outputs": [],
      "source": [
        "import pickle\n",
        "with open('modelo.pkl', 'wb') as f:\n",
        "    pickle.dump(naive_model, f)"
      ]
    }
  ],
  "metadata": {
    "colab": {
      "include_colab_link": true,
      "provenance": []
    },
    "kernelspec": {
      "display_name": ".venv",
      "language": "python",
      "name": "python3"
    },
    "language_info": {
      "codemirror_mode": {
        "name": "ipython",
        "version": 3
      },
      "file_extension": ".py",
      "mimetype": "text/x-python",
      "name": "python",
      "nbconvert_exporter": "python",
      "pygments_lexer": "ipython3",
      "version": "3.13.3"
    }
  },
  "nbformat": 4,
  "nbformat_minor": 0
}
