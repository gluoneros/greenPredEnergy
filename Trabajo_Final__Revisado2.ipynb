{
  "cells": [
    {
      "cell_type": "markdown",
      "metadata": {
        "colab_type": "text",
        "id": "view-in-github"
      },
      "source": [
        "<a href=\"https://colab.research.google.com/github/gluoneros/greenPredEnergy/blob/main/Trabajo_Final__Revisado2.ipynb\" target=\"_parent\"><img src=\"https://colab.research.google.com/assets/colab-badge.svg\" alt=\"Open In Colab\"/></a>"
      ]
    },
    {
      "cell_type": "markdown",
      "metadata": {
        "id": "Ll2Yz8QhhUQt"
      },
      "source": [
        "# **Proyecto Final - TalentoTech**\n",
        "\n",
        "Modelo de clasificación de viabilidad de proyectos de energia renovable en los municipios de Colombia\n",
        "\n",
        "## Descripcion 🚀\n",
        "\n",
        "A través del análisis de datos energéticos y meteorológicos, de los municipios, este modelo evalua y predice la viabilidad de un proyecto de energía renovable. Con la información que brinda este algoritmo de machine learning los inversores y los gobiernos locales tienen la oportunidad de evaluar y reducir los costos de un proyecto de energía solar o eólica basandose en un porcentaje de viabilidad predicho por el modelo.\n",
        "\n"
      ]
    },
    {
      "cell_type": "markdown",
      "metadata": {
        "id": "Dv9rYYm9rzzZ"
      },
      "source": [
        "# **Objetivo**\n",
        "Evaluar la viabilidad de un proyecto de energía eólica en los municipios de Colombia, por medio de datos meteorológicos y energéticos del año 2024, con el fin de impulsar el desarrollo municipal del país y salvaguardar las inversiones de aquellos interesados en crear un proyecto de energía renovable, tipo solar o eólico, a través de un porcentaje de viabilidad.\n"
      ]
    },
    {
      "cell_type": "markdown",
      "metadata": {
        "id": "S5LeU7GJrzza"
      },
      "source": [
        "# **1. Importaciones**"
      ]
    },
    {
      "cell_type": "markdown",
      "metadata": {
        "id": "WQdKhubzPxpr"
      },
      "source": [
        "**Requerimientos para consumo de API**"
      ]
    },
    {
      "cell_type": "code",
      "execution_count": 1,
      "metadata": {
        "colab": {
          "base_uri": "https://localhost:8080/"
        },
        "id": "i_ejQpXfhUQu",
        "outputId": "988bbbbb-334c-409c-fb7c-8811d0271cfc"
      },
      "outputs": [
        {
          "name": "stdout",
          "output_type": "stream",
          "text": [
            "Collecting sodapy\n",
            "  Downloading sodapy-2.2.0-py2.py3-none-any.whl.metadata (15 kB)\n",
            "Requirement already satisfied: requests>=2.28.1 in /usr/local/lib/python3.10/dist-packages (from sodapy) (2.32.3)\n",
            "Requirement already satisfied: charset-normalizer<4,>=2 in /usr/local/lib/python3.10/dist-packages (from requests>=2.28.1->sodapy) (3.4.0)\n",
            "Requirement already satisfied: idna<4,>=2.5 in /usr/local/lib/python3.10/dist-packages (from requests>=2.28.1->sodapy) (3.10)\n",
            "Requirement already satisfied: urllib3<3,>=1.21.1 in /usr/local/lib/python3.10/dist-packages (from requests>=2.28.1->sodapy) (2.2.3)\n",
            "Requirement already satisfied: certifi>=2017.4.17 in /usr/local/lib/python3.10/dist-packages (from requests>=2.28.1->sodapy) (2024.8.30)\n",
            "Downloading sodapy-2.2.0-py2.py3-none-any.whl (15 kB)\n",
            "Installing collected packages: sodapy\n",
            "Successfully installed sodapy-2.2.0\n"
          ]
        }
      ],
      "source": [
        "#Cliente de python para consumo de API\n",
        "#!pip install sodapy #requerimientos para usar datos del gobierno"
      ]
    },
    {
      "cell_type": "markdown",
      "metadata": {
        "id": "8Z2vwfy5LBla"
      },
      "source": [
        "**Bibliotecas**\n"
      ]
    },
    {
      "cell_type": "code",
      "execution_count": 1,
      "metadata": {
        "id": "nhZ5DA58hUQt"
      },
      "outputs": [],
      "source": [
        "#Bibliotecas\n",
        "  # Manejo de datos\n",
        "import pandas as pd\n",
        "import numpy as np\n",
        "\n",
        "  # Visualización de datos\n",
        "import matplotlib.pyplot as plt\n",
        "import seaborn as sns\n",
        "\n",
        "  # Despliegue\n",
        "import pickle"
      ]
    },
    {
      "cell_type": "markdown",
      "metadata": {
        "id": "FczA0jyvLcDW"
      },
      "source": [
        "**Librerías**"
      ]
    },
    {
      "cell_type": "code",
      "execution_count": 2,
      "metadata": {
        "id": "RQ5TNk3SApjV"
      },
      "outputs": [],
      "source": [
        "#Librerías\n",
        "  #Modelo\n",
        "from sklearn.model_selection import train_test_split, KFold, cross_val_score\n",
        "from sklearn.linear_model import LogisticRegression\n",
        "from sklearn.naive_bayes import MultinomialNB, GaussianNB, BernoulliNB\n",
        "\n",
        "  #Métricas\n",
        "from sklearn.metrics import classification_report, accuracy_score, confusion_matrix, auc, roc_curve, roc_auc_score\n",
        "\n",
        "  #Preprocesamiento\n",
        "from sklearn.impute import KNNImputer\n",
        "from sklearn.preprocessing import RobustScaler\n",
        "\n",
        "  #Catálogo de datos abiertos\n",
        "from sodapy import Socrata"
      ]
    },
    {
      "cell_type": "code",
      "execution_count": 3,
      "metadata": {
        "colab": {
          "base_uri": "https://localhost:8080/"
        },
        "id": "5lBN0m-XhUQu",
        "outputId": "866f007a-7eba-4e7a-91f3-60d11ad5c789"
      },
      "outputs": [
        {
          "name": "stderr",
          "output_type": "stream",
          "text": [
            "WARNING:root:Requests made without an app_token will be subject to strict throttling limits.\n"
          ]
        }
      ],
      "source": [
        "#Clientes de API\n",
        "client = Socrata(\"www.datos.gov.co\", None)"
      ]
    },
    {
      "cell_type": "markdown",
      "metadata": {
        "id": "bau2fpYyrzzd"
      },
      "source": [
        "# **2. Carga y Procesamiento de datos**\n",
        "\n",
        "En esta sección se descargarán los datasets y se harán un preprocesamiento de los datos."
      ]
    },
    {
      "cell_type": "markdown",
      "metadata": {
        "id": "OLHTHurxRiLX"
      },
      "source": [
        "**Dataframe No. 1:**\n",
        "---\n",
        "Estado de la prestación del servicio de energía en Zonas No Interconectadas\n",
        "[enlace](https://www.datos.gov.co/Minas-y-Energ-a/Estado-de-la-prestaci-n-del-servicio-de-energ-a-en/3ebi-d83g/about_data)\n",
        "\n"
      ]
    },
    {
      "cell_type": "markdown",
      "metadata": {
        "id": "SGeIm0pVUwe5"
      },
      "source": [
        "**Descarga y agrupamiento de datos**"
      ]
    },
    {
      "cell_type": "code",
      "execution_count": 4,
      "metadata": {
        "id": "VAEXAD_LhUQv"
      },
      "outputs": [],
      "source": [
        "results1 = client.get(\"3ebi-d83g\", limit=5000) #Del cliente, pyhton va a descargar 5000 archivos"
      ]
    },
    {
      "cell_type": "code",
      "execution_count": 5,
      "metadata": {
        "colab": {
          "base_uri": "https://localhost:8080/",
          "height": 522
        },
        "id": "tM-RjbCwhUQv",
        "outputId": "4afaeb80-c951-4498-836d-c6554780f5cb"
      },
      "outputs": [
        {
          "data": {
            "text/html": [
              "<div>\n",
              "<style scoped>\n",
              "    .dataframe tbody tr th:only-of-type {\n",
              "        vertical-align: middle;\n",
              "    }\n",
              "\n",
              "    .dataframe tbody tr th {\n",
              "        vertical-align: top;\n",
              "    }\n",
              "\n",
              "    .dataframe thead th {\n",
              "        text-align: right;\n",
              "    }\n",
              "</style>\n",
              "<table border=\"1\" class=\"dataframe\">\n",
              "  <thead>\n",
              "    <tr style=\"text-align: right;\">\n",
              "      <th></th>\n",
              "      <th>id_dpto</th>\n",
              "      <th>dpto</th>\n",
              "      <th>id_mpio</th>\n",
              "      <th>mpio</th>\n",
              "      <th>id_localidad</th>\n",
              "      <th>localidad</th>\n",
              "      <th>anio</th>\n",
              "      <th>mes</th>\n",
              "      <th>energia_activa</th>\n",
              "      <th>energia_reactiva</th>\n",
              "      <th>potencia_maxima</th>\n",
              "      <th>dia_demanda_maxima</th>\n",
              "      <th>fecha_demanda_maxima</th>\n",
              "      <th>prom_diario_horas</th>\n",
              "    </tr>\n",
              "  </thead>\n",
              "  <tbody>\n",
              "    <tr>\n",
              "      <th>0</th>\n",
              "      <td>91</td>\n",
              "      <td>AMAZONAS</td>\n",
              "      <td>91540</td>\n",
              "      <td>PUERTO NARIÑO</td>\n",
              "      <td>91540000</td>\n",
              "      <td>PUERTO NARIÑO (PUERTO NARIÑO - AMAZONAS)</td>\n",
              "      <td>2024</td>\n",
              "      <td>05</td>\n",
              "      <td>132215</td>\n",
              "      <td>41907</td>\n",
              "      <td>286.4</td>\n",
              "      <td>Jueves</td>\n",
              "      <td>2024-05-23T18:00:00.000</td>\n",
              "      <td>24</td>\n",
              "    </tr>\n",
              "    <tr>\n",
              "      <th>1</th>\n",
              "      <td>91</td>\n",
              "      <td>AMAZONAS</td>\n",
              "      <td>91798</td>\n",
              "      <td>TARAPACA (ANM)</td>\n",
              "      <td>91798000</td>\n",
              "      <td>TARAPACA (TARAPACA (ANM) - AMAZONAS)</td>\n",
              "      <td>2024</td>\n",
              "      <td>05</td>\n",
              "      <td>28132</td>\n",
              "      <td>12662</td>\n",
              "      <td>102.6</td>\n",
              "      <td>Viernes</td>\n",
              "      <td>2024-05-03T18:30:00.000</td>\n",
              "      <td>10.16</td>\n",
              "    </tr>\n",
              "    <tr>\n",
              "      <th>2</th>\n",
              "      <td>5</td>\n",
              "      <td>ANTIOQUIA</td>\n",
              "      <td>5873</td>\n",
              "      <td>VIGÍA DEL FUERTE</td>\n",
              "      <td>5873010</td>\n",
              "      <td>LA PLAYA MURRI  (VIGÍA DEL FUERTE - ANTIOQUIA)</td>\n",
              "      <td>2024</td>\n",
              "      <td>05</td>\n",
              "      <td>2686</td>\n",
              "      <td>1110</td>\n",
              "      <td>27.46</td>\n",
              "      <td>Martes</td>\n",
              "      <td>2024-05-21T19:45:00.000</td>\n",
              "      <td>4.19</td>\n",
              "    </tr>\n",
              "    <tr>\n",
              "      <th>3</th>\n",
              "      <td>88</td>\n",
              "      <td>ARCHIPIÉLAGO DE SAN ANDRÉS y PROVIDENCIA</td>\n",
              "      <td>88564</td>\n",
              "      <td>PROVIDENCIA</td>\n",
              "      <td>88564000</td>\n",
              "      <td>PROVIDENCIA (PROVIDENCIA - ARCHIPIÉLAGO DE SAN...</td>\n",
              "      <td>2024</td>\n",
              "      <td>05</td>\n",
              "      <td>1331271</td>\n",
              "      <td>284638</td>\n",
              "      <td>2190.28</td>\n",
              "      <td>Viernes</td>\n",
              "      <td>2024-05-10T15:00:00.000</td>\n",
              "      <td>23.59</td>\n",
              "    </tr>\n",
              "    <tr>\n",
              "      <th>4</th>\n",
              "      <td>13</td>\n",
              "      <td>BOLÍVAR</td>\n",
              "      <td>13001</td>\n",
              "      <td>CARTAGENA DE INDIAS</td>\n",
              "      <td>13001007</td>\n",
              "      <td>ISLA FUERTE (CARTAGENA DE INDIAS - BOLÍVAR)</td>\n",
              "      <td>2024</td>\n",
              "      <td>05</td>\n",
              "      <td>64368</td>\n",
              "      <td>30561</td>\n",
              "      <td>247.59</td>\n",
              "      <td>Sábado</td>\n",
              "      <td>2024-05-18T22:00:00.000</td>\n",
              "      <td>10.9</td>\n",
              "    </tr>\n",
              "  </tbody>\n",
              "</table>\n",
              "</div>"
            ],
            "text/plain": [
              "  id_dpto                                      dpto id_mpio  \\\n",
              "0      91                                  AMAZONAS   91540   \n",
              "1      91                                  AMAZONAS   91798   \n",
              "2       5                                 ANTIOQUIA    5873   \n",
              "3      88  ARCHIPIÉLAGO DE SAN ANDRÉS y PROVIDENCIA   88564   \n",
              "4      13                                   BOLÍVAR   13001   \n",
              "\n",
              "                  mpio id_localidad  \\\n",
              "0        PUERTO NARIÑO     91540000   \n",
              "1       TARAPACA (ANM)     91798000   \n",
              "2     VIGÍA DEL FUERTE      5873010   \n",
              "3          PROVIDENCIA     88564000   \n",
              "4  CARTAGENA DE INDIAS     13001007   \n",
              "\n",
              "                                           localidad  anio mes energia_activa  \\\n",
              "0           PUERTO NARIÑO (PUERTO NARIÑO - AMAZONAS)  2024  05         132215   \n",
              "1               TARAPACA (TARAPACA (ANM) - AMAZONAS)  2024  05          28132   \n",
              "2     LA PLAYA MURRI  (VIGÍA DEL FUERTE - ANTIOQUIA)  2024  05           2686   \n",
              "3  PROVIDENCIA (PROVIDENCIA - ARCHIPIÉLAGO DE SAN...  2024  05        1331271   \n",
              "4        ISLA FUERTE (CARTAGENA DE INDIAS - BOLÍVAR)  2024  05          64368   \n",
              "\n",
              "  energia_reactiva potencia_maxima dia_demanda_maxima  \\\n",
              "0            41907           286.4             Jueves   \n",
              "1            12662           102.6            Viernes   \n",
              "2             1110           27.46             Martes   \n",
              "3           284638         2190.28            Viernes   \n",
              "4            30561          247.59             Sábado   \n",
              "\n",
              "      fecha_demanda_maxima prom_diario_horas  \n",
              "0  2024-05-23T18:00:00.000                24  \n",
              "1  2024-05-03T18:30:00.000             10.16  \n",
              "2  2024-05-21T19:45:00.000              4.19  \n",
              "3  2024-05-10T15:00:00.000             23.59  \n",
              "4  2024-05-18T22:00:00.000              10.9  "
            ]
          },
          "execution_count": 5,
          "metadata": {},
          "output_type": "execute_result"
        }
      ],
      "source": [
        "#Carga de datos\n",
        "datos1 = pd.DataFrame.from_records(results1)\n",
        "datos1.head()"
      ]
    },
    {
      "cell_type": "code",
      "execution_count": 6,
      "metadata": {
        "id": "2U68kh3shUQw"
      },
      "outputs": [],
      "source": [
        "#Creación de una nueva tabla a partir de los variables de interés\n",
        "df1 = pd.DataFrame(\n",
        "    {'municipio': datos1['mpio'],\n",
        "    'potencia_m': datos1['potencia_maxima'],\n",
        "    'energia_activa': datos1['energia_activa'],\n",
        "    'energia_reactiva': datos1['energia_reactiva']\n",
        "    }\n",
        ")"
      ]
    },
    {
      "cell_type": "markdown",
      "metadata": {
        "id": "HwFEb1BAVAOx"
      },
      "source": [
        "**Exploración de los datos**"
      ]
    },
    {
      "cell_type": "code",
      "execution_count": 7,
      "metadata": {
        "colab": {
          "base_uri": "https://localhost:8080/"
        },
        "id": "6CDre1z-hUQw",
        "outputId": "6510b850-674d-4e4f-e63d-141d15a3d98e"
      },
      "outputs": [
        {
          "name": "stdout",
          "output_type": "stream",
          "text": [
            "<class 'pandas.core.frame.DataFrame'>\n",
            "RangeIndex: 4273 entries, 0 to 4272\n",
            "Data columns (total 4 columns):\n",
            " #   Column            Non-Null Count  Dtype \n",
            "---  ------            --------------  ----- \n",
            " 0   municipio         4273 non-null   object\n",
            " 1   potencia_m        4273 non-null   object\n",
            " 2   energia_activa    4273 non-null   object\n",
            " 3   energia_reactiva  4273 non-null   object\n",
            "dtypes: object(4)\n",
            "memory usage: 133.7+ KB\n"
          ]
        }
      ],
      "source": [
        "# A través de este comando se analizan las características del dataset tales como el tipo del objeto, el tamaño de la tabla.\n",
        "df1.info()"
      ]
    },
    {
      "cell_type": "code",
      "execution_count": 8,
      "metadata": {
        "colab": {
          "base_uri": "https://localhost:8080/",
          "height": 210
        },
        "id": "-Q8Xv1frXQOq",
        "outputId": "1f735a5d-4fcf-4e7c-cbcb-14027ea4b8e9"
      },
      "outputs": [
        {
          "data": {
            "text/plain": [
              "municipio           0\n",
              "potencia_m          0\n",
              "energia_activa      0\n",
              "energia_reactiva    0\n",
              "dtype: int64"
            ]
          },
          "execution_count": 8,
          "metadata": {},
          "output_type": "execute_result"
        }
      ],
      "source": [
        "df1.isnull().sum() #conteo de valores nulos en el dataset"
      ]
    },
    {
      "cell_type": "code",
      "execution_count": 9,
      "metadata": {
        "colab": {
          "base_uri": "https://localhost:8080/",
          "height": 424
        },
        "collapsed": true,
        "id": "gT489HSbXQOs",
        "outputId": "bb6288e2-1875-45ed-b428-1bb650408be2"
      },
      "outputs": [
        {
          "data": {
            "text/html": [
              "<div>\n",
              "<style scoped>\n",
              "    .dataframe tbody tr th:only-of-type {\n",
              "        vertical-align: middle;\n",
              "    }\n",
              "\n",
              "    .dataframe tbody tr th {\n",
              "        vertical-align: top;\n",
              "    }\n",
              "\n",
              "    .dataframe thead th {\n",
              "        text-align: right;\n",
              "    }\n",
              "</style>\n",
              "<table border=\"1\" class=\"dataframe\">\n",
              "  <thead>\n",
              "    <tr style=\"text-align: right;\">\n",
              "      <th></th>\n",
              "      <th>municipio</th>\n",
              "      <th>potencia_m</th>\n",
              "      <th>energia_activa</th>\n",
              "      <th>energia_reactiva</th>\n",
              "    </tr>\n",
              "  </thead>\n",
              "  <tbody>\n",
              "    <tr>\n",
              "      <th>0</th>\n",
              "      <td>PUERTO NARIÑO</td>\n",
              "      <td>286.40</td>\n",
              "      <td>132215</td>\n",
              "      <td>41907.0</td>\n",
              "    </tr>\n",
              "    <tr>\n",
              "      <th>1</th>\n",
              "      <td>TARAPACA (ANM)</td>\n",
              "      <td>102.60</td>\n",
              "      <td>28132</td>\n",
              "      <td>12662.0</td>\n",
              "    </tr>\n",
              "    <tr>\n",
              "      <th>2</th>\n",
              "      <td>VIGÍA DEL FUERTE</td>\n",
              "      <td>27.46</td>\n",
              "      <td>2686</td>\n",
              "      <td>1110.0</td>\n",
              "    </tr>\n",
              "    <tr>\n",
              "      <th>3</th>\n",
              "      <td>PROVIDENCIA</td>\n",
              "      <td>2190.28</td>\n",
              "      <td>1331271</td>\n",
              "      <td>284638.0</td>\n",
              "    </tr>\n",
              "    <tr>\n",
              "      <th>4</th>\n",
              "      <td>CARTAGENA DE INDIAS</td>\n",
              "      <td>247.59</td>\n",
              "      <td>64368</td>\n",
              "      <td>30561.0</td>\n",
              "    </tr>\n",
              "    <tr>\n",
              "      <th>...</th>\n",
              "      <td>...</td>\n",
              "      <td>...</td>\n",
              "      <td>...</td>\n",
              "      <td>...</td>\n",
              "    </tr>\n",
              "    <tr>\n",
              "      <th>4268</th>\n",
              "      <td>BUENAVENTURA</td>\n",
              "      <td>31.23</td>\n",
              "      <td>7610</td>\n",
              "      <td>3285.0</td>\n",
              "    </tr>\n",
              "    <tr>\n",
              "      <th>4269</th>\n",
              "      <td>CARURÚ</td>\n",
              "      <td>87.82</td>\n",
              "      <td>31775</td>\n",
              "      <td>7881.0</td>\n",
              "    </tr>\n",
              "    <tr>\n",
              "      <th>4270</th>\n",
              "      <td>MITÚ</td>\n",
              "      <td>3236.71</td>\n",
              "      <td>1590470</td>\n",
              "      <td>387197.0</td>\n",
              "    </tr>\n",
              "    <tr>\n",
              "      <th>4271</th>\n",
              "      <td>TARAIRA</td>\n",
              "      <td>136.84</td>\n",
              "      <td>39226</td>\n",
              "      <td>10719.0</td>\n",
              "    </tr>\n",
              "    <tr>\n",
              "      <th>4272</th>\n",
              "      <td>PUERTO CARREÑO</td>\n",
              "      <td>5014.24</td>\n",
              "      <td>2506944</td>\n",
              "      <td>732978.0</td>\n",
              "    </tr>\n",
              "  </tbody>\n",
              "</table>\n",
              "<p>4273 rows × 4 columns</p>\n",
              "</div>"
            ],
            "text/plain": [
              "                municipio  potencia_m  energia_activa  energia_reactiva\n",
              "0           PUERTO NARIÑO      286.40          132215           41907.0\n",
              "1          TARAPACA (ANM)      102.60           28132           12662.0\n",
              "2        VIGÍA DEL FUERTE       27.46            2686            1110.0\n",
              "3             PROVIDENCIA     2190.28         1331271          284638.0\n",
              "4     CARTAGENA DE INDIAS      247.59           64368           30561.0\n",
              "...                   ...         ...             ...               ...\n",
              "4268         BUENAVENTURA       31.23            7610            3285.0\n",
              "4269               CARURÚ       87.82           31775            7881.0\n",
              "4270                 MITÚ     3236.71         1590470          387197.0\n",
              "4271              TARAIRA      136.84           39226           10719.0\n",
              "4272       PUERTO CARREÑO     5014.24         2506944          732978.0\n",
              "\n",
              "[4273 rows x 4 columns]"
            ]
          },
          "execution_count": 9,
          "metadata": {},
          "output_type": "execute_result"
        }
      ],
      "source": [
        "#Conversión de los datos categóricos de interés a datos numéricos\n",
        "df1['potencia_m'] = pd.to_numeric(df1['potencia_m'], errors='coerce')\n",
        "df1['energia_activa'] = pd.to_numeric(df1['energia_activa'], errors='coerce')\n",
        "df1['energia_reactiva'] = pd.to_numeric(df1['energia_reactiva'], errors='coerce')\n",
        "df1"
      ]
    },
    {
      "cell_type": "code",
      "execution_count": 10,
      "metadata": {
        "colab": {
          "base_uri": "https://localhost:8080/"
        },
        "id": "yAMmgFulVuC4",
        "outputId": "6eef6779-762a-4410-8cd3-3971780ae884"
      },
      "outputs": [
        {
          "name": "stdout",
          "output_type": "stream",
          "text": [
            "<class 'pandas.core.frame.DataFrame'>\n",
            "RangeIndex: 4273 entries, 0 to 4272\n",
            "Data columns (total 4 columns):\n",
            " #   Column            Non-Null Count  Dtype  \n",
            "---  ------            --------------  -----  \n",
            " 0   municipio         4273 non-null   object \n",
            " 1   potencia_m        4273 non-null   float64\n",
            " 2   energia_activa    4273 non-null   int64  \n",
            " 3   energia_reactiva  4273 non-null   float64\n",
            "dtypes: float64(2), int64(1), object(1)\n",
            "memory usage: 133.7+ KB\n"
          ]
        }
      ],
      "source": [
        "# Se verifica conversion a numerico\n",
        "df1.info()"
      ]
    },
    {
      "cell_type": "markdown",
      "metadata": {
        "id": "g2Mw8eSCXM9E"
      },
      "source": [
        "**Tratamiento de datos**\n",
        "\n",
        "Valores repetidos"
      ]
    },
    {
      "cell_type": "code",
      "execution_count": 11,
      "metadata": {
        "colab": {
          "base_uri": "https://localhost:8080/",
          "height": 467
        },
        "id": "lDDUijgbVgyP",
        "outputId": "4e62d88d-d75f-4203-ba5c-c4ae4a35dcec"
      },
      "outputs": [
        {
          "data": {
            "text/plain": [
              "<Axes: xlabel='potencia_m', ylabel='Count'>"
            ]
          },
          "execution_count": 11,
          "metadata": {},
          "output_type": "execute_result"
        },
        {
          "data": {
            "image/png": "[encoded data removed]",
            "text/plain": [
              "<Figure size 640x480 with 1 Axes>"
            ]
          },
          "metadata": {},
          "output_type": "display_data"
        }
      ],
      "source": [
        "#Visualización de los datos previo a la selección posible de media o mediana\n",
        "sns.histplot(df1['potencia_m'])"
      ]
    },
    {
      "cell_type": "code",
      "execution_count": 12,
      "metadata": {
        "colab": {
          "base_uri": "https://localhost:8080/",
          "height": 467
        },
        "id": "07txhapxWMeE",
        "outputId": "52bd0f54-945b-4c2c-fcae-746f02d2ec13"
      },
      "outputs": [
        {
          "data": {
            "text/plain": [
              "<Axes: xlabel='energia_activa', ylabel='Count'>"
            ]
          },
          "execution_count": 12,
          "metadata": {},
          "output_type": "execute_result"
        },
        {
          "data": {
            "image/png": "[encoded data removed]",
            "text/plain": [
              "<Figure size 640x480 with 1 Axes>"
            ]
          },
          "metadata": {},
          "output_type": "display_data"
        }
      ],
      "source": [
        "#Visualización de los datos previo a la selección posible de media o mediana\n",
        "sns.histplot(df1['energia_activa'])"
      ]
    },
    {
      "cell_type": "code",
      "execution_count": 13,
      "metadata": {
        "colab": {
          "base_uri": "https://localhost:8080/",
          "height": 467
        },
        "id": "5toQJVY8WP01",
        "outputId": "9e12da31-2795-47d2-dd9f-0d912ee0a9b7"
      },
      "outputs": [
        {
          "data": {
            "text/plain": [
              "<Axes: xlabel='energia_reactiva', ylabel='Count'>"
            ]
          },
          "execution_count": 13,
          "metadata": {},
          "output_type": "execute_result"
        },
        {
          "data": {
            "image/png": "[encoded data removed]",
            "text/plain": [
              "<Figure size 640x480 with 1 Axes>"
            ]
          },
          "metadata": {},
          "output_type": "display_data"
        }
      ],
      "source": [
        "#Visualización de los datos previo a la selección posible de media o mediana\n",
        "sns.histplot(df1['energia_reactiva'])"
      ]
    },
    {
      "cell_type": "code",
      "execution_count": 14,
      "metadata": {
        "colab": {
          "base_uri": "https://localhost:8080/",
          "height": 424
        },
        "id": "aBWkp8vGaY9w",
        "outputId": "56ef50b9-d92d-4304-d8df-9d16121a6ab5"
      },
      "outputs": [
        {
          "data": {
            "text/html": [
              "<div>\n",
              "<style scoped>\n",
              "    .dataframe tbody tr th:only-of-type {\n",
              "        vertical-align: middle;\n",
              "    }\n",
              "\n",
              "    .dataframe tbody tr th {\n",
              "        vertical-align: top;\n",
              "    }\n",
              "\n",
              "    .dataframe thead th {\n",
              "        text-align: right;\n",
              "    }\n",
              "</style>\n",
              "<table border=\"1\" class=\"dataframe\">\n",
              "  <thead>\n",
              "    <tr style=\"text-align: right;\">\n",
              "      <th></th>\n",
              "      <th>municipio</th>\n",
              "      <th>potencia_m</th>\n",
              "      <th>energia_activa</th>\n",
              "      <th>energia_reactiva</th>\n",
              "    </tr>\n",
              "  </thead>\n",
              "  <tbody>\n",
              "    <tr>\n",
              "      <th>0</th>\n",
              "      <td>ACANDI</td>\n",
              "      <td>830.817500</td>\n",
              "      <td>496707.5</td>\n",
              "      <td>139347.887500</td>\n",
              "    </tr>\n",
              "    <tr>\n",
              "      <th>1</th>\n",
              "      <td>ACANDÍ</td>\n",
              "      <td>816.094078</td>\n",
              "      <td>388026.0</td>\n",
              "      <td>127895.689320</td>\n",
              "    </tr>\n",
              "    <tr>\n",
              "      <th>2</th>\n",
              "      <td>ALTO BAUDO</td>\n",
              "      <td>107.021250</td>\n",
              "      <td>52660.0</td>\n",
              "      <td>14539.250000</td>\n",
              "    </tr>\n",
              "    <tr>\n",
              "      <th>3</th>\n",
              "      <td>ALTO BAUDO (PIE DE PATO)</td>\n",
              "      <td>108.590000</td>\n",
              "      <td>46705.0</td>\n",
              "      <td>16143.490000</td>\n",
              "    </tr>\n",
              "    <tr>\n",
              "      <th>4</th>\n",
              "      <td>ALTO BAUDÓ</td>\n",
              "      <td>114.050000</td>\n",
              "      <td>47341.0</td>\n",
              "      <td>15989.000000</td>\n",
              "    </tr>\n",
              "    <tr>\n",
              "      <th>...</th>\n",
              "      <td>...</td>\n",
              "      <td>...</td>\n",
              "      <td>...</td>\n",
              "      <td>...</td>\n",
              "    </tr>\n",
              "    <tr>\n",
              "      <th>90</th>\n",
              "      <td>UNGUÍA</td>\n",
              "      <td>356.366078</td>\n",
              "      <td>20480.0</td>\n",
              "      <td>49519.810458</td>\n",
              "    </tr>\n",
              "    <tr>\n",
              "      <th>91</th>\n",
              "      <td>URIBIA</td>\n",
              "      <td>235.369333</td>\n",
              "      <td>38023.0</td>\n",
              "      <td>11364.911111</td>\n",
              "    </tr>\n",
              "    <tr>\n",
              "      <th>92</th>\n",
              "      <td>URIBÍA</td>\n",
              "      <td>188.310000</td>\n",
              "      <td>44960.5</td>\n",
              "      <td>9129.250000</td>\n",
              "    </tr>\n",
              "    <tr>\n",
              "      <th>93</th>\n",
              "      <td>VIGIA DEL FUERTE</td>\n",
              "      <td>35.810000</td>\n",
              "      <td>3567.0</td>\n",
              "      <td>393.350000</td>\n",
              "    </tr>\n",
              "    <tr>\n",
              "      <th>94</th>\n",
              "      <td>VIGÍA DEL FUERTE</td>\n",
              "      <td>104.826591</td>\n",
              "      <td>5299.5</td>\n",
              "      <td>9002.125000</td>\n",
              "    </tr>\n",
              "  </tbody>\n",
              "</table>\n",
              "<p>95 rows × 4 columns</p>\n",
              "</div>"
            ],
            "text/plain": [
              "                   municipio  potencia_m  energia_activa  energia_reactiva\n",
              "0                     ACANDI  830.817500        496707.5     139347.887500\n",
              "1                     ACANDÍ  816.094078        388026.0     127895.689320\n",
              "2                 ALTO BAUDO  107.021250         52660.0      14539.250000\n",
              "3   ALTO BAUDO (PIE DE PATO)  108.590000         46705.0      16143.490000\n",
              "4                 ALTO BAUDÓ  114.050000         47341.0      15989.000000\n",
              "..                       ...         ...             ...               ...\n",
              "90                    UNGUÍA  356.366078         20480.0      49519.810458\n",
              "91                    URIBIA  235.369333         38023.0      11364.911111\n",
              "92                    URIBÍA  188.310000         44960.5       9129.250000\n",
              "93          VIGIA DEL FUERTE   35.810000          3567.0        393.350000\n",
              "94          VIGÍA DEL FUERTE  104.826591          5299.5       9002.125000\n",
              "\n",
              "[95 rows x 4 columns]"
            ]
          },
          "execution_count": 14,
          "metadata": {},
          "output_type": "execute_result"
        }
      ],
      "source": [
        "# Para depurar el dataset de variables repetidas se usa esa esta forma\n",
        "  # Por cada municipio único va a sacar la media de los datos correspondientes a este lugar\n",
        "energy = df1.groupby('municipio').agg({'potencia_m': 'mean', 'energia_activa': 'median', 'energia_reactiva': 'mean'}).reset_index()\n",
        "#Creamos una tabla nueva con los datos únicos\n",
        "energy"
      ]
    },
    {
      "cell_type": "markdown",
      "metadata": {
        "id": "d00r14Y1c79C"
      },
      "source": [
        "Nótese que de 4273 municipios repetidos pasamos a 95 municipios únicos"
      ]
    },
    {
      "cell_type": "code",
      "execution_count": 15,
      "metadata": {
        "colab": {
          "base_uri": "https://localhost:8080/"
        },
        "id": "UMYliVFm_wN8",
        "outputId": "55b59073-1708-4690-f8fb-730424b2a5d1"
      },
      "outputs": [
        {
          "data": {
            "text/plain": [
              "np.int64(95)"
            ]
          },
          "execution_count": 15,
          "metadata": {},
          "output_type": "execute_result"
        }
      ],
      "source": [
        "# Evaluación de los municipios\n",
        "energy['municipio'].value_counts().sum()"
      ]
    },
    {
      "cell_type": "code",
      "execution_count": 16,
      "metadata": {
        "colab": {
          "base_uri": "https://localhost:8080/"
        },
        "id": "PqPwUFo_t1pE",
        "outputId": "7239c03d-0d87-4711-8c42-daddb3e42cf2"
      },
      "outputs": [
        {
          "name": "stdout",
          "output_type": "stream",
          "text": [
            "<class 'pandas.core.frame.DataFrame'>\n",
            "RangeIndex: 95 entries, 0 to 94\n",
            "Data columns (total 4 columns):\n",
            " #   Column            Non-Null Count  Dtype  \n",
            "---  ------            --------------  -----  \n",
            " 0   municipio         95 non-null     object \n",
            " 1   potencia_m        95 non-null     float64\n",
            " 2   energia_activa    95 non-null     float64\n",
            " 3   energia_reactiva  95 non-null     float64\n",
            "dtypes: float64(3), object(1)\n",
            "memory usage: 3.1+ KB\n"
          ]
        }
      ],
      "source": [
        "# Análisis de caractaríticas\n",
        "energy.info()"
      ]
    },
    {
      "cell_type": "markdown",
      "metadata": {
        "id": "YobZAR3ya0m7"
      },
      "source": [
        "**Visualización de los datos**"
      ]
    },
    {
      "cell_type": "code",
      "execution_count": 17,
      "metadata": {
        "colab": {
          "base_uri": "https://localhost:8080/",
          "height": 485
        },
        "id": "dBJ5JB8CbTjd",
        "outputId": "aac17499-125b-4f39-c72e-59593061419d"
      },
      "outputs": [
        {
          "name": "stdout",
          "output_type": "stream",
          "text": [
            "Media: 1055.4624708172898\n",
            "Mediana: 113.20821428571428\n"
          ]
        },
        {
          "data": {
            "image/png": "[encoded data removed]",
            "text/plain": [
              "<Figure size 640x480 with 1 Axes>"
            ]
          },
          "metadata": {},
          "output_type": "display_data"
        }
      ],
      "source": [
        "#Visualización de los datos de energía reactiva con sus medias y medianas\n",
        "sns.histplot(energy['potencia_m'])\n",
        "print('Media:',energy['potencia_m'].mean())\n",
        "print('Mediana:', energy['potencia_m'].median())"
      ]
    },
    {
      "cell_type": "code",
      "execution_count": 18,
      "metadata": {
        "colab": {
          "base_uri": "https://localhost:8080/",
          "height": 485
        },
        "id": "0nm2yGwu4VFx",
        "outputId": "7c2bff98-a490-47c5-a37c-ca2285dcf46f"
      },
      "outputs": [
        {
          "name": "stdout",
          "output_type": "stream",
          "text": [
            "Media: 573772.3157894737\n",
            "Mediana: 20535.0\n"
          ]
        },
        {
          "data": {
            "image/png": "[encoded data removed]",
            "text/plain": [
              "<Figure size 640x480 with 1 Axes>"
            ]
          },
          "metadata": {},
          "output_type": "display_data"
        }
      ],
      "source": [
        "#Visualización de los datos de energía activa con sus medias y medianas\n",
        "sns.histplot(energy['energia_activa'])\n",
        "print('Media:', energy['energia_activa'].mean())\n",
        "print('Mediana:', energy['energia_activa'].median())"
      ]
    },
    {
      "cell_type": "code",
      "execution_count": 19,
      "metadata": {
        "colab": {
          "base_uri": "https://localhost:8080/",
          "height": 485
        },
        "id": "AnCH2Uye4bfg",
        "outputId": "b87f2798-9d28-40da-c710-0f81d19eeb0e"
      },
      "outputs": [
        {
          "name": "stdout",
          "output_type": "stream",
          "text": [
            "Media: 161394.82788102192\n",
            "Mediana: 10943.466666666667\n"
          ]
        },
        {
          "data": {
            "image/png": "[encoded data removed]",
            "text/plain": [
              "<Figure size 640x480 with 1 Axes>"
            ]
          },
          "metadata": {},
          "output_type": "display_data"
        }
      ],
      "source": [
        "#Visualización de los datos de energía reactiva con sus medias y medianas\n",
        "sns.histplot(energy['energia_reactiva'])\n",
        "print('Media:',energy['energia_reactiva'].mean())\n",
        "print('Mediana:', energy['energia_reactiva'].median())"
      ]
    },
    {
      "cell_type": "code",
      "execution_count": 20,
      "metadata": {
        "colab": {
          "base_uri": "https://localhost:8080/",
          "height": 426
        },
        "id": "dTeM7Cmrb9Dc",
        "outputId": "65566ee3-a94c-490e-cf47-f49342f5fa34"
      },
      "outputs": [
        {
          "data": {
            "text/plain": [
              "<Axes: >"
            ]
          },
          "execution_count": 20,
          "metadata": {},
          "output_type": "execute_result"
        },
        {
          "data": {
            "image/png": "[encoded data removed]",
            "text/plain": [
              "<Figure size 2400x600 with 1 Axes>"
            ]
          },
          "metadata": {},
          "output_type": "display_data"
        }
      ],
      "source": [
        "#visualización de la calidad de los datos\n",
        "plt.figure(figsize=(24, 6))\n",
        "columnas = energy[['potencia_m', 'energia_activa', 'energia_reactiva']]\n",
        "sns.boxplot(columnas, whis=3)"
      ]
    },
    {
      "cell_type": "markdown",
      "metadata": {
        "id": "Nu14JM40ciUf"
      },
      "source": [
        "Notemos que los datos de energía tienen muchos **datos atipicos**, además de una escala inmensa, a comparación con potencia máxima"
      ]
    },
    {
      "cell_type": "code",
      "execution_count": 21,
      "metadata": {
        "colab": {
          "base_uri": "https://localhost:8080/",
          "height": 452
        },
        "id": "H8skBcckXQOu",
        "outputId": "a77e9a1f-c57b-4da1-c519-95ee39768dbe"
      },
      "outputs": [
        {
          "data": {
            "text/plain": [
              "<Axes: >"
            ]
          },
          "execution_count": 21,
          "metadata": {},
          "output_type": "execute_result"
        },
        {
          "data": {
            "image/png": "[encoded data removed]",
            "text/plain": [
              "<Figure size 640x480 with 2 Axes>"
            ]
          },
          "metadata": {},
          "output_type": "display_data"
        }
      ],
      "source": [
        "#Analisis de correlacion multivariada entre las variables de interes.\n",
        "correlacion1 = energy[['potencia_m', 'energia_activa',\t'energia_reactiva']].corr()\n",
        "sns.heatmap(correlacion1, annot=True, cmap='coolwarm')"
      ]
    },
    {
      "cell_type": "markdown",
      "metadata": {
        "id": "zDjPTHledFSb"
      },
      "source": [
        "Existe una multicolinealidad muy alta entre las variables, esto significa que hay correlacion fuerte."
      ]
    },
    {
      "cell_type": "markdown",
      "metadata": {
        "id": "LFgC55HWrzzm"
      },
      "source": [
        "**Dataframe No. 2:**\n",
        "---\n",
        "Velocidad del viento en los municipios de colombia\n",
        "[vínculo](https://www.datos.gov.co/Ambiente-y-Desarrollo-Sostenible/Velocidad-Viento/sgfv-3yp8/about_data)\n"
      ]
    },
    {
      "cell_type": "markdown",
      "metadata": {
        "id": "anBgcQGrf6yi"
      },
      "source": [
        "**Descarga y agrupamiento de lo datos**"
      ]
    },
    {
      "cell_type": "code",
      "execution_count": 22,
      "metadata": {
        "colab": {
          "base_uri": "https://localhost:8080/",
          "height": 617
        },
        "id": "v5rrEbGGrzzt",
        "outputId": "e769f47a-e006-4342-8072-b243f0bb02a6"
      },
      "outputs": [
        {
          "data": {
            "text/html": [
              "<div>\n",
              "<style scoped>\n",
              "    .dataframe tbody tr th:only-of-type {\n",
              "        vertical-align: middle;\n",
              "    }\n",
              "\n",
              "    .dataframe tbody tr th {\n",
              "        vertical-align: top;\n",
              "    }\n",
              "\n",
              "    .dataframe thead th {\n",
              "        text-align: right;\n",
              "    }\n",
              "</style>\n",
              "<table border=\"1\" class=\"dataframe\">\n",
              "  <thead>\n",
              "    <tr style=\"text-align: right;\">\n",
              "      <th></th>\n",
              "      <th>codigoestacion</th>\n",
              "      <th>codigosensor</th>\n",
              "      <th>fechaobservacion</th>\n",
              "      <th>valorobservado</th>\n",
              "      <th>nombreestacion</th>\n",
              "      <th>departamento</th>\n",
              "      <th>municipio</th>\n",
              "      <th>zonahidrografica</th>\n",
              "      <th>latitud</th>\n",
              "      <th>longitud</th>\n",
              "      <th>descripcionsensor</th>\n",
              "      <th>unidadmedida</th>\n",
              "    </tr>\n",
              "  </thead>\n",
              "  <tbody>\n",
              "    <tr>\n",
              "      <th>0</th>\n",
              "      <td>0026065502</td>\n",
              "      <td>0103</td>\n",
              "      <td>2018-09-10T17:00:00.000</td>\n",
              "      <td>2.100336</td>\n",
              "      <td>TRINIDAD LA  - AUT</td>\n",
              "      <td>CAUCA</td>\n",
              "      <td>PIENDAMÓ</td>\n",
              "      <td>CAUCA</td>\n",
              "      <td>2.750555556</td>\n",
              "      <td>-76.57916667</td>\n",
              "      <td>Velocidad Viento (10 min)</td>\n",
              "      <td>m/s</td>\n",
              "    </tr>\n",
              "    <tr>\n",
              "      <th>1</th>\n",
              "      <td>0024035430</td>\n",
              "      <td>0103</td>\n",
              "      <td>2015-04-19T00:20:00.000</td>\n",
              "      <td>1.2</td>\n",
              "      <td>TUNGUAVITA - AUT</td>\n",
              "      <td>BOYACÁ</td>\n",
              "      <td>PAIPA</td>\n",
              "      <td>SOGAMOSO</td>\n",
              "      <td>5.745916667</td>\n",
              "      <td>-73.11636111</td>\n",
              "      <td>Velocidad Viento (10 min)</td>\n",
              "      <td>m/s</td>\n",
              "    </tr>\n",
              "    <tr>\n",
              "      <th>2</th>\n",
              "      <td>0028035070</td>\n",
              "      <td>0103</td>\n",
              "      <td>2019-03-17T05:00:00.000</td>\n",
              "      <td>6.1</td>\n",
              "      <td>GUATAPURI - AUT</td>\n",
              "      <td>CESAR</td>\n",
              "      <td>VALLEDUPAR</td>\n",
              "      <td>CESAR</td>\n",
              "      <td>10.73213889</td>\n",
              "      <td>-73.39241667</td>\n",
              "      <td>Velocidad Viento (10 min)</td>\n",
              "      <td>m/s</td>\n",
              "    </tr>\n",
              "    <tr>\n",
              "      <th>3</th>\n",
              "      <td>0026195501</td>\n",
              "      <td>0103</td>\n",
              "      <td>2019-02-10T15:35:00.000</td>\n",
              "      <td>0.2517844</td>\n",
              "      <td>ANDES  - AUT</td>\n",
              "      <td>ANTIOQUIA</td>\n",
              "      <td>ANDES</td>\n",
              "      <td>CAUCA</td>\n",
              "      <td>5.660108333</td>\n",
              "      <td>-75.91413889</td>\n",
              "      <td>Velocidad Viento (10 min)</td>\n",
              "      <td>m/s</td>\n",
              "    </tr>\n",
              "    <tr>\n",
              "      <th>4</th>\n",
              "      <td>0023065190</td>\n",
              "      <td>0103</td>\n",
              "      <td>2016-12-27T17:00:00.000</td>\n",
              "      <td>1.4</td>\n",
              "      <td>QUEBRADA NEGRA - AUT</td>\n",
              "      <td>CUNDINAMARCA</td>\n",
              "      <td>QUEBRADANEGRA</td>\n",
              "      <td>MEDIO MAGDALENA</td>\n",
              "      <td>5.137611111</td>\n",
              "      <td>-74.48125</td>\n",
              "      <td>Velocidad Viento (10 min)</td>\n",
              "      <td>m/s</td>\n",
              "    </tr>\n",
              "    <tr>\n",
              "      <th>...</th>\n",
              "      <td>...</td>\n",
              "      <td>...</td>\n",
              "      <td>...</td>\n",
              "      <td>...</td>\n",
              "      <td>...</td>\n",
              "      <td>...</td>\n",
              "      <td>...</td>\n",
              "      <td>...</td>\n",
              "      <td>...</td>\n",
              "      <td>...</td>\n",
              "      <td>...</td>\n",
              "      <td>...</td>\n",
              "    </tr>\n",
              "    <tr>\n",
              "      <th>2995</th>\n",
              "      <td>0024025501</td>\n",
              "      <td>0103</td>\n",
              "      <td>2019-05-28T02:55:00.000</td>\n",
              "      <td>0.01506365</td>\n",
              "      <td>ALBERTO SANTOS  - AUT</td>\n",
              "      <td>SANTANDER</td>\n",
              "      <td>SOCORRO</td>\n",
              "      <td>SOGAMOSO</td>\n",
              "      <td>6.493052778</td>\n",
              "      <td>-73.22111111</td>\n",
              "      <td>Velocidad Viento (10 min)</td>\n",
              "      <td>m/s</td>\n",
              "    </tr>\n",
              "    <tr>\n",
              "      <th>2996</th>\n",
              "      <td>0024035390</td>\n",
              "      <td>0103</td>\n",
              "      <td>2015-01-04T05:40:00.000</td>\n",
              "      <td>7.4</td>\n",
              "      <td>PARAMO ALMORZADERO  - AUT</td>\n",
              "      <td>SANTANDER</td>\n",
              "      <td>CERRITO</td>\n",
              "      <td>SOGAMOSO</td>\n",
              "      <td>6.945388889</td>\n",
              "      <td>-72.69633333</td>\n",
              "      <td>Velocidad Viento (10 min)</td>\n",
              "      <td>m/s</td>\n",
              "    </tr>\n",
              "    <tr>\n",
              "      <th>2997</th>\n",
              "      <td>0023035030</td>\n",
              "      <td>0103</td>\n",
              "      <td>2011-01-14T17:00:00.000</td>\n",
              "      <td>0.2</td>\n",
              "      <td>BASE PALANQUERO  - AUT</td>\n",
              "      <td>CUNDINAMARCA</td>\n",
              "      <td>PUERTO SALGAR</td>\n",
              "      <td>MEDIO MAGDALENA</td>\n",
              "      <td>5.492861111</td>\n",
              "      <td>-74.658</td>\n",
              "      <td>Velocidad Viento (10 min)</td>\n",
              "      <td>m/s</td>\n",
              "    </tr>\n",
              "    <tr>\n",
              "      <th>2998</th>\n",
              "      <td>0016015130</td>\n",
              "      <td>0103</td>\n",
              "      <td>2011-08-06T08:30:00.000</td>\n",
              "      <td>1.2</td>\n",
              "      <td>ALCALDIA DE HERRAN  - AUT</td>\n",
              "      <td>NORTE DE SANTANDER</td>\n",
              "      <td>HERRÁN</td>\n",
              "      <td>CATATUMBO</td>\n",
              "      <td>7.506722222</td>\n",
              "      <td>-72.48536111</td>\n",
              "      <td>Velocidad Viento (10 min)</td>\n",
              "      <td>m/s</td>\n",
              "    </tr>\n",
              "    <tr>\n",
              "      <th>2999</th>\n",
              "      <td>0026215501</td>\n",
              "      <td>0103</td>\n",
              "      <td>2019-08-26T16:10:00.000</td>\n",
              "      <td>0.3503786</td>\n",
              "      <td>CONCORDIA  - AUT</td>\n",
              "      <td>ANTIOQUIA</td>\n",
              "      <td>CONCORDIA</td>\n",
              "      <td>CAUCA</td>\n",
              "      <td>6.042441667</td>\n",
              "      <td>-75.92149722</td>\n",
              "      <td>Velocidad Viento (10 min)</td>\n",
              "      <td>m/s</td>\n",
              "    </tr>\n",
              "  </tbody>\n",
              "</table>\n",
              "<p>3000 rows × 12 columns</p>\n",
              "</div>"
            ],
            "text/plain": [
              "     codigoestacion codigosensor         fechaobservacion valorobservado  \\\n",
              "0        0026065502         0103  2018-09-10T17:00:00.000       2.100336   \n",
              "1        0024035430         0103  2015-04-19T00:20:00.000            1.2   \n",
              "2        0028035070         0103  2019-03-17T05:00:00.000            6.1   \n",
              "3        0026195501         0103  2019-02-10T15:35:00.000      0.2517844   \n",
              "4        0023065190         0103  2016-12-27T17:00:00.000            1.4   \n",
              "...             ...          ...                      ...            ...   \n",
              "2995     0024025501         0103  2019-05-28T02:55:00.000     0.01506365   \n",
              "2996     0024035390         0103  2015-01-04T05:40:00.000            7.4   \n",
              "2997     0023035030         0103  2011-01-14T17:00:00.000            0.2   \n",
              "2998     0016015130         0103  2011-08-06T08:30:00.000            1.2   \n",
              "2999     0026215501         0103  2019-08-26T16:10:00.000      0.3503786   \n",
              "\n",
              "                 nombreestacion        departamento      municipio  \\\n",
              "0            TRINIDAD LA  - AUT               CAUCA       PIENDAMÓ   \n",
              "1              TUNGUAVITA - AUT              BOYACÁ          PAIPA   \n",
              "2               GUATAPURI - AUT               CESAR     VALLEDUPAR   \n",
              "3                  ANDES  - AUT           ANTIOQUIA          ANDES   \n",
              "4          QUEBRADA NEGRA - AUT        CUNDINAMARCA  QUEBRADANEGRA   \n",
              "...                         ...                 ...            ...   \n",
              "2995      ALBERTO SANTOS  - AUT           SANTANDER        SOCORRO   \n",
              "2996  PARAMO ALMORZADERO  - AUT           SANTANDER        CERRITO   \n",
              "2997     BASE PALANQUERO  - AUT        CUNDINAMARCA  PUERTO SALGAR   \n",
              "2998  ALCALDIA DE HERRAN  - AUT  NORTE DE SANTANDER         HERRÁN   \n",
              "2999           CONCORDIA  - AUT           ANTIOQUIA      CONCORDIA   \n",
              "\n",
              "     zonahidrografica      latitud      longitud          descripcionsensor  \\\n",
              "0               CAUCA  2.750555556  -76.57916667  Velocidad Viento (10 min)   \n",
              "1            SOGAMOSO  5.745916667  -73.11636111  Velocidad Viento (10 min)   \n",
              "2               CESAR  10.73213889  -73.39241667  Velocidad Viento (10 min)   \n",
              "3               CAUCA  5.660108333  -75.91413889  Velocidad Viento (10 min)   \n",
              "4     MEDIO MAGDALENA  5.137611111     -74.48125  Velocidad Viento (10 min)   \n",
              "...               ...          ...           ...                        ...   \n",
              "2995         SOGAMOSO  6.493052778  -73.22111111  Velocidad Viento (10 min)   \n",
              "2996         SOGAMOSO  6.945388889  -72.69633333  Velocidad Viento (10 min)   \n",
              "2997  MEDIO MAGDALENA  5.492861111       -74.658  Velocidad Viento (10 min)   \n",
              "2998        CATATUMBO  7.506722222  -72.48536111  Velocidad Viento (10 min)   \n",
              "2999            CAUCA  6.042441667  -75.92149722  Velocidad Viento (10 min)   \n",
              "\n",
              "     unidadmedida  \n",
              "0             m/s  \n",
              "1             m/s  \n",
              "2             m/s  \n",
              "3             m/s  \n",
              "4             m/s  \n",
              "...           ...  \n",
              "2995          m/s  \n",
              "2996          m/s  \n",
              "2997          m/s  \n",
              "2998          m/s  \n",
              "2999          m/s  \n",
              "\n",
              "[3000 rows x 12 columns]"
            ]
          },
          "execution_count": 22,
          "metadata": {},
          "output_type": "execute_result"
        }
      ],
      "source": [
        "#Descarga y emuestra el dataset\n",
        "results2 = client.get(\"sgfv-3yp8\", limit=3000)\n",
        "datos2 = pd.DataFrame.from_records(results2)\n",
        "datos2"
      ]
    },
    {
      "cell_type": "code",
      "execution_count": 23,
      "metadata": {
        "colab": {
          "base_uri": "https://localhost:8080/",
          "height": 424
        },
        "id": "mKLAqOnyrzzt",
        "outputId": "0bb8d512-2802-4a0c-f336-e0f15e93afe6"
      },
      "outputs": [
        {
          "data": {
            "text/html": [
              "<div>\n",
              "<style scoped>\n",
              "    .dataframe tbody tr th:only-of-type {\n",
              "        vertical-align: middle;\n",
              "    }\n",
              "\n",
              "    .dataframe tbody tr th {\n",
              "        vertical-align: top;\n",
              "    }\n",
              "\n",
              "    .dataframe thead th {\n",
              "        text-align: right;\n",
              "    }\n",
              "</style>\n",
              "<table border=\"1\" class=\"dataframe\">\n",
              "  <thead>\n",
              "    <tr style=\"text-align: right;\">\n",
              "      <th></th>\n",
              "      <th>municipio</th>\n",
              "      <th>velocidad_viento</th>\n",
              "    </tr>\n",
              "  </thead>\n",
              "  <tbody>\n",
              "    <tr>\n",
              "      <th>0</th>\n",
              "      <td>PIENDAMÓ</td>\n",
              "      <td>2.100336</td>\n",
              "    </tr>\n",
              "    <tr>\n",
              "      <th>1</th>\n",
              "      <td>PAIPA</td>\n",
              "      <td>1.2</td>\n",
              "    </tr>\n",
              "    <tr>\n",
              "      <th>2</th>\n",
              "      <td>VALLEDUPAR</td>\n",
              "      <td>6.1</td>\n",
              "    </tr>\n",
              "    <tr>\n",
              "      <th>3</th>\n",
              "      <td>ANDES</td>\n",
              "      <td>0.2517844</td>\n",
              "    </tr>\n",
              "    <tr>\n",
              "      <th>4</th>\n",
              "      <td>QUEBRADANEGRA</td>\n",
              "      <td>1.4</td>\n",
              "    </tr>\n",
              "    <tr>\n",
              "      <th>...</th>\n",
              "      <td>...</td>\n",
              "      <td>...</td>\n",
              "    </tr>\n",
              "    <tr>\n",
              "      <th>2995</th>\n",
              "      <td>SOCORRO</td>\n",
              "      <td>0.01506365</td>\n",
              "    </tr>\n",
              "    <tr>\n",
              "      <th>2996</th>\n",
              "      <td>CERRITO</td>\n",
              "      <td>7.4</td>\n",
              "    </tr>\n",
              "    <tr>\n",
              "      <th>2997</th>\n",
              "      <td>PUERTO SALGAR</td>\n",
              "      <td>0.2</td>\n",
              "    </tr>\n",
              "    <tr>\n",
              "      <th>2998</th>\n",
              "      <td>HERRÁN</td>\n",
              "      <td>1.2</td>\n",
              "    </tr>\n",
              "    <tr>\n",
              "      <th>2999</th>\n",
              "      <td>CONCORDIA</td>\n",
              "      <td>0.3503786</td>\n",
              "    </tr>\n",
              "  </tbody>\n",
              "</table>\n",
              "<p>3000 rows × 2 columns</p>\n",
              "</div>"
            ],
            "text/plain": [
              "          municipio velocidad_viento\n",
              "0          PIENDAMÓ         2.100336\n",
              "1             PAIPA              1.2\n",
              "2        VALLEDUPAR              6.1\n",
              "3             ANDES        0.2517844\n",
              "4     QUEBRADANEGRA              1.4\n",
              "...             ...              ...\n",
              "2995        SOCORRO       0.01506365\n",
              "2996        CERRITO              7.4\n",
              "2997  PUERTO SALGAR              0.2\n",
              "2998         HERRÁN              1.2\n",
              "2999      CONCORDIA        0.3503786\n",
              "\n",
              "[3000 rows x 2 columns]"
            ]
          },
          "execution_count": 23,
          "metadata": {},
          "output_type": "execute_result"
        }
      ],
      "source": [
        "#Agrupamiento de variables de interés\n",
        "df2 = pd.DataFrame(\n",
        "    {'municipio': datos2['municipio'],\n",
        "     'velocidad_viento': datos2['valorobservado']\n",
        "    }\n",
        ")\n",
        "df2"
      ]
    },
    {
      "cell_type": "markdown",
      "metadata": {
        "id": "RTP9rHLSiAge"
      },
      "source": [
        "**Exploración de los datos**"
      ]
    },
    {
      "cell_type": "code",
      "execution_count": 24,
      "metadata": {
        "colab": {
          "base_uri": "https://localhost:8080/"
        },
        "id": "8YyvGgPfrzzu",
        "outputId": "8e05e652-ffb9-4a4d-a589-999e6d40a4ab"
      },
      "outputs": [
        {
          "name": "stdout",
          "output_type": "stream",
          "text": [
            "<class 'pandas.core.frame.DataFrame'>\n",
            "RangeIndex: 3000 entries, 0 to 2999\n",
            "Data columns (total 2 columns):\n",
            " #   Column            Non-Null Count  Dtype \n",
            "---  ------            --------------  ----- \n",
            " 0   municipio         3000 non-null   object\n",
            " 1   velocidad_viento  3000 non-null   object\n",
            "dtypes: object(2)\n",
            "memory usage: 47.0+ KB\n"
          ]
        }
      ],
      "source": [
        "df2.info() #Características de los datos"
      ]
    },
    {
      "cell_type": "markdown",
      "metadata": {
        "id": "zupyg3IJg5Mt"
      },
      "source": [
        "Notemos que la variable, la velocidad del viento, está descrita como un objeto por lo que es necesario transformarla en numérico"
      ]
    },
    {
      "cell_type": "code",
      "execution_count": 25,
      "metadata": {
        "id": "LZwbkymtrzzu"
      },
      "outputs": [],
      "source": [
        "#pasar la columna velocidad_viento a numérico\n",
        "df2['velocidad_viento'] = pd.to_numeric(df2['velocidad_viento'], errors='coerce')"
      ]
    },
    {
      "cell_type": "code",
      "execution_count": 26,
      "metadata": {
        "colab": {
          "base_uri": "https://localhost:8080/",
          "height": 147
        },
        "id": "FWmFeUkRrzzu",
        "outputId": "f74142b1-0b38-4b60-a919-0e28266edb93"
      },
      "outputs": [
        {
          "data": {
            "text/plain": [
              "municipio           0\n",
              "velocidad_viento    0\n",
              "dtype: int64"
            ]
          },
          "execution_count": 26,
          "metadata": {},
          "output_type": "execute_result"
        }
      ],
      "source": [
        "df2.isnull().sum() #Conteo de valores nulos"
      ]
    },
    {
      "cell_type": "code",
      "execution_count": 27,
      "metadata": {
        "colab": {
          "base_uri": "https://localhost:8080/",
          "height": 502
        },
        "id": "kmGWkbBBZnQU",
        "outputId": "8985bfc5-52fc-4c46-c6d1-a6469a6c52a0"
      },
      "outputs": [
        {
          "name": "stdout",
          "output_type": "stream",
          "text": [
            "Media: 1.943924209389453\n",
            "Mediana: 1.4\n"
          ]
        },
        {
          "data": {
            "image/png": "[encoded data removed]",
            "text/plain": [
              "<Figure size 1000x500 with 1 Axes>"
            ]
          },
          "metadata": {},
          "output_type": "display_data"
        }
      ],
      "source": [
        "# Con el objetivo agrupar los datasets por municipio se evalua con graficas de boxplot y hisplot cuales datos estadisticos funcionarian mejor para ser un dato unico por cada uno de los municipios(que sera unico) en la columna 'municipio'.\n",
        "plt.figure(figsize=(10, 5))\n",
        "sns.histplot(df2['velocidad_viento'])\n",
        "print('Media:',df2['velocidad_viento'].mean())\n",
        "print('Mediana:', df2['velocidad_viento'].median())"
      ]
    },
    {
      "cell_type": "code",
      "execution_count": 28,
      "metadata": {
        "colab": {
          "base_uri": "https://localhost:8080/",
          "height": 446
        },
        "id": "859A6shjiLll",
        "outputId": "4e43bd6d-cf76-42ee-fd68-a064684f4480"
      },
      "outputs": [
        {
          "name": "stdout",
          "output_type": "stream",
          "text": [
            "Media: 1.943924209389453\n",
            "Mediana: 1.4\n"
          ]
        },
        {
          "data": {
            "image/png": "[encoded data removed]",
            "text/plain": [
              "<Figure size 640x480 with 1 Axes>"
            ]
          },
          "metadata": {},
          "output_type": "display_data"
        }
      ],
      "source": [
        "sns.boxplot(df2['velocidad_viento'])\n",
        "print('Media:',df2['velocidad_viento'].mean())\n",
        "print('Mediana:', df2['velocidad_viento'].median())"
      ]
    },
    {
      "cell_type": "markdown",
      "metadata": {
        "id": "b3spreauiYG8"
      },
      "source": [
        "Notemos que la velocidad del viento tiene muchos outliers que afectan el valor de la media, por lo que cualquier tratamiento se recomienda hacer con la **MEDIANA**"
      ]
    },
    {
      "cell_type": "markdown",
      "metadata": {
        "id": "1IgLbjrviDt7"
      },
      "source": [
        "**Tratamiento de datos**\n",
        "\n",
        "Valores repetidos"
      ]
    },
    {
      "cell_type": "code",
      "execution_count": 29,
      "metadata": {
        "colab": {
          "base_uri": "https://localhost:8080/",
          "height": 424
        },
        "id": "CJW5s00DZnWm",
        "outputId": "6bf13042-aa39-40c9-f4a5-de63e7050bb8"
      },
      "outputs": [
        {
          "data": {
            "text/html": [
              "<div>\n",
              "<style scoped>\n",
              "    .dataframe tbody tr th:only-of-type {\n",
              "        vertical-align: middle;\n",
              "    }\n",
              "\n",
              "    .dataframe tbody tr th {\n",
              "        vertical-align: top;\n",
              "    }\n",
              "\n",
              "    .dataframe thead th {\n",
              "        text-align: right;\n",
              "    }\n",
              "</style>\n",
              "<table border=\"1\" class=\"dataframe\">\n",
              "  <thead>\n",
              "    <tr style=\"text-align: right;\">\n",
              "      <th></th>\n",
              "      <th>municipio</th>\n",
              "      <th>velocidad_viento</th>\n",
              "    </tr>\n",
              "  </thead>\n",
              "  <tbody>\n",
              "    <tr>\n",
              "      <th>0</th>\n",
              "      <td>ABRIAQUÍ</td>\n",
              "      <td>0.800000</td>\n",
              "    </tr>\n",
              "    <tr>\n",
              "      <th>1</th>\n",
              "      <td>ACANDÍ</td>\n",
              "      <td>1.050000</td>\n",
              "    </tr>\n",
              "    <tr>\n",
              "      <th>2</th>\n",
              "      <td>ACEVEDO</td>\n",
              "      <td>2.338382</td>\n",
              "    </tr>\n",
              "    <tr>\n",
              "      <th>3</th>\n",
              "      <td>AGUACHICA</td>\n",
              "      <td>1.400000</td>\n",
              "    </tr>\n",
              "    <tr>\n",
              "      <th>4</th>\n",
              "      <td>AGUSTÍN CODAZZI</td>\n",
              "      <td>1.400000</td>\n",
              "    </tr>\n",
              "    <tr>\n",
              "      <th>...</th>\n",
              "      <td>...</td>\n",
              "      <td>...</td>\n",
              "    </tr>\n",
              "    <tr>\n",
              "      <th>287</th>\n",
              "      <td>YOLOMBÓ</td>\n",
              "      <td>1.500000</td>\n",
              "    </tr>\n",
              "    <tr>\n",
              "      <th>288</th>\n",
              "      <td>YOPAL</td>\n",
              "      <td>0.900000</td>\n",
              "    </tr>\n",
              "    <tr>\n",
              "      <th>289</th>\n",
              "      <td>ZETAQUIRÁ</td>\n",
              "      <td>0.500000</td>\n",
              "    </tr>\n",
              "    <tr>\n",
              "      <th>290</th>\n",
              "      <td>ZIPAQUIRÁ</td>\n",
              "      <td>2.000000</td>\n",
              "    </tr>\n",
              "    <tr>\n",
              "      <th>291</th>\n",
              "      <td>ZONA BANANERA</td>\n",
              "      <td>1.200000</td>\n",
              "    </tr>\n",
              "  </tbody>\n",
              "</table>\n",
              "<p>292 rows × 2 columns</p>\n",
              "</div>"
            ],
            "text/plain": [
              "           municipio  velocidad_viento\n",
              "0           ABRIAQUÍ          0.800000\n",
              "1             ACANDÍ          1.050000\n",
              "2            ACEVEDO          2.338382\n",
              "3          AGUACHICA          1.400000\n",
              "4    AGUSTÍN CODAZZI          1.400000\n",
              "..               ...               ...\n",
              "287          YOLOMBÓ          1.500000\n",
              "288            YOPAL          0.900000\n",
              "289        ZETAQUIRÁ          0.500000\n",
              "290        ZIPAQUIRÁ          2.000000\n",
              "291    ZONA BANANERA          1.200000\n",
              "\n",
              "[292 rows x 2 columns]"
            ]
          },
          "execution_count": 29,
          "metadata": {},
          "output_type": "execute_result"
        }
      ],
      "source": [
        "# Por cada municipio único va a sacar la mediana de los datos correspondientes a este lugar\n",
        "viento = df2.groupby('municipio').agg({'velocidad_viento': 'median'}).reset_index()\n",
        "viento"
      ]
    },
    {
      "cell_type": "code",
      "execution_count": 30,
      "metadata": {
        "colab": {
          "base_uri": "https://localhost:8080/",
          "height": 500
        },
        "id": "3NPdIRXkZ08a",
        "outputId": "d00e124c-9751-4f41-aa65-801e073e1db1"
      },
      "outputs": [
        {
          "name": "stdout",
          "output_type": "stream",
          "text": [
            "Media: 1.7090820023893836\n",
            "Mediana: 1.3\n"
          ]
        },
        {
          "data": {
            "image/png": "[encoded data removed]",
            "text/plain": [
              "<Figure size 1000x500 with 1 Axes>"
            ]
          },
          "metadata": {},
          "output_type": "display_data"
        }
      ],
      "source": [
        "plt.figure(figsize=(10, 5))\n",
        "sns.histplot(viento['velocidad_viento'])\n",
        "print('Media:',viento['velocidad_viento'].mean())\n",
        "print('Mediana:', viento['velocidad_viento'].median())"
      ]
    },
    {
      "cell_type": "code",
      "execution_count": 31,
      "metadata": {
        "colab": {
          "base_uri": "https://localhost:8080/",
          "height": 428
        },
        "id": "I5_XgUa1Ymvb",
        "outputId": "435727b9-753f-4d4b-c1ee-4848f346a2ef"
      },
      "outputs": [
        {
          "data": {
            "text/plain": [
              "<Axes: ylabel='velocidad_viento'>"
            ]
          },
          "execution_count": 31,
          "metadata": {},
          "output_type": "execute_result"
        },
        {
          "data": {
            "image/png": "[encoded data removed]",
            "text/plain": [
              "<Figure size 640x480 with 1 Axes>"
            ]
          },
          "metadata": {},
          "output_type": "display_data"
        }
      ],
      "source": [
        "sns.boxplot(viento['velocidad_viento'])"
      ]
    },
    {
      "cell_type": "code",
      "execution_count": 32,
      "metadata": {
        "colab": {
          "base_uri": "https://localhost:8080/"
        },
        "id": "UNag-E7wi8JO",
        "outputId": "86caf42f-21b2-4d9e-e576-b430f1b4a907"
      },
      "outputs": [
        {
          "data": {
            "text/plain": [
              "np.int64(292)"
            ]
          },
          "execution_count": 32,
          "metadata": {},
          "output_type": "execute_result"
        }
      ],
      "source": [
        "#Evaluación del método\n",
        "viento['municipio'].value_counts().sum()"
      ]
    },
    {
      "cell_type": "markdown",
      "metadata": {
        "id": "I_CpSOysrzzv"
      },
      "source": [
        "**Dataframe No. 4:**\n",
        "---\n",
        "Dias con lluvia en los municipios de colombia:\n",
        "\n",
        "INFORMACIÓN GENERAL ESTACIONES,,,,,,,,,NORMAL CLIMATOLÓGICA ESTÁNDAR DE No DE DÍAS CON LLUVIA ≥ 1 mm PARA EL PERIODO 1991-2020,,,,,,,,,,,,,  Cumplen la directriz No 1203 del 2017 de la OMM, [vínculo](http://archivo.ideam.gov.co/web/tiempo-y-clima/clima)"
      ]
    },
    {
      "cell_type": "markdown",
      "metadata": {
        "id": "dk7BfTh2jw2X"
      },
      "source": [
        "**Descarga y agrupamiento de los datos**"
      ]
    },
    {
      "cell_type": "code",
      "execution_count": 33,
      "metadata": {
        "colab": {
          "base_uri": "https://localhost:8080/",
          "height": 563
        },
        "id": "4jZT47qYrzzw",
        "outputId": "d755f0d9-510a-41e8-de2c-07ee681cdd0c"
      },
      "outputs": [
        {
          "data": {
            "text/html": [
              "<div>\n",
              "<style scoped>\n",
              "    .dataframe tbody tr th:only-of-type {\n",
              "        vertical-align: middle;\n",
              "    }\n",
              "\n",
              "    .dataframe tbody tr th {\n",
              "        vertical-align: top;\n",
              "    }\n",
              "\n",
              "    .dataframe thead th {\n",
              "        text-align: right;\n",
              "    }\n",
              "</style>\n",
              "<table border=\"1\" class=\"dataframe\">\n",
              "  <thead>\n",
              "    <tr style=\"text-align: right;\">\n",
              "      <th></th>\n",
              "      <th>CODIGO</th>\n",
              "      <th>CATEGORIA</th>\n",
              "      <th>ESTACIÓN</th>\n",
              "      <th>MUNICIPIO</th>\n",
              "      <th>DEPARTAMENTO</th>\n",
              "      <th>AO</th>\n",
              "      <th>ALTITUD (m)</th>\n",
              "      <th>LONGITUD</th>\n",
              "      <th>LATITUD</th>\n",
              "      <th>ENE</th>\n",
              "      <th>...</th>\n",
              "      <th>JUN</th>\n",
              "      <th>JUL</th>\n",
              "      <th>AGO</th>\n",
              "      <th>SEP</th>\n",
              "      <th>OCT</th>\n",
              "      <th>NOV</th>\n",
              "      <th>DIC</th>\n",
              "      <th>ANUAL</th>\n",
              "      <th>Número de meses</th>\n",
              "      <th>% de cumplimiento</th>\n",
              "    </tr>\n",
              "  </thead>\n",
              "  <tbody>\n",
              "    <tr>\n",
              "      <th>0</th>\n",
              "      <td>47067010</td>\n",
              "      <td>LM</td>\n",
              "      <td>El Encanto</td>\n",
              "      <td>El Encanto</td>\n",
              "      <td>Amazonas</td>\n",
              "      <td>7</td>\n",
              "      <td>120</td>\n",
              "      <td>-73,20</td>\n",
              "      <td>-1,77</td>\n",
              "      <td>14,3</td>\n",
              "      <td>...</td>\n",
              "      <td>18,8</td>\n",
              "      <td>17,7</td>\n",
              "      <td>13,4</td>\n",
              "      <td>13,3</td>\n",
              "      <td>13,9</td>\n",
              "      <td>14,8</td>\n",
              "      <td>16,4</td>\n",
              "      <td>191,7</td>\n",
              "      <td>332</td>\n",
              "      <td>92,2%</td>\n",
              "    </tr>\n",
              "    <tr>\n",
              "      <th>1</th>\n",
              "      <td>47060010</td>\n",
              "      <td>PM</td>\n",
              "      <td>El Encato</td>\n",
              "      <td>El Encanto</td>\n",
              "      <td>Amazonas</td>\n",
              "      <td>7</td>\n",
              "      <td>120</td>\n",
              "      <td>-73,21</td>\n",
              "      <td>-1,75</td>\n",
              "      <td>14,3</td>\n",
              "      <td>...</td>\n",
              "      <td>18,6</td>\n",
              "      <td>17,8</td>\n",
              "      <td>13,1</td>\n",
              "      <td>13,3</td>\n",
              "      <td>13,8</td>\n",
              "      <td>14,9</td>\n",
              "      <td>16,3</td>\n",
              "      <td>191,1</td>\n",
              "      <td>343</td>\n",
              "      <td>95,3%</td>\n",
              "    </tr>\n",
              "    <tr>\n",
              "      <th>2</th>\n",
              "      <td>44187030</td>\n",
              "      <td>LM</td>\n",
              "      <td>Bacuri</td>\n",
              "      <td>La Pedrera</td>\n",
              "      <td>Amazonas</td>\n",
              "      <td>4</td>\n",
              "      <td>101</td>\n",
              "      <td>-69,47</td>\n",
              "      <td>-1,23</td>\n",
              "      <td>19,0</td>\n",
              "      <td>...</td>\n",
              "      <td>20,3</td>\n",
              "      <td>19,6</td>\n",
              "      <td>16,5</td>\n",
              "      <td>14,5</td>\n",
              "      <td>15,1</td>\n",
              "      <td>15,0</td>\n",
              "      <td>18,8</td>\n",
              "      <td>216,0</td>\n",
              "      <td>343</td>\n",
              "      <td>95,3%</td>\n",
              "    </tr>\n",
              "    <tr>\n",
              "      <th>3</th>\n",
              "      <td>44187020</td>\n",
              "      <td>PM</td>\n",
              "      <td>La Pedrera</td>\n",
              "      <td>La Pedrera</td>\n",
              "      <td>Amazonas</td>\n",
              "      <td>4</td>\n",
              "      <td>102</td>\n",
              "      <td>-69,59</td>\n",
              "      <td>-1,31</td>\n",
              "      <td>13,8</td>\n",
              "      <td>...</td>\n",
              "      <td>14,7</td>\n",
              "      <td>13,5</td>\n",
              "      <td>12,4</td>\n",
              "      <td>11,2</td>\n",
              "      <td>12,0</td>\n",
              "      <td>12,1</td>\n",
              "      <td>13,3</td>\n",
              "      <td>161,8</td>\n",
              "      <td>334</td>\n",
              "      <td>92,8%</td>\n",
              "    </tr>\n",
              "    <tr>\n",
              "      <th>4</th>\n",
              "      <td>44157040</td>\n",
              "      <td>LM</td>\n",
              "      <td>Manacaro</td>\n",
              "      <td>La Pedrera</td>\n",
              "      <td>Amazonas</td>\n",
              "      <td>4</td>\n",
              "      <td>109</td>\n",
              "      <td>-70,18</td>\n",
              "      <td>-1,53</td>\n",
              "      <td>18,3</td>\n",
              "      <td>...</td>\n",
              "      <td>19,1</td>\n",
              "      <td>18,0</td>\n",
              "      <td>14,6</td>\n",
              "      <td>13,2</td>\n",
              "      <td>14,9</td>\n",
              "      <td>14,8</td>\n",
              "      <td>17,1</td>\n",
              "      <td>204,0</td>\n",
              "      <td>351</td>\n",
              "      <td>97,5%</td>\n",
              "    </tr>\n",
              "    <tr>\n",
              "      <th>...</th>\n",
              "      <td>...</td>\n",
              "      <td>...</td>\n",
              "      <td>...</td>\n",
              "      <td>...</td>\n",
              "      <td>...</td>\n",
              "      <td>...</td>\n",
              "      <td>...</td>\n",
              "      <td>...</td>\n",
              "      <td>...</td>\n",
              "      <td>...</td>\n",
              "      <td>...</td>\n",
              "      <td>...</td>\n",
              "      <td>...</td>\n",
              "      <td>...</td>\n",
              "      <td>...</td>\n",
              "      <td>...</td>\n",
              "      <td>...</td>\n",
              "      <td>...</td>\n",
              "      <td>...</td>\n",
              "      <td>...</td>\n",
              "      <td>...</td>\n",
              "    </tr>\n",
              "    <tr>\n",
              "      <th>1440</th>\n",
              "      <td>38015030</td>\n",
              "      <td>SP</td>\n",
              "      <td>Aeropuerto Puerto Carreño</td>\n",
              "      <td>Puerto Carreño</td>\n",
              "      <td>Vichada</td>\n",
              "      <td>3</td>\n",
              "      <td>57</td>\n",
              "      <td>-67,49</td>\n",
              "      <td>6,18</td>\n",
              "      <td>1,0</td>\n",
              "      <td>...</td>\n",
              "      <td>21,2</td>\n",
              "      <td>21,9</td>\n",
              "      <td>19,7</td>\n",
              "      <td>14,3</td>\n",
              "      <td>12,3</td>\n",
              "      <td>7,9</td>\n",
              "      <td>2,9</td>\n",
              "      <td>133,2</td>\n",
              "      <td>359</td>\n",
              "      <td>99,7%</td>\n",
              "    </tr>\n",
              "    <tr>\n",
              "      <th>1441</th>\n",
              "      <td>38017040</td>\n",
              "      <td>LM</td>\n",
              "      <td>Casuarito</td>\n",
              "      <td>Puerto Carreño</td>\n",
              "      <td>Vichada</td>\n",
              "      <td>3</td>\n",
              "      <td>65</td>\n",
              "      <td>-67,64</td>\n",
              "      <td>5,68</td>\n",
              "      <td>2,1</td>\n",
              "      <td>...</td>\n",
              "      <td>19,3</td>\n",
              "      <td>19,6</td>\n",
              "      <td>16,1</td>\n",
              "      <td>12,7</td>\n",
              "      <td>10,3</td>\n",
              "      <td>7,7</td>\n",
              "      <td>4,3</td>\n",
              "      <td>130,7</td>\n",
              "      <td>343</td>\n",
              "      <td>95,3%</td>\n",
              "    </tr>\n",
              "    <tr>\n",
              "      <th>1442</th>\n",
              "      <td>35260010</td>\n",
              "      <td>PM</td>\n",
              "      <td>Bonanza</td>\n",
              "      <td>Santa Rosalía</td>\n",
              "      <td>Vichada</td>\n",
              "      <td>3</td>\n",
              "      <td>112</td>\n",
              "      <td>-70,85</td>\n",
              "      <td>5,14</td>\n",
              "      <td>1,1</td>\n",
              "      <td>...</td>\n",
              "      <td>14,4</td>\n",
              "      <td>15,1</td>\n",
              "      <td>13,2</td>\n",
              "      <td>10,0</td>\n",
              "      <td>8,9</td>\n",
              "      <td>5,9</td>\n",
              "      <td>2,7</td>\n",
              "      <td>98,7</td>\n",
              "      <td>324</td>\n",
              "      <td>90,0%</td>\n",
              "    </tr>\n",
              "    <tr>\n",
              "      <th>1443</th>\n",
              "      <td>35260030</td>\n",
              "      <td>PM</td>\n",
              "      <td>Hato Burrunay</td>\n",
              "      <td>Santa Rosalía</td>\n",
              "      <td>Vichada</td>\n",
              "      <td>3</td>\n",
              "      <td>106</td>\n",
              "      <td>-70,68</td>\n",
              "      <td>5,35</td>\n",
              "      <td>1,3</td>\n",
              "      <td>...</td>\n",
              "      <td>15,3</td>\n",
              "      <td>17,1</td>\n",
              "      <td>14,0</td>\n",
              "      <td>12,1</td>\n",
              "      <td>10,8</td>\n",
              "      <td>7,7</td>\n",
              "      <td>3,6</td>\n",
              "      <td>113,4</td>\n",
              "      <td>349</td>\n",
              "      <td>96,9%</td>\n",
              "    </tr>\n",
              "    <tr>\n",
              "      <th>1444</th>\n",
              "      <td>35267030</td>\n",
              "      <td>LM</td>\n",
              "      <td>Santa Maria</td>\n",
              "      <td>Santa Rosalía</td>\n",
              "      <td>Vichada</td>\n",
              "      <td>3</td>\n",
              "      <td>108</td>\n",
              "      <td>-70,71</td>\n",
              "      <td>5,27</td>\n",
              "      <td>1,2</td>\n",
              "      <td>...</td>\n",
              "      <td>15,6</td>\n",
              "      <td>16,0</td>\n",
              "      <td>13,2</td>\n",
              "      <td>12,4</td>\n",
              "      <td>10,3</td>\n",
              "      <td>6,8</td>\n",
              "      <td>2,8</td>\n",
              "      <td>106,8</td>\n",
              "      <td>328</td>\n",
              "      <td>91,1%</td>\n",
              "    </tr>\n",
              "  </tbody>\n",
              "</table>\n",
              "<p>1445 rows × 24 columns</p>\n",
              "</div>"
            ],
            "text/plain": [
              "        CODIGO CATEGORIA                   ESTACIÓN       MUNICIPIO  \\\n",
              "0     47067010        LM                 El Encanto      El Encanto   \n",
              "1     47060010        PM                  El Encato      El Encanto   \n",
              "2     44187030        LM                     Bacuri      La Pedrera   \n",
              "3     44187020        PM                 La Pedrera      La Pedrera   \n",
              "4     44157040        LM                   Manacaro      La Pedrera   \n",
              "...        ...       ...                        ...             ...   \n",
              "1440  38015030        SP  Aeropuerto Puerto Carreño  Puerto Carreño   \n",
              "1441  38017040        LM                  Casuarito  Puerto Carreño   \n",
              "1442  35260010        PM                    Bonanza   Santa Rosalía   \n",
              "1443  35260030        PM              Hato Burrunay   Santa Rosalía   \n",
              "1444  35267030        LM               Santa Maria    Santa Rosalía   \n",
              "\n",
              "     DEPARTAMENTO  AO  ALTITUD (m) LONGITUD LATITUD   ENE  ...   JUN   JUL  \\\n",
              "0        Amazonas   7          120   -73,20   -1,77  14,3  ...  18,8  17,7   \n",
              "1        Amazonas   7          120   -73,21   -1,75  14,3  ...  18,6  17,8   \n",
              "2        Amazonas   4          101   -69,47   -1,23  19,0  ...  20,3  19,6   \n",
              "3        Amazonas   4          102   -69,59   -1,31  13,8  ...  14,7  13,5   \n",
              "4        Amazonas   4          109   -70,18   -1,53  18,3  ...  19,1  18,0   \n",
              "...           ...  ..          ...      ...     ...   ...  ...   ...   ...   \n",
              "1440      Vichada   3           57   -67,49    6,18   1,0  ...  21,2  21,9   \n",
              "1441      Vichada   3           65   -67,64    5,68   2,1  ...  19,3  19,6   \n",
              "1442      Vichada   3          112   -70,85    5,14   1,1  ...  14,4  15,1   \n",
              "1443      Vichada   3          106   -70,68    5,35   1,3  ...  15,3  17,1   \n",
              "1444      Vichada   3          108   -70,71    5,27   1,2  ...  15,6  16,0   \n",
              "\n",
              "       AGO   SEP   OCT   NOV   DIC  ANUAL  Número de meses % de cumplimiento  \n",
              "0     13,4  13,3  13,9  14,8  16,4  191,7              332             92,2%  \n",
              "1     13,1  13,3  13,8  14,9  16,3  191,1              343             95,3%  \n",
              "2     16,5  14,5  15,1  15,0  18,8  216,0              343             95,3%  \n",
              "3     12,4  11,2  12,0  12,1  13,3  161,8              334             92,8%  \n",
              "4     14,6  13,2  14,9  14,8  17,1  204,0              351             97,5%  \n",
              "...    ...   ...   ...   ...   ...    ...              ...               ...  \n",
              "1440  19,7  14,3  12,3   7,9   2,9  133,2              359             99,7%  \n",
              "1441  16,1  12,7  10,3   7,7   4,3  130,7              343             95,3%  \n",
              "1442  13,2  10,0   8,9   5,9   2,7   98,7              324             90,0%  \n",
              "1443  14,0  12,1  10,8   7,7   3,6  113,4              349             96,9%  \n",
              "1444  13,2  12,4  10,3   6,8   2,8  106,8              328             91,1%  \n",
              "\n",
              "[1445 rows x 24 columns]"
            ]
          },
          "execution_count": 33,
          "metadata": {},
          "output_type": "execute_result"
        }
      ],
      "source": [
        "#Descarga de los datos\n",
        "datos3 = pd.read_csv('https://raw.githubusercontent.com/gluoneros/talentoTech/refs/heads/main/noDiasLLuvia.csv')\n",
        "datos3"
      ]
    },
    {
      "cell_type": "code",
      "execution_count": 34,
      "metadata": {
        "colab": {
          "base_uri": "https://localhost:8080/",
          "height": 424
        },
        "id": "gH9TPnECrzzw",
        "outputId": "9cced2c7-1b62-479c-df1c-8ab39c4acd0c"
      },
      "outputs": [
        {
          "data": {
            "text/html": [
              "<div>\n",
              "<style scoped>\n",
              "    .dataframe tbody tr th:only-of-type {\n",
              "        vertical-align: middle;\n",
              "    }\n",
              "\n",
              "    .dataframe tbody tr th {\n",
              "        vertical-align: top;\n",
              "    }\n",
              "\n",
              "    .dataframe thead th {\n",
              "        text-align: right;\n",
              "    }\n",
              "</style>\n",
              "<table border=\"1\" class=\"dataframe\">\n",
              "  <thead>\n",
              "    <tr style=\"text-align: right;\">\n",
              "      <th></th>\n",
              "      <th>municipio</th>\n",
              "      <th>dias_lluvia</th>\n",
              "    </tr>\n",
              "  </thead>\n",
              "  <tbody>\n",
              "    <tr>\n",
              "      <th>0</th>\n",
              "      <td>El Encanto</td>\n",
              "      <td>191,7</td>\n",
              "    </tr>\n",
              "    <tr>\n",
              "      <th>1</th>\n",
              "      <td>El Encanto</td>\n",
              "      <td>191,1</td>\n",
              "    </tr>\n",
              "    <tr>\n",
              "      <th>2</th>\n",
              "      <td>La Pedrera</td>\n",
              "      <td>216,0</td>\n",
              "    </tr>\n",
              "    <tr>\n",
              "      <th>3</th>\n",
              "      <td>La Pedrera</td>\n",
              "      <td>161,8</td>\n",
              "    </tr>\n",
              "    <tr>\n",
              "      <th>4</th>\n",
              "      <td>La Pedrera</td>\n",
              "      <td>204,0</td>\n",
              "    </tr>\n",
              "    <tr>\n",
              "      <th>...</th>\n",
              "      <td>...</td>\n",
              "      <td>...</td>\n",
              "    </tr>\n",
              "    <tr>\n",
              "      <th>1440</th>\n",
              "      <td>Puerto Carreño</td>\n",
              "      <td>133,2</td>\n",
              "    </tr>\n",
              "    <tr>\n",
              "      <th>1441</th>\n",
              "      <td>Puerto Carreño</td>\n",
              "      <td>130,7</td>\n",
              "    </tr>\n",
              "    <tr>\n",
              "      <th>1442</th>\n",
              "      <td>Santa Rosalía</td>\n",
              "      <td>98,7</td>\n",
              "    </tr>\n",
              "    <tr>\n",
              "      <th>1443</th>\n",
              "      <td>Santa Rosalía</td>\n",
              "      <td>113,4</td>\n",
              "    </tr>\n",
              "    <tr>\n",
              "      <th>1444</th>\n",
              "      <td>Santa Rosalía</td>\n",
              "      <td>106,8</td>\n",
              "    </tr>\n",
              "  </tbody>\n",
              "</table>\n",
              "<p>1445 rows × 2 columns</p>\n",
              "</div>"
            ],
            "text/plain": [
              "           municipio dias_lluvia\n",
              "0         El Encanto       191,7\n",
              "1         El Encanto       191,1\n",
              "2         La Pedrera       216,0\n",
              "3         La Pedrera       161,8\n",
              "4         La Pedrera       204,0\n",
              "...              ...         ...\n",
              "1440  Puerto Carreño       133,2\n",
              "1441  Puerto Carreño       130,7\n",
              "1442   Santa Rosalía        98,7\n",
              "1443   Santa Rosalía       113,4\n",
              "1444   Santa Rosalía       106,8\n",
              "\n",
              "[1445 rows x 2 columns]"
            ]
          },
          "execution_count": 34,
          "metadata": {},
          "output_type": "execute_result"
        }
      ],
      "source": [
        "# Se seleccionan y grupan de los datos de  interés en un nuevo dataframe.\n",
        "dato_lluvia = pd.DataFrame(\n",
        "    {'municipio': datos3['MUNICIPIO'],\n",
        "     'dias_lluvia': datos3['ANUAL']\n",
        "    }\n",
        ")\n",
        "dato_lluvia"
      ]
    },
    {
      "cell_type": "markdown",
      "metadata": {
        "id": "MppnCwBkk61_"
      },
      "source": [
        "Notemos que la columna de días de lluvia tiene comas y espacios, lo que entorpece el análisis"
      ]
    },
    {
      "cell_type": "markdown",
      "metadata": {
        "id": "GMra_o0-kQIs"
      },
      "source": [
        "**Exploración de los datos**"
      ]
    },
    {
      "cell_type": "code",
      "execution_count": 35,
      "metadata": {
        "colab": {
          "base_uri": "https://localhost:8080/"
        },
        "id": "Yh3FYmZErzzw",
        "outputId": "edc53eae-f318-4049-cf3d-64e894a916fd"
      },
      "outputs": [
        {
          "name": "stdout",
          "output_type": "stream",
          "text": [
            "<class 'pandas.core.frame.DataFrame'>\n",
            "RangeIndex: 1445 entries, 0 to 1444\n",
            "Data columns (total 2 columns):\n",
            " #   Column       Non-Null Count  Dtype \n",
            "---  ------       --------------  ----- \n",
            " 0   municipio    1445 non-null   object\n",
            " 1   dias_lluvia  1445 non-null   object\n",
            "dtypes: object(2)\n",
            "memory usage: 22.7+ KB\n"
          ]
        }
      ],
      "source": [
        "dato_lluvia.info() #Evaluación de las características del dataset"
      ]
    },
    {
      "cell_type": "markdown",
      "metadata": {
        "id": "o7YP6HWWkvyy"
      },
      "source": [
        "**Tratamiento de datos**\n",
        "\n",
        "Manejo de errores en los datos"
      ]
    },
    {
      "cell_type": "code",
      "execution_count": 36,
      "metadata": {
        "id": "Ijh4sir8rzzx"
      },
      "outputs": [],
      "source": [
        "# Primero\n",
        " #Eliminación de los espacios en blanco\n",
        "dato_lluvia['dias_lluvia'] = dato_lluvia['dias_lluvia'].str.strip()\n",
        "dato_lluvia['municipio'] =  dato_lluvia['municipio'].str.strip()"
      ]
    },
    {
      "cell_type": "code",
      "execution_count": 37,
      "metadata": {
        "id": "6T25qvEHrzzx"
      },
      "outputs": [],
      "source": [
        "# Segundo\n",
        " #Cambia comas por puntos en el campo 'dias_lluvia'\n",
        "dato_lluvia['dias_lluvia'] =  dato_lluvia['dias_lluvia'].str.replace(',', '.', regex=False)"
      ]
    },
    {
      "cell_type": "code",
      "execution_count": 38,
      "metadata": {
        "id": "kOTq_y-wrzzx"
      },
      "outputs": [],
      "source": [
        "# Tercero\n",
        "#Luego de la creacion del dataframe es necesario convertir los datos a numérico\n",
        "dato_lluvia['dias_lluvia'] = pd.to_numeric(dato_lluvia['dias_lluvia'], errors='coerce')"
      ]
    },
    {
      "cell_type": "code",
      "execution_count": 39,
      "metadata": {
        "colab": {
          "base_uri": "https://localhost:8080/",
          "height": 424
        },
        "id": "DPXNmQYOrzzx",
        "outputId": "a29351ac-f752-4bf3-b0bf-46e36de6eb9b"
      },
      "outputs": [
        {
          "data": {
            "text/html": [
              "<div>\n",
              "<style scoped>\n",
              "    .dataframe tbody tr th:only-of-type {\n",
              "        vertical-align: middle;\n",
              "    }\n",
              "\n",
              "    .dataframe tbody tr th {\n",
              "        vertical-align: top;\n",
              "    }\n",
              "\n",
              "    .dataframe thead th {\n",
              "        text-align: right;\n",
              "    }\n",
              "</style>\n",
              "<table border=\"1\" class=\"dataframe\">\n",
              "  <thead>\n",
              "    <tr style=\"text-align: right;\">\n",
              "      <th></th>\n",
              "      <th>municipio</th>\n",
              "      <th>dias_lluvia</th>\n",
              "    </tr>\n",
              "  </thead>\n",
              "  <tbody>\n",
              "    <tr>\n",
              "      <th>0</th>\n",
              "      <td>EL ENCANTO</td>\n",
              "      <td>191.7</td>\n",
              "    </tr>\n",
              "    <tr>\n",
              "      <th>1</th>\n",
              "      <td>EL ENCANTO</td>\n",
              "      <td>191.1</td>\n",
              "    </tr>\n",
              "    <tr>\n",
              "      <th>2</th>\n",
              "      <td>LA PEDRERA</td>\n",
              "      <td>216.0</td>\n",
              "    </tr>\n",
              "    <tr>\n",
              "      <th>3</th>\n",
              "      <td>LA PEDRERA</td>\n",
              "      <td>161.8</td>\n",
              "    </tr>\n",
              "    <tr>\n",
              "      <th>4</th>\n",
              "      <td>LA PEDRERA</td>\n",
              "      <td>204.0</td>\n",
              "    </tr>\n",
              "    <tr>\n",
              "      <th>...</th>\n",
              "      <td>...</td>\n",
              "      <td>...</td>\n",
              "    </tr>\n",
              "    <tr>\n",
              "      <th>1440</th>\n",
              "      <td>PUERTO CARREÑO</td>\n",
              "      <td>133.2</td>\n",
              "    </tr>\n",
              "    <tr>\n",
              "      <th>1441</th>\n",
              "      <td>PUERTO CARREÑO</td>\n",
              "      <td>130.7</td>\n",
              "    </tr>\n",
              "    <tr>\n",
              "      <th>1442</th>\n",
              "      <td>SANTA ROSALÍA</td>\n",
              "      <td>98.7</td>\n",
              "    </tr>\n",
              "    <tr>\n",
              "      <th>1443</th>\n",
              "      <td>SANTA ROSALÍA</td>\n",
              "      <td>113.4</td>\n",
              "    </tr>\n",
              "    <tr>\n",
              "      <th>1444</th>\n",
              "      <td>SANTA ROSALÍA</td>\n",
              "      <td>106.8</td>\n",
              "    </tr>\n",
              "  </tbody>\n",
              "</table>\n",
              "<p>1445 rows × 2 columns</p>\n",
              "</div>"
            ],
            "text/plain": [
              "           municipio  dias_lluvia\n",
              "0         EL ENCANTO        191.7\n",
              "1         EL ENCANTO        191.1\n",
              "2         LA PEDRERA        216.0\n",
              "3         LA PEDRERA        161.8\n",
              "4         LA PEDRERA        204.0\n",
              "...              ...          ...\n",
              "1440  PUERTO CARREÑO        133.2\n",
              "1441  PUERTO CARREÑO        130.7\n",
              "1442   SANTA ROSALÍA         98.7\n",
              "1443   SANTA ROSALÍA        113.4\n",
              "1444   SANTA ROSALÍA        106.8\n",
              "\n",
              "[1445 rows x 2 columns]"
            ]
          },
          "execution_count": 39,
          "metadata": {},
          "output_type": "execute_result"
        }
      ],
      "source": [
        "# Cuarto\n",
        "  #pasa municipio a mayusculas\n",
        "dato_lluvia['municipio'] = dato_lluvia['municipio'].str.upper()\n",
        "dato_lluvia"
      ]
    },
    {
      "cell_type": "markdown",
      "metadata": {
        "id": "qj6408lFl619"
      },
      "source": [
        "Manejo de datos repetidos"
      ]
    },
    {
      "cell_type": "code",
      "execution_count": 40,
      "metadata": {
        "colab": {
          "base_uri": "https://localhost:8080/",
          "height": 500
        },
        "id": "pxsB87FHdu-P",
        "outputId": "e24aa3a9-cc73-46a7-e55d-2cbc73c5b823"
      },
      "outputs": [
        {
          "name": "stdout",
          "output_type": "stream",
          "text": [
            "Media: 136.81058823529412\n",
            "Mediana: 134.1\n"
          ]
        },
        {
          "data": {
            "image/png": "[encoded data removed]",
            "text/plain": [
              "<Figure size 1000x500 with 1 Axes>"
            ]
          },
          "metadata": {},
          "output_type": "display_data"
        }
      ],
      "source": [
        "# Observasion visual para evaluar cual dato estadistico es el mejor para agrupar en funcion de municipio.\n",
        "plt.figure(figsize=(10, 5))\n",
        "sns.histplot(dato_lluvia['dias_lluvia'])\n",
        "print('Media:',dato_lluvia['dias_lluvia'].mean())\n",
        "print('Mediana:',dato_lluvia['dias_lluvia'].median())"
      ]
    },
    {
      "cell_type": "code",
      "execution_count": 41,
      "metadata": {
        "colab": {
          "base_uri": "https://localhost:8080/",
          "height": 424
        },
        "id": "W9VW0kd0cNMJ",
        "outputId": "53863ec5-56ff-4191-f0f1-d39d74822457"
      },
      "outputs": [
        {
          "data": {
            "text/html": [
              "<div>\n",
              "<style scoped>\n",
              "    .dataframe tbody tr th:only-of-type {\n",
              "        vertical-align: middle;\n",
              "    }\n",
              "\n",
              "    .dataframe tbody tr th {\n",
              "        vertical-align: top;\n",
              "    }\n",
              "\n",
              "    .dataframe thead th {\n",
              "        text-align: right;\n",
              "    }\n",
              "</style>\n",
              "<table border=\"1\" class=\"dataframe\">\n",
              "  <thead>\n",
              "    <tr style=\"text-align: right;\">\n",
              "      <th></th>\n",
              "      <th>municipio</th>\n",
              "      <th>dias_lluvia</th>\n",
              "    </tr>\n",
              "  </thead>\n",
              "  <tbody>\n",
              "    <tr>\n",
              "      <th>0</th>\n",
              "      <td>ABEJORRAL</td>\n",
              "      <td>177.80</td>\n",
              "    </tr>\n",
              "    <tr>\n",
              "      <th>1</th>\n",
              "      <td>ABRIAQUÍ</td>\n",
              "      <td>200.60</td>\n",
              "    </tr>\n",
              "    <tr>\n",
              "      <th>2</th>\n",
              "      <td>ACACÍAS</td>\n",
              "      <td>195.70</td>\n",
              "    </tr>\n",
              "    <tr>\n",
              "      <th>3</th>\n",
              "      <td>ACANDÍ</td>\n",
              "      <td>150.50</td>\n",
              "    </tr>\n",
              "    <tr>\n",
              "      <th>4</th>\n",
              "      <td>ACEVEDO</td>\n",
              "      <td>157.65</td>\n",
              "    </tr>\n",
              "    <tr>\n",
              "      <th>...</th>\n",
              "      <td>...</td>\n",
              "      <td>...</td>\n",
              "    </tr>\n",
              "    <tr>\n",
              "      <th>756</th>\n",
              "      <td>ZONA BANANERA</td>\n",
              "      <td>48.05</td>\n",
              "    </tr>\n",
              "    <tr>\n",
              "      <th>757</th>\n",
              "      <td>ÁBREGO</td>\n",
              "      <td>106.70</td>\n",
              "    </tr>\n",
              "    <tr>\n",
              "      <th>758</th>\n",
              "      <td>ÍQUIRA</td>\n",
              "      <td>166.50</td>\n",
              "    </tr>\n",
              "    <tr>\n",
              "      <th>759</th>\n",
              "      <td>ÚMBITA</td>\n",
              "      <td>170.20</td>\n",
              "    </tr>\n",
              "    <tr>\n",
              "      <th>760</th>\n",
              "      <td>ÚTICA</td>\n",
              "      <td>93.70</td>\n",
              "    </tr>\n",
              "  </tbody>\n",
              "</table>\n",
              "<p>761 rows × 2 columns</p>\n",
              "</div>"
            ],
            "text/plain": [
              "         municipio  dias_lluvia\n",
              "0        ABEJORRAL       177.80\n",
              "1         ABRIAQUÍ       200.60\n",
              "2          ACACÍAS       195.70\n",
              "3           ACANDÍ       150.50\n",
              "4          ACEVEDO       157.65\n",
              "..             ...          ...\n",
              "756  ZONA BANANERA        48.05\n",
              "757         ÁBREGO       106.70\n",
              "758         ÍQUIRA       166.50\n",
              "759         ÚMBITA       170.20\n",
              "760          ÚTICA        93.70\n",
              "\n",
              "[761 rows x 2 columns]"
            ]
          },
          "execution_count": 41,
          "metadata": {},
          "output_type": "execute_result"
        }
      ],
      "source": [
        "# Por cada municipio único va a sacar la media de los datos correspondientes a este lugar\n",
        "lluvia = dato_lluvia.groupby('municipio').agg({'dias_lluvia': 'median'}).reset_index() #,'longitud': 'first', 'latitud': 'first'\n",
        "lluvia"
      ]
    },
    {
      "cell_type": "code",
      "execution_count": 42,
      "metadata": {
        "colab": {
          "base_uri": "https://localhost:8080/"
        },
        "id": "bx2BgmDemNlO",
        "outputId": "b653b012-05f4-49a6-dcb0-dcb781890984"
      },
      "outputs": [
        {
          "data": {
            "text/plain": [
              "np.int64(761)"
            ]
          },
          "execution_count": 42,
          "metadata": {},
          "output_type": "execute_result"
        }
      ],
      "source": [
        "lluvia['municipio'].value_counts().sum() #evaluación del método"
      ]
    },
    {
      "cell_type": "code",
      "execution_count": 43,
      "metadata": {
        "colab": {
          "base_uri": "https://localhost:8080/",
          "height": 500
        },
        "id": "hy1LbJmrhMYF",
        "outputId": "f4e41ad1-5337-4d4f-cba0-c0f159bd1579"
      },
      "outputs": [
        {
          "name": "stdout",
          "output_type": "stream",
          "text": [
            "Media: 139.37884362680683\n",
            "Mediana: 137.6\n"
          ]
        },
        {
          "data": {
            "image/png": "[encoded data removed]",
            "text/plain": [
              "<Figure size 1000x500 with 1 Axes>"
            ]
          },
          "metadata": {},
          "output_type": "display_data"
        }
      ],
      "source": [
        "# Se observa nuevamente agrupacion similar\n",
        "plt.figure(figsize=(10, 5))\n",
        "sns.histplot(lluvia['dias_lluvia'])\n",
        "print('Media:',lluvia['dias_lluvia'].mean())\n",
        "print('Mediana:',lluvia['dias_lluvia'].median())"
      ]
    },
    {
      "cell_type": "markdown",
      "metadata": {
        "id": "6lFDVEcpmGSR"
      },
      "source": [
        "Notemos que de 1445 datos pasamos a tener 761 valores únicos"
      ]
    },
    {
      "cell_type": "markdown",
      "metadata": {
        "id": "T-tHzOhDwhac"
      },
      "source": [
        "**Unificación de los datos**\n",
        "---\n",
        "\n",
        "Todos los datasets anteriormente tienen en común la columna de municipios por lo que esta va a ser la clave de unificación. Este método crea una nueva tabla que de la misma manera que antes necesita un tratamiento de datos\n"
      ]
    },
    {
      "cell_type": "markdown",
      "metadata": {
        "id": "PZX1_y4Fn4hy"
      },
      "source": [
        "**1. Unificación y organización de datos de viento y lluvia**"
      ]
    },
    {
      "cell_type": "code",
      "execution_count": 44,
      "metadata": {
        "colab": {
          "base_uri": "https://localhost:8080/",
          "height": 424
        },
        "id": "lCXmFNpkwgnc",
        "outputId": "3a706d17-cf27-4a9a-cc3c-4578be3e087a"
      },
      "outputs": [
        {
          "data": {
            "text/html": [
              "<div>\n",
              "<style scoped>\n",
              "    .dataframe tbody tr th:only-of-type {\n",
              "        vertical-align: middle;\n",
              "    }\n",
              "\n",
              "    .dataframe tbody tr th {\n",
              "        vertical-align: top;\n",
              "    }\n",
              "\n",
              "    .dataframe thead th {\n",
              "        text-align: right;\n",
              "    }\n",
              "</style>\n",
              "<table border=\"1\" class=\"dataframe\">\n",
              "  <thead>\n",
              "    <tr style=\"text-align: right;\">\n",
              "      <th></th>\n",
              "      <th>municipio</th>\n",
              "      <th>velocidad_viento</th>\n",
              "      <th>dias_lluvia</th>\n",
              "    </tr>\n",
              "  </thead>\n",
              "  <tbody>\n",
              "    <tr>\n",
              "      <th>0</th>\n",
              "      <td>ABRIAQUÍ</td>\n",
              "      <td>0.800000</td>\n",
              "      <td>200.60</td>\n",
              "    </tr>\n",
              "    <tr>\n",
              "      <th>1</th>\n",
              "      <td>ACANDÍ</td>\n",
              "      <td>1.050000</td>\n",
              "      <td>150.50</td>\n",
              "    </tr>\n",
              "    <tr>\n",
              "      <th>2</th>\n",
              "      <td>ACEVEDO</td>\n",
              "      <td>2.338382</td>\n",
              "      <td>157.65</td>\n",
              "    </tr>\n",
              "    <tr>\n",
              "      <th>3</th>\n",
              "      <td>AGUACHICA</td>\n",
              "      <td>1.400000</td>\n",
              "      <td>92.60</td>\n",
              "    </tr>\n",
              "    <tr>\n",
              "      <th>4</th>\n",
              "      <td>AGUSTÍN CODAZZI</td>\n",
              "      <td>1.400000</td>\n",
              "      <td>77.95</td>\n",
              "    </tr>\n",
              "    <tr>\n",
              "      <th>...</th>\n",
              "      <td>...</td>\n",
              "      <td>...</td>\n",
              "      <td>...</td>\n",
              "    </tr>\n",
              "    <tr>\n",
              "      <th>287</th>\n",
              "      <td>YOLOMBÓ</td>\n",
              "      <td>1.500000</td>\n",
              "      <td>152.30</td>\n",
              "    </tr>\n",
              "    <tr>\n",
              "      <th>288</th>\n",
              "      <td>YOPAL</td>\n",
              "      <td>0.900000</td>\n",
              "      <td>149.60</td>\n",
              "    </tr>\n",
              "    <tr>\n",
              "      <th>289</th>\n",
              "      <td>ZETAQUIRÁ</td>\n",
              "      <td>0.500000</td>\n",
              "      <td>179.00</td>\n",
              "    </tr>\n",
              "    <tr>\n",
              "      <th>290</th>\n",
              "      <td>ZIPAQUIRÁ</td>\n",
              "      <td>2.000000</td>\n",
              "      <td>147.35</td>\n",
              "    </tr>\n",
              "    <tr>\n",
              "      <th>291</th>\n",
              "      <td>ZONA BANANERA</td>\n",
              "      <td>1.200000</td>\n",
              "      <td>48.05</td>\n",
              "    </tr>\n",
              "  </tbody>\n",
              "</table>\n",
              "<p>292 rows × 3 columns</p>\n",
              "</div>"
            ],
            "text/plain": [
              "           municipio  velocidad_viento  dias_lluvia\n",
              "0           ABRIAQUÍ          0.800000       200.60\n",
              "1             ACANDÍ          1.050000       150.50\n",
              "2            ACEVEDO          2.338382       157.65\n",
              "3          AGUACHICA          1.400000        92.60\n",
              "4    AGUSTÍN CODAZZI          1.400000        77.95\n",
              "..               ...               ...          ...\n",
              "287          YOLOMBÓ          1.500000       152.30\n",
              "288            YOPAL          0.900000       149.60\n",
              "289        ZETAQUIRÁ          0.500000       179.00\n",
              "290        ZIPAQUIRÁ          2.000000       147.35\n",
              "291    ZONA BANANERA          1.200000        48.05\n",
              "\n",
              "[292 rows x 3 columns]"
            ]
          },
          "execution_count": 44,
          "metadata": {},
          "output_type": "execute_result"
        }
      ],
      "source": [
        "# Se utiliza pd.merge left=viento right= lluvia para un dataframe en el cual\n",
        "#municipio y velocidad_viento permaneceran con los mismos registros y se hara una comparasion con lluvia. Si los datos 'municipio' es un match en ambos datasets se ubica los datos que corresponda de 'dias_lluvia'. Si no se encuntran datos en 'dias_lluvia' se retorna un NaN. Si al hacer el match no habría datos en 'velocidad_viento' se descartaría la fila completa 'municipio'\t'dias_lluvia' de el dataframe lluvia.\n",
        "df_clima = pd.merge(left= viento, right= lluvia, left_on='municipio', right_on= 'municipio', how='left')\n",
        "df_clima"
      ]
    },
    {
      "cell_type": "code",
      "execution_count": 45,
      "metadata": {
        "colab": {
          "base_uri": "https://localhost:8080/"
        },
        "id": "ZPhHBBOFiZwH",
        "outputId": "96184af6-be5c-4383-87e0-c971668c6191"
      },
      "outputs": [
        {
          "name": "stdout",
          "output_type": "stream",
          "text": [
            "<class 'pandas.core.frame.DataFrame'>\n",
            "RangeIndex: 292 entries, 0 to 291\n",
            "Data columns (total 3 columns):\n",
            " #   Column            Non-Null Count  Dtype  \n",
            "---  ------            --------------  -----  \n",
            " 0   municipio         292 non-null    object \n",
            " 1   velocidad_viento  292 non-null    float64\n",
            " 2   dias_lluvia       221 non-null    float64\n",
            "dtypes: float64(2), object(1)\n",
            "memory usage: 7.0+ KB\n"
          ]
        }
      ],
      "source": [
        "df_clima.info() #Evaluación de las condiciones de los datos del dataframe cuantitatrivos o nominales"
      ]
    },
    {
      "cell_type": "markdown",
      "metadata": {
        "id": "veMhVDIbo2pS"
      },
      "source": [
        "**Tratamiento de datos**"
      ]
    },
    {
      "cell_type": "code",
      "execution_count": 46,
      "metadata": {
        "colab": {
          "base_uri": "https://localhost:8080/",
          "height": 178
        },
        "id": "mhN-V1-Uo6jY",
        "outputId": "e8a5db3e-cbfd-4aeb-9265-55870f3f35d0"
      },
      "outputs": [
        {
          "data": {
            "text/plain": [
              "municipio            0\n",
              "velocidad_viento     0\n",
              "dias_lluvia         71\n",
              "dtype: int64"
            ]
          },
          "execution_count": 46,
          "metadata": {},
          "output_type": "execute_result"
        }
      ],
      "source": [
        "df_clima.isnull().sum() #Conteo de valores nulos"
      ]
    },
    {
      "cell_type": "code",
      "execution_count": 47,
      "metadata": {
        "colab": {
          "base_uri": "https://localhost:8080/",
          "height": 485
        },
        "id": "eqYHsBE2os3X",
        "outputId": "a0fc8b63-d9c2-448a-8429-bba87695a0d1"
      },
      "outputs": [
        {
          "name": "stdout",
          "output_type": "stream",
          "text": [
            "Media: 145.4185520361991\n",
            "Mediana: 146.5\n"
          ]
        },
        {
          "data": {
            "image/png": "[encoded data removed]",
            "text/plain": [
              "<Figure size 640x480 with 1 Axes>"
            ]
          },
          "metadata": {},
          "output_type": "display_data"
        }
      ],
      "source": [
        "# Se observa una similitud numerica entre media y mediana\n",
        "sns.histplot(df_clima['dias_lluvia'])\n",
        "print('Media:',df_clima['dias_lluvia'].mean())\n",
        "print('Mediana:', df_clima['dias_lluvia'].median())"
      ]
    },
    {
      "cell_type": "markdown",
      "metadata": {
        "id": "TV4PAJqYpbps"
      },
      "source": [
        "Nótemos que la distribución de los datos es uniforme por lo que para el tratamiento de datos nulos se recomienda la **MEDIA**"
      ]
    },
    {
      "cell_type": "code",
      "execution_count": 48,
      "metadata": {
        "colab": {
          "base_uri": "https://localhost:8080/",
          "height": 485
        },
        "id": "8ryqB6U-o7WX",
        "outputId": "121e5b95-fef4-4877-b922-e1b607d0f65c"
      },
      "outputs": [
        {
          "name": "stdout",
          "output_type": "stream",
          "text": [
            "Media: 1.7090820023893836\n",
            "Mediana: 1.3\n"
          ]
        },
        {
          "data": {
            "image/png": "[encoded data removed]",
            "text/plain": [
              "<Figure size 640x480 with 1 Axes>"
            ]
          },
          "metadata": {},
          "output_type": "display_data"
        }
      ],
      "source": [
        "sns.histplot(df_clima['velocidad_viento'])\n",
        "print('Media:',df_clima['velocidad_viento'].mean())\n",
        "print('Mediana:', df_clima['velocidad_viento'].median())"
      ]
    },
    {
      "cell_type": "markdown",
      "metadata": {
        "id": "iCGDeNqAuuVO"
      },
      "source": [
        "Nótemos que la distribución de los datos está afectada por los datos atípicos  por lo que para el tratamiento de datos nulos se recomienda la **MEDIANA**"
      ]
    },
    {
      "cell_type": "markdown",
      "metadata": {
        "id": "fSOVbmAjvKfi"
      },
      "source": [
        "Manejo de datos faltantes"
      ]
    },
    {
      "cell_type": "code",
      "execution_count": 49,
      "metadata": {
        "colab": {
          "base_uri": "https://localhost:8080/",
          "height": 424
        },
        "id": "H4HV3NQwH_tY",
        "outputId": "63a9563a-ee45-4765-c13d-2bb81b7228d6"
      },
      "outputs": [
        {
          "data": {
            "text/html": [
              "<div>\n",
              "<style scoped>\n",
              "    .dataframe tbody tr th:only-of-type {\n",
              "        vertical-align: middle;\n",
              "    }\n",
              "\n",
              "    .dataframe tbody tr th {\n",
              "        vertical-align: top;\n",
              "    }\n",
              "\n",
              "    .dataframe thead th {\n",
              "        text-align: right;\n",
              "    }\n",
              "</style>\n",
              "<table border=\"1\" class=\"dataframe\">\n",
              "  <thead>\n",
              "    <tr style=\"text-align: right;\">\n",
              "      <th></th>\n",
              "      <th>municipio</th>\n",
              "      <th>velocidad_viento</th>\n",
              "      <th>dias_lluvia</th>\n",
              "    </tr>\n",
              "  </thead>\n",
              "  <tbody>\n",
              "    <tr>\n",
              "      <th>0</th>\n",
              "      <td>ABRIAQUÍ</td>\n",
              "      <td>0.800000</td>\n",
              "      <td>200.60</td>\n",
              "    </tr>\n",
              "    <tr>\n",
              "      <th>1</th>\n",
              "      <td>ACANDÍ</td>\n",
              "      <td>1.050000</td>\n",
              "      <td>150.50</td>\n",
              "    </tr>\n",
              "    <tr>\n",
              "      <th>2</th>\n",
              "      <td>ACEVEDO</td>\n",
              "      <td>2.338382</td>\n",
              "      <td>157.65</td>\n",
              "    </tr>\n",
              "    <tr>\n",
              "      <th>3</th>\n",
              "      <td>AGUACHICA</td>\n",
              "      <td>1.400000</td>\n",
              "      <td>92.60</td>\n",
              "    </tr>\n",
              "    <tr>\n",
              "      <th>4</th>\n",
              "      <td>AGUSTÍN CODAZZI</td>\n",
              "      <td>1.400000</td>\n",
              "      <td>77.95</td>\n",
              "    </tr>\n",
              "    <tr>\n",
              "      <th>...</th>\n",
              "      <td>...</td>\n",
              "      <td>...</td>\n",
              "      <td>...</td>\n",
              "    </tr>\n",
              "    <tr>\n",
              "      <th>287</th>\n",
              "      <td>YOLOMBÓ</td>\n",
              "      <td>1.500000</td>\n",
              "      <td>152.30</td>\n",
              "    </tr>\n",
              "    <tr>\n",
              "      <th>288</th>\n",
              "      <td>YOPAL</td>\n",
              "      <td>0.900000</td>\n",
              "      <td>149.60</td>\n",
              "    </tr>\n",
              "    <tr>\n",
              "      <th>289</th>\n",
              "      <td>ZETAQUIRÁ</td>\n",
              "      <td>0.500000</td>\n",
              "      <td>179.00</td>\n",
              "    </tr>\n",
              "    <tr>\n",
              "      <th>290</th>\n",
              "      <td>ZIPAQUIRÁ</td>\n",
              "      <td>2.000000</td>\n",
              "      <td>147.35</td>\n",
              "    </tr>\n",
              "    <tr>\n",
              "      <th>291</th>\n",
              "      <td>ZONA BANANERA</td>\n",
              "      <td>1.200000</td>\n",
              "      <td>48.05</td>\n",
              "    </tr>\n",
              "  </tbody>\n",
              "</table>\n",
              "<p>292 rows × 3 columns</p>\n",
              "</div>"
            ],
            "text/plain": [
              "           municipio  velocidad_viento  dias_lluvia\n",
              "0           ABRIAQUÍ          0.800000       200.60\n",
              "1             ACANDÍ          1.050000       150.50\n",
              "2            ACEVEDO          2.338382       157.65\n",
              "3          AGUACHICA          1.400000        92.60\n",
              "4    AGUSTÍN CODAZZI          1.400000        77.95\n",
              "..               ...               ...          ...\n",
              "287          YOLOMBÓ          1.500000       152.30\n",
              "288            YOPAL          0.900000       149.60\n",
              "289        ZETAQUIRÁ          0.500000       179.00\n",
              "290        ZIPAQUIRÁ          2.000000       147.35\n",
              "291    ZONA BANANERA          1.200000        48.05\n",
              "\n",
              "[292 rows x 3 columns]"
            ]
          },
          "execution_count": 49,
          "metadata": {},
          "output_type": "execute_result"
        }
      ],
      "source": [
        "# Se rellenan los datos faltantes de los días de lluvia con el valor de la media\n",
        "df_clima['dias_lluvia'] = df_clima['dias_lluvia'].fillna(df_clima['dias_lluvia'].mean())\n",
        "df_clima"
      ]
    },
    {
      "cell_type": "code",
      "execution_count": 50,
      "metadata": {
        "colab": {
          "base_uri": "https://localhost:8080/",
          "height": 178
        },
        "id": "Yg2dV14uBtjq",
        "outputId": "3d76ff1a-8b85-4fbb-e222-187bc155e5b8"
      },
      "outputs": [
        {
          "data": {
            "text/plain": [
              "municipio           0\n",
              "velocidad_viento    0\n",
              "dias_lluvia         0\n",
              "dtype: int64"
            ]
          },
          "execution_count": 50,
          "metadata": {},
          "output_type": "execute_result"
        }
      ],
      "source": [
        "df_clima.isnull().sum() #No se observan nulos"
      ]
    },
    {
      "cell_type": "code",
      "execution_count": 51,
      "metadata": {
        "colab": {
          "base_uri": "https://localhost:8080/"
        },
        "id": "0j_qoS7-dUUo",
        "outputId": "9cbe34d5-eac6-4b26-9375-2929066d49dc"
      },
      "outputs": [
        {
          "data": {
            "text/plain": [
              "np.int64(292)"
            ]
          },
          "execution_count": 51,
          "metadata": {},
          "output_type": "execute_result"
        }
      ],
      "source": [
        "df_clima['municipio'].value_counts().sum() #evaluación del método"
      ]
    },
    {
      "cell_type": "markdown",
      "metadata": {
        "id": "RFZ6djJOvzd1"
      },
      "source": [
        "**Visualización de los datos**"
      ]
    },
    {
      "cell_type": "code",
      "execution_count": 52,
      "metadata": {
        "colab": {
          "base_uri": "https://localhost:8080/",
          "height": 1000
        },
        "id": "QlqMBt3Jp0D9",
        "outputId": "747def78-10ac-4d99-bbcf-2c2906870b37"
      },
      "outputs": [
        {
          "data": {
            "image/png": "[encoded data removed]",
            "text/plain": [
              "<Figure size 1000x500 with 1 Axes>"
            ]
          },
          "metadata": {},
          "output_type": "display_data"
        },
        {
          "data": {
            "image/png": "[encoded data removed]",
            "text/plain": [
              "<Figure size 1000x500 with 1 Axes>"
            ]
          },
          "metadata": {},
          "output_type": "display_data"
        },
        {
          "data": {
            "image/png": "[encoded data removed]",
            "text/plain": [
              "<Figure size 1000x500 with 1 Axes>"
            ]
          },
          "metadata": {},
          "output_type": "display_data"
        }
      ],
      "source": [
        "for col in df_clima.columns:\n",
        "  plt.figure(figsize=(10, 5))\n",
        "  sns.histplot(df_clima[col])\n"
      ]
    },
    {
      "cell_type": "markdown",
      "metadata": {
        "id": "Xqg_T87wv_HS"
      },
      "source": [
        "Notémos que debido al manejo que se les dió a los datos, la distribución de los días de lluvia cambió"
      ]
    },
    {
      "cell_type": "code",
      "execution_count": 53,
      "metadata": {
        "colab": {
          "base_uri": "https://localhost:8080/",
          "height": 447
        },
        "id": "OMKxG2QnpoPk",
        "outputId": "32ecafd0-f691-432c-a9b6-c5e618acdf1a"
      },
      "outputs": [
        {
          "data": {
            "text/plain": [
              "<Axes: >"
            ]
          },
          "execution_count": 53,
          "metadata": {},
          "output_type": "execute_result"
        },
        {
          "data": {
            "image/png": "[encoded data removed]",
            "text/plain": [
              "<Figure size 640x480 with 1 Axes>"
            ]
          },
          "metadata": {},
          "output_type": "display_data"
        }
      ],
      "source": [
        "#Visualización de los datos para evaluar datos atípicos\n",
        "climas = df_clima[['velocidad_viento', 'dias_lluvia']]\n",
        "sns.boxplot(climas, whis=3)"
      ]
    },
    {
      "cell_type": "markdown",
      "metadata": {
        "id": "eC1NiVWcwRH5"
      },
      "source": [
        "Notémos que las escalas de los datos están muy diferentes por lo que no se puede ver el comportamiento de la variable de la velocidad del viento"
      ]
    },
    {
      "cell_type": "markdown",
      "metadata": {
        "id": "5J0gviOqwqIT"
      },
      "source": [
        "**2. Unificación y organización de datos de energía y clima**"
      ]
    },
    {
      "cell_type": "code",
      "execution_count": 54,
      "metadata": {
        "colab": {
          "base_uri": "https://localhost:8080/",
          "height": 424
        },
        "id": "oZ5k7eM9q3dv",
        "outputId": "e78f0f57-cbb1-4ef6-cdce-dba65019481d"
      },
      "outputs": [
        {
          "data": {
            "text/html": [
              "<div>\n",
              "<style scoped>\n",
              "    .dataframe tbody tr th:only-of-type {\n",
              "        vertical-align: middle;\n",
              "    }\n",
              "\n",
              "    .dataframe tbody tr th {\n",
              "        vertical-align: top;\n",
              "    }\n",
              "\n",
              "    .dataframe thead th {\n",
              "        text-align: right;\n",
              "    }\n",
              "</style>\n",
              "<table border=\"1\" class=\"dataframe\">\n",
              "  <thead>\n",
              "    <tr style=\"text-align: right;\">\n",
              "      <th></th>\n",
              "      <th>municipio</th>\n",
              "      <th>velocidad_viento</th>\n",
              "      <th>dias_lluvia</th>\n",
              "      <th>potencia_m</th>\n",
              "      <th>energia_activa</th>\n",
              "      <th>energia_reactiva</th>\n",
              "    </tr>\n",
              "  </thead>\n",
              "  <tbody>\n",
              "    <tr>\n",
              "      <th>0</th>\n",
              "      <td>ABRIAQUÍ</td>\n",
              "      <td>0.800000</td>\n",
              "      <td>200.60</td>\n",
              "      <td>NaN</td>\n",
              "      <td>NaN</td>\n",
              "      <td>NaN</td>\n",
              "    </tr>\n",
              "    <tr>\n",
              "      <th>1</th>\n",
              "      <td>ACANDÍ</td>\n",
              "      <td>1.050000</td>\n",
              "      <td>150.50</td>\n",
              "      <td>816.094078</td>\n",
              "      <td>388026.0</td>\n",
              "      <td>127895.68932</td>\n",
              "    </tr>\n",
              "    <tr>\n",
              "      <th>2</th>\n",
              "      <td>ACEVEDO</td>\n",
              "      <td>2.338382</td>\n",
              "      <td>157.65</td>\n",
              "      <td>NaN</td>\n",
              "      <td>NaN</td>\n",
              "      <td>NaN</td>\n",
              "    </tr>\n",
              "    <tr>\n",
              "      <th>3</th>\n",
              "      <td>AGUACHICA</td>\n",
              "      <td>1.400000</td>\n",
              "      <td>92.60</td>\n",
              "      <td>NaN</td>\n",
              "      <td>NaN</td>\n",
              "      <td>NaN</td>\n",
              "    </tr>\n",
              "    <tr>\n",
              "      <th>4</th>\n",
              "      <td>AGUSTÍN CODAZZI</td>\n",
              "      <td>1.400000</td>\n",
              "      <td>77.95</td>\n",
              "      <td>NaN</td>\n",
              "      <td>NaN</td>\n",
              "      <td>NaN</td>\n",
              "    </tr>\n",
              "    <tr>\n",
              "      <th>...</th>\n",
              "      <td>...</td>\n",
              "      <td>...</td>\n",
              "      <td>...</td>\n",
              "      <td>...</td>\n",
              "      <td>...</td>\n",
              "      <td>...</td>\n",
              "    </tr>\n",
              "    <tr>\n",
              "      <th>287</th>\n",
              "      <td>YOLOMBÓ</td>\n",
              "      <td>1.500000</td>\n",
              "      <td>152.30</td>\n",
              "      <td>NaN</td>\n",
              "      <td>NaN</td>\n",
              "      <td>NaN</td>\n",
              "    </tr>\n",
              "    <tr>\n",
              "      <th>288</th>\n",
              "      <td>YOPAL</td>\n",
              "      <td>0.900000</td>\n",
              "      <td>149.60</td>\n",
              "      <td>NaN</td>\n",
              "      <td>NaN</td>\n",
              "      <td>NaN</td>\n",
              "    </tr>\n",
              "    <tr>\n",
              "      <th>289</th>\n",
              "      <td>ZETAQUIRÁ</td>\n",
              "      <td>0.500000</td>\n",
              "      <td>179.00</td>\n",
              "      <td>NaN</td>\n",
              "      <td>NaN</td>\n",
              "      <td>NaN</td>\n",
              "    </tr>\n",
              "    <tr>\n",
              "      <th>290</th>\n",
              "      <td>ZIPAQUIRÁ</td>\n",
              "      <td>2.000000</td>\n",
              "      <td>147.35</td>\n",
              "      <td>NaN</td>\n",
              "      <td>NaN</td>\n",
              "      <td>NaN</td>\n",
              "    </tr>\n",
              "    <tr>\n",
              "      <th>291</th>\n",
              "      <td>ZONA BANANERA</td>\n",
              "      <td>1.200000</td>\n",
              "      <td>48.05</td>\n",
              "      <td>NaN</td>\n",
              "      <td>NaN</td>\n",
              "      <td>NaN</td>\n",
              "    </tr>\n",
              "  </tbody>\n",
              "</table>\n",
              "<p>292 rows × 6 columns</p>\n",
              "</div>"
            ],
            "text/plain": [
              "           municipio  velocidad_viento  dias_lluvia  potencia_m  \\\n",
              "0           ABRIAQUÍ          0.800000       200.60         NaN   \n",
              "1             ACANDÍ          1.050000       150.50  816.094078   \n",
              "2            ACEVEDO          2.338382       157.65         NaN   \n",
              "3          AGUACHICA          1.400000        92.60         NaN   \n",
              "4    AGUSTÍN CODAZZI          1.400000        77.95         NaN   \n",
              "..               ...               ...          ...         ...   \n",
              "287          YOLOMBÓ          1.500000       152.30         NaN   \n",
              "288            YOPAL          0.900000       149.60         NaN   \n",
              "289        ZETAQUIRÁ          0.500000       179.00         NaN   \n",
              "290        ZIPAQUIRÁ          2.000000       147.35         NaN   \n",
              "291    ZONA BANANERA          1.200000        48.05         NaN   \n",
              "\n",
              "     energia_activa  energia_reactiva  \n",
              "0               NaN               NaN  \n",
              "1          388026.0      127895.68932  \n",
              "2               NaN               NaN  \n",
              "3               NaN               NaN  \n",
              "4               NaN               NaN  \n",
              "..              ...               ...  \n",
              "287             NaN               NaN  \n",
              "288             NaN               NaN  \n",
              "289             NaN               NaN  \n",
              "290             NaN               NaN  \n",
              "291             NaN               NaN  \n",
              "\n",
              "[292 rows x 6 columns]"
            ]
          },
          "execution_count": 54,
          "metadata": {},
          "output_type": "execute_result"
        }
      ],
      "source": [
        "# Se utiliza pd.merge left=df_clima right= energy para un dataframe en el cual\n",
        "#municipio velocidad_viento dias_lluvia permaneceran con los mismos registros y se hara una comparasion con energy. Si los datos 'municipio' es un match en ambos datasets se ubica los datos que corresponda en dichas filas. Si no se encuntran los datos de la izquierda retorna un NaN. Si al hacer el match no habría datos numericos en los datos de la derecha se descartaría la fila completa de energy'.\n",
        "df_unificado = pd.merge(left = df_clima, right = energy, left_on='municipio', right_on= 'municipio', how='left')\n",
        "df_unificado"
      ]
    },
    {
      "cell_type": "markdown",
      "metadata": {
        "id": "fMUuYCcJxrCv"
      },
      "source": [
        "Notémos que de 291 datos del dataset final hay una cantidad de 268 nulos para el dataset de las energías. Este caso se da porque el dataset de base tiene más datos que la tabla visitante, sin que coincidan los municipios, por lo tanto llena los espacios con nulos.\n",
        "\n",
        "Dado este caso se propone el método de imputación de valores el cual usa ######################"
      ]
    },
    {
      "cell_type": "markdown",
      "metadata": {
        "id": "3cLgqSOC1-Lq"
      },
      "source": [
        "**Manejo de datos nulos: Método de imputación**\n",
        "\n",
        "  1. Separación de los datos nulos"
      ]
    },
    {
      "cell_type": "code",
      "execution_count": 55,
      "metadata": {
        "colab": {
          "base_uri": "https://localhost:8080/",
          "height": 424
        },
        "id": "7bWgr27ttuk9",
        "outputId": "d70c12ba-b5e2-4d4e-d32f-d7d8d8906b08"
      },
      "outputs": [
        {
          "data": {
            "text/html": [
              "<div>\n",
              "<style scoped>\n",
              "    .dataframe tbody tr th:only-of-type {\n",
              "        vertical-align: middle;\n",
              "    }\n",
              "\n",
              "    .dataframe tbody tr th {\n",
              "        vertical-align: top;\n",
              "    }\n",
              "\n",
              "    .dataframe thead th {\n",
              "        text-align: right;\n",
              "    }\n",
              "</style>\n",
              "<table border=\"1\" class=\"dataframe\">\n",
              "  <thead>\n",
              "    <tr style=\"text-align: right;\">\n",
              "      <th></th>\n",
              "      <th>potencia_m</th>\n",
              "      <th>energia_activa</th>\n",
              "      <th>energia_reactiva</th>\n",
              "    </tr>\n",
              "  </thead>\n",
              "  <tbody>\n",
              "    <tr>\n",
              "      <th>0</th>\n",
              "      <td>NaN</td>\n",
              "      <td>NaN</td>\n",
              "      <td>NaN</td>\n",
              "    </tr>\n",
              "    <tr>\n",
              "      <th>1</th>\n",
              "      <td>816.094078</td>\n",
              "      <td>388026.0</td>\n",
              "      <td>127895.68932</td>\n",
              "    </tr>\n",
              "    <tr>\n",
              "      <th>2</th>\n",
              "      <td>NaN</td>\n",
              "      <td>NaN</td>\n",
              "      <td>NaN</td>\n",
              "    </tr>\n",
              "    <tr>\n",
              "      <th>3</th>\n",
              "      <td>NaN</td>\n",
              "      <td>NaN</td>\n",
              "      <td>NaN</td>\n",
              "    </tr>\n",
              "    <tr>\n",
              "      <th>4</th>\n",
              "      <td>NaN</td>\n",
              "      <td>NaN</td>\n",
              "      <td>NaN</td>\n",
              "    </tr>\n",
              "    <tr>\n",
              "      <th>...</th>\n",
              "      <td>...</td>\n",
              "      <td>...</td>\n",
              "      <td>...</td>\n",
              "    </tr>\n",
              "    <tr>\n",
              "      <th>287</th>\n",
              "      <td>NaN</td>\n",
              "      <td>NaN</td>\n",
              "      <td>NaN</td>\n",
              "    </tr>\n",
              "    <tr>\n",
              "      <th>288</th>\n",
              "      <td>NaN</td>\n",
              "      <td>NaN</td>\n",
              "      <td>NaN</td>\n",
              "    </tr>\n",
              "    <tr>\n",
              "      <th>289</th>\n",
              "      <td>NaN</td>\n",
              "      <td>NaN</td>\n",
              "      <td>NaN</td>\n",
              "    </tr>\n",
              "    <tr>\n",
              "      <th>290</th>\n",
              "      <td>NaN</td>\n",
              "      <td>NaN</td>\n",
              "      <td>NaN</td>\n",
              "    </tr>\n",
              "    <tr>\n",
              "      <th>291</th>\n",
              "      <td>NaN</td>\n",
              "      <td>NaN</td>\n",
              "      <td>NaN</td>\n",
              "    </tr>\n",
              "  </tbody>\n",
              "</table>\n",
              "<p>292 rows × 3 columns</p>\n",
              "</div>"
            ],
            "text/plain": [
              "     potencia_m  energia_activa  energia_reactiva\n",
              "0           NaN             NaN               NaN\n",
              "1    816.094078        388026.0      127895.68932\n",
              "2           NaN             NaN               NaN\n",
              "3           NaN             NaN               NaN\n",
              "4           NaN             NaN               NaN\n",
              "..          ...             ...               ...\n",
              "287         NaN             NaN               NaN\n",
              "288         NaN             NaN               NaN\n",
              "289         NaN             NaN               NaN\n",
              "290         NaN             NaN               NaN\n",
              "291         NaN             NaN               NaN\n",
              "\n",
              "[292 rows x 3 columns]"
            ]
          },
          "execution_count": 55,
          "metadata": {},
          "output_type": "execute_result"
        }
      ],
      "source": [
        "# Primero se separan los datos faltantes en una tabla\n",
        "nulos = pd.DataFrame(\n",
        "    {'potencia_m': df_unificado['potencia_m'],\n",
        "    'energia_activa': df_unificado['energia_activa'],\n",
        "    'energia_reactiva': df_unificado['energia_reactiva']\n",
        "}\n",
        ")\n",
        "nulos"
      ]
    },
    {
      "cell_type": "code",
      "execution_count": 56,
      "metadata": {
        "colab": {
          "base_uri": "https://localhost:8080/"
        },
        "id": "Nkc3ie7GypOP",
        "outputId": "4946888b-68ec-4e62-f343-949e41d51d8a"
      },
      "outputs": [
        {
          "name": "stdout",
          "output_type": "stream",
          "text": [
            "<class 'pandas.core.frame.DataFrame'>\n",
            "RangeIndex: 292 entries, 0 to 291\n",
            "Data columns (total 3 columns):\n",
            " #   Column            Non-Null Count  Dtype  \n",
            "---  ------            --------------  -----  \n",
            " 0   potencia_m        23 non-null     float64\n",
            " 1   energia_activa    23 non-null     float64\n",
            " 2   energia_reactiva  23 non-null     float64\n",
            "dtypes: float64(3)\n",
            "memory usage: 7.0 KB\n"
          ]
        }
      ],
      "source": [
        "nulos.info() #Evaluación de las características de la tabla"
      ]
    },
    {
      "cell_type": "markdown",
      "metadata": {
        "id": "9glNRt_i2eFF"
      },
      "source": [
        "  2. Imputación de valores"
      ]
    },
    {
      "cell_type": "code",
      "execution_count": 57,
      "metadata": {
        "colab": {
          "base_uri": "https://localhost:8080/",
          "height": 424
        },
        "id": "eAHrSjDQHMgT",
        "outputId": "c8c2a867-234b-498b-bbda-3d5b22c34396"
      },
      "outputs": [
        {
          "data": {
            "text/html": [
              "<div>\n",
              "<style scoped>\n",
              "    .dataframe tbody tr th:only-of-type {\n",
              "        vertical-align: middle;\n",
              "    }\n",
              "\n",
              "    .dataframe tbody tr th {\n",
              "        vertical-align: top;\n",
              "    }\n",
              "\n",
              "    .dataframe thead th {\n",
              "        text-align: right;\n",
              "    }\n",
              "</style>\n",
              "<table border=\"1\" class=\"dataframe\">\n",
              "  <thead>\n",
              "    <tr style=\"text-align: right;\">\n",
              "      <th></th>\n",
              "      <th>potencia_m</th>\n",
              "      <th>energia_activa</th>\n",
              "      <th>energia_reactiva</th>\n",
              "    </tr>\n",
              "  </thead>\n",
              "  <tbody>\n",
              "    <tr>\n",
              "      <th>0</th>\n",
              "      <td>1847.674336</td>\n",
              "      <td>1.040489e+06</td>\n",
              "      <td>285776.402284</td>\n",
              "    </tr>\n",
              "    <tr>\n",
              "      <th>1</th>\n",
              "      <td>816.094078</td>\n",
              "      <td>3.880260e+05</td>\n",
              "      <td>127895.689320</td>\n",
              "    </tr>\n",
              "    <tr>\n",
              "      <th>2</th>\n",
              "      <td>1847.674336</td>\n",
              "      <td>1.040489e+06</td>\n",
              "      <td>285776.402284</td>\n",
              "    </tr>\n",
              "    <tr>\n",
              "      <th>3</th>\n",
              "      <td>1847.674336</td>\n",
              "      <td>1.040489e+06</td>\n",
              "      <td>285776.402284</td>\n",
              "    </tr>\n",
              "    <tr>\n",
              "      <th>4</th>\n",
              "      <td>1847.674336</td>\n",
              "      <td>1.040489e+06</td>\n",
              "      <td>285776.402284</td>\n",
              "    </tr>\n",
              "    <tr>\n",
              "      <th>...</th>\n",
              "      <td>...</td>\n",
              "      <td>...</td>\n",
              "      <td>...</td>\n",
              "    </tr>\n",
              "    <tr>\n",
              "      <th>287</th>\n",
              "      <td>1847.674336</td>\n",
              "      <td>1.040489e+06</td>\n",
              "      <td>285776.402284</td>\n",
              "    </tr>\n",
              "    <tr>\n",
              "      <th>288</th>\n",
              "      <td>1847.674336</td>\n",
              "      <td>1.040489e+06</td>\n",
              "      <td>285776.402284</td>\n",
              "    </tr>\n",
              "    <tr>\n",
              "      <th>289</th>\n",
              "      <td>1847.674336</td>\n",
              "      <td>1.040489e+06</td>\n",
              "      <td>285776.402284</td>\n",
              "    </tr>\n",
              "    <tr>\n",
              "      <th>290</th>\n",
              "      <td>1847.674336</td>\n",
              "      <td>1.040489e+06</td>\n",
              "      <td>285776.402284</td>\n",
              "    </tr>\n",
              "    <tr>\n",
              "      <th>291</th>\n",
              "      <td>1847.674336</td>\n",
              "      <td>1.040489e+06</td>\n",
              "      <td>285776.402284</td>\n",
              "    </tr>\n",
              "  </tbody>\n",
              "</table>\n",
              "<p>292 rows × 3 columns</p>\n",
              "</div>"
            ],
            "text/plain": [
              "      potencia_m  energia_activa  energia_reactiva\n",
              "0    1847.674336    1.040489e+06     285776.402284\n",
              "1     816.094078    3.880260e+05     127895.689320\n",
              "2    1847.674336    1.040489e+06     285776.402284\n",
              "3    1847.674336    1.040489e+06     285776.402284\n",
              "4    1847.674336    1.040489e+06     285776.402284\n",
              "..           ...             ...               ...\n",
              "287  1847.674336    1.040489e+06     285776.402284\n",
              "288  1847.674336    1.040489e+06     285776.402284\n",
              "289  1847.674336    1.040489e+06     285776.402284\n",
              "290  1847.674336    1.040489e+06     285776.402284\n",
              "291  1847.674336    1.040489e+06     285776.402284\n",
              "\n",
              "[292 rows x 3 columns]"
            ]
          },
          "execution_count": 57,
          "metadata": {},
          "output_type": "execute_result"
        }
      ],
      "source": [
        "imputer = KNNImputer(n_neighbors=5)\n",
        "df_imputados = pd.DataFrame(imputer.fit_transform(nulos), columns=nulos.columns)\n",
        "df_imputados"
      ]
    },
    {
      "cell_type": "code",
      "execution_count": 58,
      "metadata": {
        "colab": {
          "base_uri": "https://localhost:8080/",
          "height": 1000
        },
        "collapsed": true,
        "id": "Tgejmu0qu4uy",
        "outputId": "b96560ce-e010-46e8-841b-fdd018f6b5f6"
      },
      "outputs": [
        {
          "name": "stdout",
          "output_type": "stream",
          "text": [
            "Media: 1847.6743363246655\n",
            "Mediana: 116.92922480620156\n",
            "Media: 1040488.8260869565\n",
            "Mediana: 14829.5\n",
            "Media: 285776.4022838836\n",
            "Mediana: 11364.91111111111\n"
          ]
        },
        {
          "data": {
            "image/png": "[encoded data removed]",
            "text/plain": [
              "<Figure size 1000x500 with 1 Axes>"
            ]
          },
          "metadata": {},
          "output_type": "display_data"
        },
        {
          "data": {
            "image/png": "[encoded data removed]",
            "text/plain": [
              "<Figure size 1000x500 with 1 Axes>"
            ]
          },
          "metadata": {},
          "output_type": "display_data"
        },
        {
          "data": {
            "image/png": "[encoded data removed]",
            "text/plain": [
              "<Figure size 1000x500 with 1 Axes>"
            ]
          },
          "metadata": {},
          "output_type": "display_data"
        }
      ],
      "source": [
        "for col in nulos.columns:\n",
        "  plt.figure(figsize=(10, 5))\n",
        "  sns.histplot(nulos[col])\n",
        "  print('Media:',nulos[col].mean())\n",
        "  print('Mediana:', nulos[col].median())"
      ]
    },
    {
      "cell_type": "markdown",
      "metadata": {
        "id": "fFzRtwC33LTc"
      },
      "source": [
        "  3. Unión de los datos imputados en el dataset final"
      ]
    },
    {
      "cell_type": "code",
      "execution_count": 59,
      "metadata": {
        "colab": {
          "base_uri": "https://localhost:8080/",
          "height": 424
        },
        "id": "2Zrjj-pAy70-",
        "outputId": "5914fb77-4185-49e5-fa10-b1ca7855b0b6"
      },
      "outputs": [
        {
          "data": {
            "text/html": [
              "<div>\n",
              "<style scoped>\n",
              "    .dataframe tbody tr th:only-of-type {\n",
              "        vertical-align: middle;\n",
              "    }\n",
              "\n",
              "    .dataframe tbody tr th {\n",
              "        vertical-align: top;\n",
              "    }\n",
              "\n",
              "    .dataframe thead th {\n",
              "        text-align: right;\n",
              "    }\n",
              "</style>\n",
              "<table border=\"1\" class=\"dataframe\">\n",
              "  <thead>\n",
              "    <tr style=\"text-align: right;\">\n",
              "      <th></th>\n",
              "      <th>municipio</th>\n",
              "      <th>velocidad_viento</th>\n",
              "      <th>dias_lluvia</th>\n",
              "      <th>potencia_m</th>\n",
              "      <th>energia_activa</th>\n",
              "      <th>energia_reactiva</th>\n",
              "    </tr>\n",
              "  </thead>\n",
              "  <tbody>\n",
              "    <tr>\n",
              "      <th>0</th>\n",
              "      <td>ABRIAQUÍ</td>\n",
              "      <td>0.800000</td>\n",
              "      <td>200.60</td>\n",
              "      <td>1847.674336</td>\n",
              "      <td>1.040489e+06</td>\n",
              "      <td>285776.402284</td>\n",
              "    </tr>\n",
              "    <tr>\n",
              "      <th>1</th>\n",
              "      <td>ACANDÍ</td>\n",
              "      <td>1.050000</td>\n",
              "      <td>150.50</td>\n",
              "      <td>816.094078</td>\n",
              "      <td>3.880260e+05</td>\n",
              "      <td>127895.689320</td>\n",
              "    </tr>\n",
              "    <tr>\n",
              "      <th>2</th>\n",
              "      <td>ACEVEDO</td>\n",
              "      <td>2.338382</td>\n",
              "      <td>157.65</td>\n",
              "      <td>1847.674336</td>\n",
              "      <td>1.040489e+06</td>\n",
              "      <td>285776.402284</td>\n",
              "    </tr>\n",
              "    <tr>\n",
              "      <th>3</th>\n",
              "      <td>AGUACHICA</td>\n",
              "      <td>1.400000</td>\n",
              "      <td>92.60</td>\n",
              "      <td>1847.674336</td>\n",
              "      <td>1.040489e+06</td>\n",
              "      <td>285776.402284</td>\n",
              "    </tr>\n",
              "    <tr>\n",
              "      <th>4</th>\n",
              "      <td>AGUSTÍN CODAZZI</td>\n",
              "      <td>1.400000</td>\n",
              "      <td>77.95</td>\n",
              "      <td>1847.674336</td>\n",
              "      <td>1.040489e+06</td>\n",
              "      <td>285776.402284</td>\n",
              "    </tr>\n",
              "    <tr>\n",
              "      <th>...</th>\n",
              "      <td>...</td>\n",
              "      <td>...</td>\n",
              "      <td>...</td>\n",
              "      <td>...</td>\n",
              "      <td>...</td>\n",
              "      <td>...</td>\n",
              "    </tr>\n",
              "    <tr>\n",
              "      <th>287</th>\n",
              "      <td>YOLOMBÓ</td>\n",
              "      <td>1.500000</td>\n",
              "      <td>152.30</td>\n",
              "      <td>1847.674336</td>\n",
              "      <td>1.040489e+06</td>\n",
              "      <td>285776.402284</td>\n",
              "    </tr>\n",
              "    <tr>\n",
              "      <th>288</th>\n",
              "      <td>YOPAL</td>\n",
              "      <td>0.900000</td>\n",
              "      <td>149.60</td>\n",
              "      <td>1847.674336</td>\n",
              "      <td>1.040489e+06</td>\n",
              "      <td>285776.402284</td>\n",
              "    </tr>\n",
              "    <tr>\n",
              "      <th>289</th>\n",
              "      <td>ZETAQUIRÁ</td>\n",
              "      <td>0.500000</td>\n",
              "      <td>179.00</td>\n",
              "      <td>1847.674336</td>\n",
              "      <td>1.040489e+06</td>\n",
              "      <td>285776.402284</td>\n",
              "    </tr>\n",
              "    <tr>\n",
              "      <th>290</th>\n",
              "      <td>ZIPAQUIRÁ</td>\n",
              "      <td>2.000000</td>\n",
              "      <td>147.35</td>\n",
              "      <td>1847.674336</td>\n",
              "      <td>1.040489e+06</td>\n",
              "      <td>285776.402284</td>\n",
              "    </tr>\n",
              "    <tr>\n",
              "      <th>291</th>\n",
              "      <td>ZONA BANANERA</td>\n",
              "      <td>1.200000</td>\n",
              "      <td>48.05</td>\n",
              "      <td>1847.674336</td>\n",
              "      <td>1.040489e+06</td>\n",
              "      <td>285776.402284</td>\n",
              "    </tr>\n",
              "  </tbody>\n",
              "</table>\n",
              "<p>292 rows × 6 columns</p>\n",
              "</div>"
            ],
            "text/plain": [
              "           municipio  velocidad_viento  dias_lluvia   potencia_m  \\\n",
              "0           ABRIAQUÍ          0.800000       200.60  1847.674336   \n",
              "1             ACANDÍ          1.050000       150.50   816.094078   \n",
              "2            ACEVEDO          2.338382       157.65  1847.674336   \n",
              "3          AGUACHICA          1.400000        92.60  1847.674336   \n",
              "4    AGUSTÍN CODAZZI          1.400000        77.95  1847.674336   \n",
              "..               ...               ...          ...          ...   \n",
              "287          YOLOMBÓ          1.500000       152.30  1847.674336   \n",
              "288            YOPAL          0.900000       149.60  1847.674336   \n",
              "289        ZETAQUIRÁ          0.500000       179.00  1847.674336   \n",
              "290        ZIPAQUIRÁ          2.000000       147.35  1847.674336   \n",
              "291    ZONA BANANERA          1.200000        48.05  1847.674336   \n",
              "\n",
              "     energia_activa  energia_reactiva  \n",
              "0      1.040489e+06     285776.402284  \n",
              "1      3.880260e+05     127895.689320  \n",
              "2      1.040489e+06     285776.402284  \n",
              "3      1.040489e+06     285776.402284  \n",
              "4      1.040489e+06     285776.402284  \n",
              "..              ...               ...  \n",
              "287    1.040489e+06     285776.402284  \n",
              "288    1.040489e+06     285776.402284  \n",
              "289    1.040489e+06     285776.402284  \n",
              "290    1.040489e+06     285776.402284  \n",
              "291    1.040489e+06     285776.402284  \n",
              "\n",
              "[292 rows x 6 columns]"
            ]
          },
          "execution_count": 59,
          "metadata": {},
          "output_type": "execute_result"
        }
      ],
      "source": [
        "# Unión de los datos de clima y las energías lado a lado sin cambios.\n",
        "df_viabilidad = pd.concat([df_clima, df_imputados], axis=1)\n",
        "df_viabilidad"
      ]
    },
    {
      "cell_type": "code",
      "execution_count": 60,
      "metadata": {
        "colab": {
          "base_uri": "https://localhost:8080/",
          "height": 272
        },
        "id": "K7PoBFoQ2HoS",
        "outputId": "0aeeeb08-5004-4035-8523-625577321690"
      },
      "outputs": [
        {
          "data": {
            "text/plain": [
              "municipio           0\n",
              "velocidad_viento    0\n",
              "dias_lluvia         0\n",
              "potencia_m          0\n",
              "energia_activa      0\n",
              "energia_reactiva    0\n",
              "dtype: int64"
            ]
          },
          "execution_count": 60,
          "metadata": {},
          "output_type": "execute_result"
        }
      ],
      "source": [
        "df_viabilidad.isnull().sum() #Conteo de los datos"
      ]
    },
    {
      "cell_type": "markdown",
      "metadata": {
        "id": "6KuYOUV854aE"
      },
      "source": [
        "Los proyectos de energía renovable, tipo eólico o solar, están fuertemente relacionados por el clima por lo que es posible determinar, prontamente si un municipio cumple con las especificaciones climáticas.\n",
        "\n",
        "Por un lado, un proyecto de energía eólica requiere que haya una velocidad del viento de  mínimo 3,5 m/s. Por el otro lado, un proyecto de energía solar es viable en lugares donde llueva menos de 90 días al año. El tipo solar requiere de muchos más factores que solo los días despejados para determinar su viabilidad, sin embargo, la posición geográfica del país brinda una radiación solar suficiente para que un proyecto de esta clase se dé de manera exitosa con menos de 150 días de lluvia anual."
      ]
    },
    {
      "cell_type": "code",
      "execution_count": 61,
      "metadata": {
        "colab": {
          "base_uri": "https://localhost:8080/",
          "height": 424
        },
        "id": "D4BpX3wsG3p3",
        "outputId": "a34d0ab6-71ab-4dfe-8eb4-959ed3e07840"
      },
      "outputs": [
        {
          "data": {
            "text/html": [
              "<div>\n",
              "<style scoped>\n",
              "    .dataframe tbody tr th:only-of-type {\n",
              "        vertical-align: middle;\n",
              "    }\n",
              "\n",
              "    .dataframe tbody tr th {\n",
              "        vertical-align: top;\n",
              "    }\n",
              "\n",
              "    .dataframe thead th {\n",
              "        text-align: right;\n",
              "    }\n",
              "</style>\n",
              "<table border=\"1\" class=\"dataframe\">\n",
              "  <thead>\n",
              "    <tr style=\"text-align: right;\">\n",
              "      <th></th>\n",
              "      <th>municipio</th>\n",
              "      <th>velocidad_viento</th>\n",
              "      <th>dias_lluvia</th>\n",
              "      <th>potencia_m</th>\n",
              "      <th>energia_activa</th>\n",
              "      <th>energia_reactiva</th>\n",
              "      <th>viabilidad</th>\n",
              "    </tr>\n",
              "  </thead>\n",
              "  <tbody>\n",
              "    <tr>\n",
              "      <th>0</th>\n",
              "      <td>ABRIAQUÍ</td>\n",
              "      <td>0.800000</td>\n",
              "      <td>200.60</td>\n",
              "      <td>1847.674336</td>\n",
              "      <td>1.040489e+06</td>\n",
              "      <td>285776.402284</td>\n",
              "      <td>0</td>\n",
              "    </tr>\n",
              "    <tr>\n",
              "      <th>1</th>\n",
              "      <td>ACANDÍ</td>\n",
              "      <td>1.050000</td>\n",
              "      <td>150.50</td>\n",
              "      <td>816.094078</td>\n",
              "      <td>3.880260e+05</td>\n",
              "      <td>127895.689320</td>\n",
              "      <td>0</td>\n",
              "    </tr>\n",
              "    <tr>\n",
              "      <th>2</th>\n",
              "      <td>ACEVEDO</td>\n",
              "      <td>2.338382</td>\n",
              "      <td>157.65</td>\n",
              "      <td>1847.674336</td>\n",
              "      <td>1.040489e+06</td>\n",
              "      <td>285776.402284</td>\n",
              "      <td>0</td>\n",
              "    </tr>\n",
              "    <tr>\n",
              "      <th>3</th>\n",
              "      <td>AGUACHICA</td>\n",
              "      <td>1.400000</td>\n",
              "      <td>92.60</td>\n",
              "      <td>1847.674336</td>\n",
              "      <td>1.040489e+06</td>\n",
              "      <td>285776.402284</td>\n",
              "      <td>1</td>\n",
              "    </tr>\n",
              "    <tr>\n",
              "      <th>4</th>\n",
              "      <td>AGUSTÍN CODAZZI</td>\n",
              "      <td>1.400000</td>\n",
              "      <td>77.95</td>\n",
              "      <td>1847.674336</td>\n",
              "      <td>1.040489e+06</td>\n",
              "      <td>285776.402284</td>\n",
              "      <td>1</td>\n",
              "    </tr>\n",
              "    <tr>\n",
              "      <th>...</th>\n",
              "      <td>...</td>\n",
              "      <td>...</td>\n",
              "      <td>...</td>\n",
              "      <td>...</td>\n",
              "      <td>...</td>\n",
              "      <td>...</td>\n",
              "      <td>...</td>\n",
              "    </tr>\n",
              "    <tr>\n",
              "      <th>287</th>\n",
              "      <td>YOLOMBÓ</td>\n",
              "      <td>1.500000</td>\n",
              "      <td>152.30</td>\n",
              "      <td>1847.674336</td>\n",
              "      <td>1.040489e+06</td>\n",
              "      <td>285776.402284</td>\n",
              "      <td>0</td>\n",
              "    </tr>\n",
              "    <tr>\n",
              "      <th>288</th>\n",
              "      <td>YOPAL</td>\n",
              "      <td>0.900000</td>\n",
              "      <td>149.60</td>\n",
              "      <td>1847.674336</td>\n",
              "      <td>1.040489e+06</td>\n",
              "      <td>285776.402284</td>\n",
              "      <td>1</td>\n",
              "    </tr>\n",
              "    <tr>\n",
              "      <th>289</th>\n",
              "      <td>ZETAQUIRÁ</td>\n",
              "      <td>0.500000</td>\n",
              "      <td>179.00</td>\n",
              "      <td>1847.674336</td>\n",
              "      <td>1.040489e+06</td>\n",
              "      <td>285776.402284</td>\n",
              "      <td>0</td>\n",
              "    </tr>\n",
              "    <tr>\n",
              "      <th>290</th>\n",
              "      <td>ZIPAQUIRÁ</td>\n",
              "      <td>2.000000</td>\n",
              "      <td>147.35</td>\n",
              "      <td>1847.674336</td>\n",
              "      <td>1.040489e+06</td>\n",
              "      <td>285776.402284</td>\n",
              "      <td>1</td>\n",
              "    </tr>\n",
              "    <tr>\n",
              "      <th>291</th>\n",
              "      <td>ZONA BANANERA</td>\n",
              "      <td>1.200000</td>\n",
              "      <td>48.05</td>\n",
              "      <td>1847.674336</td>\n",
              "      <td>1.040489e+06</td>\n",
              "      <td>285776.402284</td>\n",
              "      <td>1</td>\n",
              "    </tr>\n",
              "  </tbody>\n",
              "</table>\n",
              "<p>292 rows × 7 columns</p>\n",
              "</div>"
            ],
            "text/plain": [
              "           municipio  velocidad_viento  dias_lluvia   potencia_m  \\\n",
              "0           ABRIAQUÍ          0.800000       200.60  1847.674336   \n",
              "1             ACANDÍ          1.050000       150.50   816.094078   \n",
              "2            ACEVEDO          2.338382       157.65  1847.674336   \n",
              "3          AGUACHICA          1.400000        92.60  1847.674336   \n",
              "4    AGUSTÍN CODAZZI          1.400000        77.95  1847.674336   \n",
              "..               ...               ...          ...          ...   \n",
              "287          YOLOMBÓ          1.500000       152.30  1847.674336   \n",
              "288            YOPAL          0.900000       149.60  1847.674336   \n",
              "289        ZETAQUIRÁ          0.500000       179.00  1847.674336   \n",
              "290        ZIPAQUIRÁ          2.000000       147.35  1847.674336   \n",
              "291    ZONA BANANERA          1.200000        48.05  1847.674336   \n",
              "\n",
              "     energia_activa  energia_reactiva  viabilidad  \n",
              "0      1.040489e+06     285776.402284           0  \n",
              "1      3.880260e+05     127895.689320           0  \n",
              "2      1.040489e+06     285776.402284           0  \n",
              "3      1.040489e+06     285776.402284           1  \n",
              "4      1.040489e+06     285776.402284           1  \n",
              "..              ...               ...         ...  \n",
              "287    1.040489e+06     285776.402284           0  \n",
              "288    1.040489e+06     285776.402284           1  \n",
              "289    1.040489e+06     285776.402284           0  \n",
              "290    1.040489e+06     285776.402284           1  \n",
              "291    1.040489e+06     285776.402284           1  \n",
              "\n",
              "[292 rows x 7 columns]"
            ]
          },
          "execution_count": 61,
          "metadata": {},
          "output_type": "execute_result"
        }
      ],
      "source": [
        "#Creación de la variable viabilidad a través del análisis climático de los municipios\n",
        "  #La columna viabilidad responde a 1 si el municipio cumple con las condiciones del clima y 0 si no es así\n",
        "df_viabilidad.loc[:, 'viabilidad'] = ((df_viabilidad['dias_lluvia'] < 150) | (df_viabilidad['velocidad_viento'] > 3.5)).astype(int)\n",
        "df_viabilidad"
      ]
    },
    {
      "cell_type": "code",
      "execution_count": 62,
      "metadata": {
        "colab": {
          "base_uri": "https://localhost:8080/",
          "height": 178
        },
        "id": "x_UxkEcDTz99",
        "outputId": "3fb085fe-268c-4a7a-f053-29667fce24f1"
      },
      "outputs": [
        {
          "data": {
            "text/plain": [
              "viabilidad\n",
              "1    197\n",
              "0     95\n",
              "Name: count, dtype: int64"
            ]
          },
          "execution_count": 62,
          "metadata": {},
          "output_type": "execute_result"
        }
      ],
      "source": [
        "df_viabilidad['viabilidad'].value_counts() #Conteo de los datos de viabilidad"
      ]
    },
    {
      "cell_type": "markdown",
      "metadata": {
        "id": "T7RjFK-f8KKx"
      },
      "source": [
        "# **3. Preprocesamiento de los datos**"
      ]
    },
    {
      "cell_type": "markdown",
      "metadata": {
        "id": "b4RuzX2Z8oB2"
      },
      "source": [
        "Previamente se hizo un scouting de la condicione de los datos, pero ahora se entra más en detalle"
      ]
    },
    {
      "cell_type": "markdown",
      "metadata": {
        "id": "6z92IYQ486nn"
      },
      "source": [
        "**Visualización de las variables**"
      ]
    },
    {
      "cell_type": "code",
      "execution_count": 63,
      "metadata": {
        "colab": {
          "base_uri": "https://localhost:8080/",
          "height": 426
        },
        "id": "Q3dlWoTXji2l",
        "outputId": "1cfc4e58-48ca-4036-f6f9-45567d1898d1"
      },
      "outputs": [
        {
          "data": {
            "text/plain": [
              "<Axes: >"
            ]
          },
          "execution_count": 63,
          "metadata": {},
          "output_type": "execute_result"
        },
        {
          "data": {
            "image/png": "[encoded data removed]",
            "text/plain": [
              "<Figure size 2400x600 with 1 Axes>"
            ]
          },
          "metadata": {},
          "output_type": "display_data"
        }
      ],
      "source": [
        "# Visualización del comportamiento de cada variable\n",
        "plt.figure(figsize=(24, 6))\n",
        "variables = df_viabilidad[['potencia_m', 'energia_activa', 'energia_reactiva', 'dias_lluvia', 'velocidad_viento']]\n",
        "sns.boxplot(variables, whis=3)"
      ]
    },
    {
      "cell_type": "markdown",
      "metadata": {
        "id": "duey3DCJ9rxv"
      },
      "source": [
        "Notémos que los datos presentan comportamientos atípicos que afectarán al modelo por lo que se recomienda hacer un tratamiento y una escalación de los mismos."
      ]
    },
    {
      "cell_type": "code",
      "execution_count": 64,
      "metadata": {
        "colab": {
          "base_uri": "https://localhost:8080/",
          "height": 556
        },
        "id": "9Ggs7w0jfxh4",
        "outputId": "96484cdc-bf49-43fb-a3b1-8e74dadde440"
      },
      "outputs": [
        {
          "data": {
            "text/plain": [
              "<Axes: >"
            ]
          },
          "execution_count": 64,
          "metadata": {},
          "output_type": "execute_result"
        },
        {
          "data": {
            "image/png": "[encoded data removed]",
            "text/plain": [
              "<Figure size 640x480 with 2 Axes>"
            ]
          },
          "metadata": {},
          "output_type": "display_data"
        }
      ],
      "source": [
        "#Evaluación de correlación en el dataset final\n",
        "correlacion = df_viabilidad[['dias_lluvia', 'energia_activa', 'energia_reactiva', 'potencia_m', 'velocidad_viento']].corr()\n",
        "\n",
        "sns.heatmap(correlacion, annot=True, cmap='coolwarm')"
      ]
    },
    {
      "cell_type": "markdown",
      "metadata": {
        "id": "sjm95KCAEaUB"
      },
      "source": [
        "La correlación aquí observada se debe, principalmente al comportamiento de los datos originales. Por otro lado, el tratamiento de imputación hace que sea más homogéneo este comportamiento."
      ]
    },
    {
      "cell_type": "markdown",
      "metadata": {
        "id": "7aYKSPyvho9b"
      },
      "source": [
        "# **4. Entrenamiento del Modelo**\n",
        "\n",
        "Para el caso de estos datos se determinó que la naturaleza del modelo debería ser de clasificación. Este va a evaluar las variables energéticas y climáticas para predecir si un municipio es viable o no para un proyecto de energía renobale"
      ]
    },
    {
      "cell_type": "markdown",
      "metadata": {
        "id": "uF61-k-VFBOv"
      },
      "source": [
        "## Modelo de clasificación NAIVE BAYES\n",
        "---\n",
        "\n",
        "A la par que se crea el modelo también se escalan los datos por medio del RobustScaler(), que nos brinda la facilidad de escalar y tratar los datos atípicos."
      ]
    },
    {
      "cell_type": "code",
      "execution_count": 65,
      "metadata": {
        "id": "0fGmGOk5nX-O"
      },
      "outputs": [],
      "source": [
        "# se separan x de entradas y salida\n",
        "x = df_viabilidad[[ 'energia_activa', 'energia_reactiva', 'dias_lluvia', 'velocidad_viento']]\n",
        "y = df_viabilidad['viabilidad']\n",
        "# Se divide set de entranmiento y prueba\n",
        "x_entrenamiento, x_prueba, y_entrenamiento, y_prueba = train_test_split(x, y, test_size=0.2, random_state=42)\n",
        "# Se utiliza escalador para las x, contiene outliers, no para y por que es 1 y 0\n",
        "escalador = RobustScaler()\n",
        "x_entrenamientox = escalador.fit_transform(x_entrenamiento)\n",
        "x_pruebax = escalador.transform(x_prueba)\n",
        "# Modelo de clasificasio que mejor se ajusto\n",
        "naive_model = MultinomialNB()\n",
        "naive_model.fit(x_entrenamiento, y_entrenamiento)\n",
        "predicciones = naive_model.predict(x_prueba)"
      ]
    },
    {
      "cell_type": "markdown",
      "metadata": {
        "id": "Kxjhrg1BGOcn"
      },
      "source": [
        "# **5. Evaluación del Modelo**\n",
        "\n",
        "La evaluación del modelo se hizo a través de diferentes métricas y herramientas para segurar el correcto funcionamiento del mismo"
      ]
    },
    {
      "cell_type": "markdown",
      "metadata": {
        "id": "bloqBs0BGtyf"
      },
      "source": [
        "**Cross Validation:** #########################"
      ]
    },
    {
      "cell_type": "code",
      "execution_count": 66,
      "metadata": {
        "colab": {
          "base_uri": "https://localhost:8080/"
        },
        "id": "38nBw4QdWdA9",
        "outputId": "878325bb-de66-438b-e0ef-41cb6fdabea1"
      },
      "outputs": [
        {
          "name": "stdout",
          "output_type": "stream",
          "text": [
            "[0.8877551  0.79381443 0.88659794]\n",
            "0.8560558243916123\n"
          ]
        }
      ],
      "source": [
        "#Estas metricas evaluann el modelo y 'x' y 'y' seleccionadas en 3 particiones y dan un puntaje alto.\n",
        "kfold1 = KFold(n_splits=3, shuffle=True, random_state=42)\n",
        "cv_score1 = cross_val_score(naive_model, x, y, cv=kfold1)\n",
        "print(cv_score1)\n",
        "print(cv_score1.mean())"
      ]
    },
    {
      "cell_type": "markdown",
      "metadata": {
        "id": "YxwmL1AKG10B"
      },
      "source": [
        "**Accuracy y Classification report:** ###############################"
      ]
    },
    {
      "cell_type": "code",
      "execution_count": 67,
      "metadata": {
        "colab": {
          "base_uri": "https://localhost:8080/"
        },
        "id": "38kPN5yaJcHn",
        "outputId": "d8f53767-81b2-4055-8d1f-ad1fd463f594"
      },
      "outputs": [
        {
          "name": "stdout",
          "output_type": "stream",
          "text": [
            "              precision    recall  f1-score   support\n",
            "\n",
            "           0       0.76      0.76      0.76        17\n",
            "           1       0.90      0.90      0.90        42\n",
            "\n",
            "    accuracy                           0.86        59\n",
            "   macro avg       0.83      0.83      0.83        59\n",
            "weighted avg       0.86      0.86      0.86        59\n",
            "\n",
            "Accuracy: 0.864406779661017\n"
          ]
        }
      ],
      "source": [
        "print(classification_report(y_prueba, predicciones))\n",
        "print('Accuracy:', accuracy_score(y_prueba, predicciones))\n"
      ]
    },
    {
      "cell_type": "markdown",
      "metadata": {
        "id": "n5MzIJEUHCCn"
      },
      "source": [
        "**Matriz de confusión : ################################"
      ]
    },
    {
      "cell_type": "code",
      "execution_count": 68,
      "metadata": {
        "colab": {
          "base_uri": "https://localhost:8080/"
        },
        "id": "RrZemvqKJ4tG",
        "outputId": "d0633685-3c14-4360-857b-567e6d3c92aa"
      },
      "outputs": [
        {
          "name": "stdout",
          "output_type": "stream",
          "text": [
            "[[13  4]\n",
            " [ 4 38]]\n"
          ]
        }
      ],
      "source": [
        "matriz1 = confusion_matrix(y_prueba, predicciones)\n",
        "print(matriz1)"
      ]
    },
    {
      "cell_type": "code",
      "execution_count": 69,
      "metadata": {
        "colab": {
          "base_uri": "https://localhost:8080/",
          "height": 472
        },
        "id": "rtBhaQpepU8b",
        "outputId": "bdca8e2d-ada0-4b1a-946c-f3a0084546f4"
      },
      "outputs": [
        {
          "data": {
            "image/png": "[encoded data removed]",
            "text/plain": [
              "<Figure size 640x480 with 2 Axes>"
            ]
          },
          "metadata": {},
          "output_type": "display_data"
        }
      ],
      "source": [
        "# Visualización de la matris de confusión\n",
        "labels = ['No viable', 'Viable']\n",
        "\n",
        "sns.heatmap(matriz1, annot=True, fmt='d', cmap='Blues', xticklabels=labels, yticklabels=labels)\n",
        "plt.xlabel('Predicciones')\n",
        "plt.ylabel('Valores reales')\n",
        "plt.title('Matriz de confusión')\n",
        "plt.show()"
      ]
    },
    {
      "cell_type": "markdown",
      "metadata": {
        "id": "LW6xzXcAHPy8"
      },
      "source": [
        "**AUC y Curva ROC:**"
      ]
    },
    {
      "cell_type": "code",
      "execution_count": 70,
      "metadata": {
        "id": "hQNNq3T3PyoP"
      },
      "outputs": [],
      "source": [
        "predicciones = naive_model.predict_proba(x_prueba)[:, 1]"
      ]
    },
    {
      "cell_type": "code",
      "execution_count": 71,
      "metadata": {
        "colab": {
          "base_uri": "https://localhost:8080/"
        },
        "id": "Jsf7SzOXr084",
        "outputId": "8a7a09c0-c309-4c58-dc63-164c9d7343f7"
      },
      "outputs": [
        {
          "name": "stdout",
          "output_type": "stream",
          "text": [
            "AUC: 0.9117647058823528\n"
          ]
        }
      ],
      "source": [
        "fpr, tpr, thresholds = roc_curve(y_prueba, predicciones)\n",
        "auc = roc_auc_score(y_prueba, predicciones)\n",
        "print(f\"AUC: {auc}\")"
      ]
    },
    {
      "cell_type": "code",
      "execution_count": 72,
      "metadata": {
        "colab": {
          "base_uri": "https://localhost:8080/",
          "height": 333
        },
        "id": "TBV-3OoVsahu",
        "outputId": "b4153bf1-046a-4f21-f059-f543ee46bbf4"
      },
      "outputs": [
        {
          "data": {
            "image/png": "[encoded data removed]",
            "text/plain": [
              "<Figure size 800x300 with 1 Axes>"
            ]
          },
          "metadata": {},
          "output_type": "display_data"
        }
      ],
      "source": [
        "plt.figure(figsize=(8, 3))\n",
        "plt.plot(fpr, tpr, color='blue', lw=2, label='Curva ROC' % auc)\n",
        "plt.xlabel('Tasa de Falsos Positivos (FPR)')\n",
        "plt.ylabel('Tasa de Verdaderos Positivos (TPR)')\n",
        "plt.title('Receiver Operating Characteristic (ROC) Curve')\n",
        "plt.legend(loc=\"lower right\")\n",
        "plt.show()"
      ]
    },
    {
      "cell_type": "markdown",
      "metadata": {
        "id": "0RshMVPIHZ4D"
      },
      "source": [
        "**Comportamiento de Residuos:**"
      ]
    },
    {
      "cell_type": "code",
      "execution_count": 73,
      "metadata": {
        "colab": {
          "base_uri": "https://localhost:8080/",
          "height": 333
        },
        "id": "KYju_ZdtzOkZ",
        "outputId": "433bc528-4fca-43df-bac4-f86d2c24d034"
      },
      "outputs": [
        {
          "data": {
            "image/png": "[encoded data removed]",
            "text/plain": [
              "<Figure size 1000x300 with 1 Axes>"
            ]
          },
          "metadata": {},
          "output_type": "display_data"
        }
      ],
      "source": [
        "plt.figure(figsize=(10, 3))\n",
        "residuos = y_prueba - predicciones\n",
        "plt.hist(residuos, bins=20)\n",
        "plt.xlabel(\"Residuos\")\n",
        "plt.ylabel(\"Frecuencia\")\n",
        "plt.title(\"Distribución de los Residuos\")\n",
        "plt.show()"
      ]
    },
    {
      "cell_type": "markdown",
      "metadata": {
        "id": "PGF0DRmzHixx"
      },
      "source": [
        "# **6. Implementación**\n",
        "\n",
        "Se tranforma el modelo en una aplicación amigable para el usuario, con la que este puede obtener información adicional acerca del contexto de la predicción."
      ]
    },
    {
      "cell_type": "markdown",
      "metadata": {
        "id": "h_rAZIj8JEcV"
      },
      "source": [
        "##**Creación de una función de evaluación de viabilidad:**\n",
        "Con esta el usuario puede ingresar un municipio de colombia y este va a arrojaruna predicción basada en la información recopilada"
      ]
    },
    {
      "cell_type": "code",
      "execution_count": 74,
      "metadata": {
        "id": "y0AU-_VDFoC6"
      },
      "outputs": [],
      "source": [
        "def predecir_viabilidad_municipio(municipio, modelo, df_viabilidad):\n",
        "\n",
        "  municipio = municipio.upper()  # Convertir el nombre del municipio a mayúsculas\n",
        "\n",
        "  # Buscar el municipio en el DataFrame\n",
        "  datos_municipio = df_viabilidad[df_viabilidad['municipio'] == municipio]\n",
        "\n",
        "  if datos_municipio.empty:\n",
        "    return f\"No se encuentran datos suficientes para {municipio}\"\n",
        "\n",
        "  # Obtener las características del municipio\n",
        "  caracteristicas = datos_municipio[['energia_activa', 'energia_reactiva', 'dias_lluvia', 'velocidad_viento']]\n",
        "\n",
        "  # Realizar la predicción\n",
        "  prediccion = modelo.predict(caracteristicas)[0]\n",
        "\n",
        "  # Justificación de la predicción\n",
        "  justificacion = \"\"\n",
        "  if prediccion == 1:\n",
        "    justificacion = f\"El municipio {municipio} es viable para proyectos de energía renovable. \"\n",
        "    if datos_municipio['dias_lluvia'].values[0] < 150:\n",
        "      justificacion += \"Se recomienda un proyecto de energía Solar debido a que llueve menos de 150 días al año. \"\n",
        "    elif datos_municipio['velocidad_viento'].values[0] > 3.5:\n",
        "      justificacion += \"Se recomienda un proyecto de energía Eólica debido a que la velocidad promedio del viento es superior al 3.5 m/s.\"\n",
        "    elif datos_municipio['velocidad_viento'].values[0] > 3.5 and datos_municipio['dias_lluvia'].values[0] < 150:\n",
        "      justificacion += \"Los proyectos de energía Solar y Eólico son ideales por condiciones climáticas ideales.\"\n",
        "  else:\n",
        "    justificacion = f\"El municipio {municipio} NO es viable para proyectos de energía renovable. \"\n",
        "    if datos_municipio['dias_lluvia'].values[0] > 150 or datos_municipio['velocidad_viento'].values[0] < 3.5:\n",
        "      justificacion += \"No se recomienda un proyecto de energía Eólica debido a que no existen buenas condiciones climáticas. \"\n",
        "\n",
        "  return justificacion"
      ]
    },
    {
      "cell_type": "markdown",
      "metadata": {
        "id": "R6uTNBcKJrOx"
      },
      "source": [
        "##**Despliegue del modelo:**\n",
        "A través del archivo binarizado es posible crear un aplicativo remoto disponible para los usuarios"
      ]
    },
    {
      "cell_type": "code",
      "execution_count": 76,
      "metadata": {
        "id": "zTl8y1ezGG8g"
      },
      "outputs": [],
      "source": [
        "import pickle\n",
        "with open('modelo.pkl', 'wb') as f:\n",
        "    pickle.dump(naive_model, f)"
      ]
    }
  ],
  "metadata": {
    "colab": {
      "include_colab_link": true,
      "provenance": []
    },
    "kernelspec": {
      "display_name": ".venv",
      "language": "python",
      "name": "python3"
    },
    "language_info": {
      "codemirror_mode": {
        "name": "ipython",
        "version": 3
      },
      "file_extension": ".py",
      "mimetype": "text/x-python",
      "name": "python",
      "nbconvert_exporter": "python",
      "pygments_lexer": "ipython3",
      "version": "3.12.3"
    }
  },
  "nbformat": 4,
  "nbformat_minor": 0
}
